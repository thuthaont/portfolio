{
  "cells": [
    {
      "cell_type": "markdown",
      "metadata": {
        "id": "view-in-github",
        "colab_type": "text"
      },
      "source": [
        "<a href=\"https://colab.research.google.com/github/thuthaont/thuthaont.github.io/blob/main/KPMG_task2.ipynb\" target=\"_parent\"><img src=\"https://colab.research.google.com/assets/colab-badge.svg\" alt=\"Open In Colab\"/></a>"
      ]
    },
    {
      "cell_type": "markdown",
      "id": "c5f67cfe-857e-4e2d-8bbd-db746acc4ca9",
      "metadata": {
        "id": "c5f67cfe-857e-4e2d-8bbd-db746acc4ca9"
      },
      "source": [
        "# <b> <center> <span style=\"color: darkblue; font-size: 1.5em;\"> KPMG Data Analytics Virtual Internship\n",
        "## <b> <center> <span style=\"color: darkblue; font-size: 1.2em;\"> Task 2: Data Insights"
      ]
    },
    {
      "cell_type": "markdown",
      "id": "b3a2cc11-549b-4c7d-8f44-92fe811f146a",
      "metadata": {
        "tags": [],
        "id": "b3a2cc11-549b-4c7d-8f44-92fe811f146a"
      },
      "source": [
        "## <b> <span style=\"color: darkblue; font-size: 1.0em;\"> Contents\n",
        "- Data Exploration\n",
        "- Model Development\n",
        "- Interpretation"
      ]
    },
    {
      "cell_type": "code",
      "execution_count": null,
      "id": "14959282-2936-4b3d-9807-92782b9439a1",
      "metadata": {
        "id": "14959282-2936-4b3d-9807-92782b9439a1"
      },
      "outputs": [],
      "source": [
        "import pandas as pd\n",
        "import numpy as np\n",
        "import seaborn as sns\n",
        "\n",
        "import matplotlib.pyplot as plt\n",
        "import matplotlib.ticker as mtick\n",
        "%matplotlib inline\n",
        "\n",
        "from imblearn.over_sampling import SMOTE\n",
        "\n",
        "from sklearn.ensemble import RandomForestClassifier\n",
        "from sklearn.metrics import (accuracy_score, classification_report, f1_score,\n",
        "                             precision_recall_curve, precision_score,\n",
        "                             recall_score, roc_auc_score, roc_curve, RocCurveDisplay)\n",
        "from sklearn.model_selection import (GridSearchCV, KFold, RandomizedSearchCV,\n",
        "                                     ShuffleSplit, StratifiedKFold,\n",
        "                                     StratifiedShuffleSplit, cross_val_predict,\n",
        "                                     cross_val_score, learning_curve,\n",
        "                                     train_test_split)\n",
        "from sklearn.preprocessing import LabelEncoder\n",
        "from sklearn.tree import DecisionTreeClassifier\n",
        "\n",
        "pd.set_option('display.max_columns', 50)\n",
        "\n",
        "import warnings\n",
        "warnings.filterwarnings(\"ignore\")"
      ]
    },
    {
      "cell_type": "code",
      "execution_count": null,
      "id": "1262952e-8eac-415f-80a9-936a779a280b",
      "metadata": {
        "id": "1262952e-8eac-415f-80a9-936a779a280b"
      },
      "outputs": [],
      "source": [
        "df2 = pd.read_excel('KPMG_task1.xlsx', sheet_name = [0,1,2,3])\n",
        "Transactions = df2[0]\n",
        "NewCustomerList = df2[1]\n",
        "CustomerDemographic = df2[2]\n",
        "CustomerAddress = df2[3]"
      ]
    },
    {
      "cell_type": "markdown",
      "id": "b8913944-5f10-439e-a2c8-de47d4a77493",
      "metadata": {
        "id": "b8913944-5f10-439e-a2c8-de47d4a77493"
      },
      "source": [
        "### 1. Data Exploration "
      ]
    },
    {
      "cell_type": "markdown",
      "id": "6f6be1da-1713-41cd-93a1-8d5ac49f7c88",
      "metadata": {
        "id": "6f6be1da-1713-41cd-93a1-8d5ac49f7c88"
      },
      "source": [
        "#### 1.1. Gender distributions"
      ]
    },
    {
      "cell_type": "code",
      "execution_count": null,
      "id": "4b278996-48cd-4151-bd3d-a2566eb7c057",
      "metadata": {
        "jupyter": {
          "source_hidden": true
        },
        "tags": [],
        "id": "4b278996-48cd-4151-bd3d-a2566eb7c057",
        "outputId": "3f78e5dd-a3de-4936-8f39-fcdbf0fca0b6"
      },
      "outputs": [
        {
          "data": {
            "image/png": "[encoded data removed]",
            "text/plain": [
              "<Figure size 1080x360 with 2 Axes>"
            ]
          },
          "metadata": {},
          "output_type": "display_data"
        }
      ],
      "source": [
        "fig, ax = plt.subplots(1, 2, figsize=(15, 5))\n",
        "palette_color = sns.color_palette('RdBu_r')\n",
        "ax[0].pie(CustomerDemographic['gender'].value_counts(), \n",
        "          labels=CustomerDemographic['gender'].value_counts().index, colors=palette_color,\n",
        "          autopct='%1.1f%%', wedgeprops = { 'linewidth' : 3, 'edgecolor' : 'white' })\n",
        "ax[0].set_title('OLD gender distributions', fontsize = 14)\n",
        "\n",
        "ax[1].pie(NewCustomerList['gender'].value_counts(), \n",
        "          labels=NewCustomerList['gender'].value_counts().index, colors=palette_color,\n",
        "          autopct='%1.1f%%', wedgeprops = { 'linewidth' : 3, 'edgecolor' : 'white' })\n",
        "ax[1].set_title('NEW gender distributions', fontsize = 14)\n",
        "plt.show()"
      ]
    },
    {
      "cell_type": "markdown",
      "id": "ddb978eb-9534-4947-9325-2ca4cedc77b6",
      "metadata": {
        "id": "ddb978eb-9534-4947-9325-2ca4cedc77b6"
      },
      "source": [
        "- The graphs illustrate the proportion of male and female customers in old and new datasets. \n",
        "- Specifically, in both existing and new 1000 customers data, about half of the customers are male while the other half are female.\n",
        "- The number of females is slightly higher than that of males."
      ]
    },
    {
      "cell_type": "markdown",
      "id": "87de65eb-998a-41c0-b604-192053fe4081",
      "metadata": {
        "id": "87de65eb-998a-41c0-b604-192053fe4081"
      },
      "source": [
        "#### 1.2 Age distributions"
      ]
    },
    {
      "cell_type": "code",
      "execution_count": null,
      "id": "5071b81c-66cc-42a3-807f-1f5e12f336ec",
      "metadata": {
        "id": "5071b81c-66cc-42a3-807f-1f5e12f336ec"
      },
      "outputs": [],
      "source": [
        "#create \"age\" column\n",
        "CustomerDemographic['age'] =  2022 - CustomerDemographic['DOB'].dt.year\n",
        "CustomerDemographic.drop(['DOB'], inplace = True, axis = 1)\n",
        "NewCustomerList['age'] =  2022 - NewCustomerList['DOB'].dt.year\n",
        "NewCustomerList.drop(['DOB'], inplace = True, axis = 1)"
      ]
    },
    {
      "cell_type": "code",
      "execution_count": null,
      "id": "255259e4-dd13-4ed5-9062-3688b85d1fa3",
      "metadata": {
        "jupyter": {
          "source_hidden": true
        },
        "tags": [],
        "id": "255259e4-dd13-4ed5-9062-3688b85d1fa3",
        "outputId": "78f19c99-2f85-4a01-f0f7-a5e35d913a69"
      },
      "outputs": [
        {
          "data": {
            "image/png": "[encoded data removed]",
            "text/plain": [
              "<Figure size 1080x360 with 2 Axes>"
            ]
          },
          "metadata": {
            "needs_background": "light"
          },
          "output_type": "display_data"
        }
      ],
      "source": [
        "fig, ax = plt.subplots(1, 2, figsize=(15, 5))\n",
        "sns.histplot(data = CustomerDemographic['age'], color = '#2f528f', ax = ax[0])\n",
        "ax[0].set_ylabel('# Customers', fontsize = 13)\n",
        "ax[0].set_xlabel('Age', fontsize = 13)\n",
        "ax[0].set_title('Number of OLD customers by age', fontsize = 14)\n",
        "sns.histplot(data = NewCustomerList['age'], color = '#2f528f', ax = ax[1]) \n",
        "ax[1].set_ylabel('# Customers', fontsize = 13)\n",
        "ax[1].set_xlabel('Age', fontsize = 13)\n",
        "ax[1].set_title('Number of NEW customers by age', fontsize = 14)\n",
        "plt.show()"
      ]
    },
    {
      "cell_type": "markdown",
      "id": "0f5da37a-6bca-480a-bed1-bfe15d4b114e",
      "metadata": {
        "id": "0f5da37a-6bca-480a-bed1-bfe15d4b114e"
      },
      "source": [
        "As we can see from both graphs, the highest number of customers is in the age between 40 and 50 years old."
      ]
    },
    {
      "cell_type": "code",
      "execution_count": null,
      "id": "49630e3c-97c5-44c7-a7e9-d2f89ab4b4f3",
      "metadata": {
        "id": "49630e3c-97c5-44c7-a7e9-d2f89ab4b4f3"
      },
      "outputs": [],
      "source": [
        "#create \"age_group\" column\n",
        "def ages(x):\n",
        "    if (20 <= x <= 39) :\n",
        "        return 'Adults'\n",
        "    elif (40 <= x <= 59):\n",
        "        return 'Middle-Aged People'\n",
        "    elif (60 <= x): \n",
        "        return 'The Elderly'\n",
        "CustomerDemographic['age_group'] = CustomerDemographic['age'].apply(lambda x: ages(x))\n",
        "NewCustomerList['age_group'] = NewCustomerList['age'].apply(lambda x: ages(x))                                                                    "
      ]
    },
    {
      "cell_type": "code",
      "execution_count": null,
      "id": "8c58cce8-cc25-489d-8600-c69461c2fa15",
      "metadata": {
        "jupyter": {
          "source_hidden": true
        },
        "tags": [],
        "id": "8c58cce8-cc25-489d-8600-c69461c2fa15",
        "outputId": "b95df28e-8343-43d3-f79d-a413298467bc"
      },
      "outputs": [
        {
          "data": {
            "image/png": "[encoded data removed]",
            "text/plain": [
              "<Figure size 1080x360 with 2 Axes>"
            ]
          },
          "metadata": {
            "needs_background": "light"
          },
          "output_type": "display_data"
        }
      ],
      "source": [
        "fig, ax = plt.subplots(1, 2, figsize=(15, 5))\n",
        "sns.countplot(x='age_group', data = CustomerDemographic, color='#2f528f', ax = ax[0])\n",
        "ax[0].bar_label(ax[0].containers[0])\n",
        "ax[0].set_ylabel('# Customers', fontsize = 13)\n",
        "ax[0].set_xlabel('Age Group', fontsize = 13)\n",
        "ax[0].set_title('Number of OLD customers by age group', fontsize = 14)\n",
        "sns.countplot(x='age_group', data = NewCustomerList, color='#2f528f', ax = ax[1])\n",
        "ax[1].bar_label(ax[1].containers[0])\n",
        "ax[1].set_ylabel('# Customers', fontsize = 13)\n",
        "ax[1].set_xlabel('Age Group', fontsize = 13)\n",
        "ax[1].set_title('Number of NEW customers by age group', fontsize = 14)\n",
        "plt.show()"
      ]
    },
    {
      "cell_type": "markdown",
      "id": "24f6fa22-0f5c-457a-a42f-65ba172d67c7",
      "metadata": {
        "id": "24f6fa22-0f5c-457a-a42f-65ba172d67c7"
      },
      "source": [
        "- The group of middle-aged people also makes up the highest proportion in 3 age groups.\n",
        "- However, there is an increase in the number of the elderly in term of percentage in the new dataset."
      ]
    },
    {
      "cell_type": "markdown",
      "id": "cdcb266d-6cc5-49ca-9ff4-c87fe2600078",
      "metadata": {
        "id": "cdcb266d-6cc5-49ca-9ff4-c87fe2600078"
      },
      "source": [
        "#### 1.3. Bike related purchases over the last 3 years "
      ]
    },
    {
      "cell_type": "code",
      "execution_count": null,
      "id": "94078693-d685-497c-b72d-ef3fc89424a9",
      "metadata": {
        "id": "94078693-d685-497c-b72d-ef3fc89424a9",
        "outputId": "03b8a872-8785-4145-be01-35604d72e902"
      },
      "outputs": [
        {
          "name": "stdout",
          "output_type": "stream",
          "text": [
            "5 products that have highest number of purchases by OLD customers in the last 3 years: {19: 55, 16: 55, 20: 53, 67: 52, 2: 50}\n"
          ]
        }
      ],
      "source": [
        "print('5 products that have highest number of purchases by OLD customers in the last 3 years:'\n",
        "      , CustomerDemographic['past_3_years_bike_related_purchases'].value_counts().head(5).to_dict())"
      ]
    },
    {
      "cell_type": "code",
      "execution_count": null,
      "id": "746c5d61-95cd-40ad-8073-2daeb63d6dee",
      "metadata": {
        "id": "746c5d61-95cd-40ad-8073-2daeb63d6dee",
        "outputId": "b96137ef-b17b-432c-b689-bd4315530f6b"
      },
      "outputs": [
        {
          "name": "stdout",
          "output_type": "stream",
          "text": [
            "5 products that have highest number of purchases by NEW customers in the last 3 years: {60: 20, 59: 18, 42: 17, 70: 17, 37: 16}\n"
          ]
        }
      ],
      "source": [
        "print('5 products that have highest number of purchases by NEW customers in the last 3 years:'\n",
        "      , NewCustomerList['past_3_years_bike_related_purchases'].value_counts().head(5).to_dict())"
      ]
    },
    {
      "cell_type": "markdown",
      "id": "e8330759-9807-4384-90d2-668c1c889e3a",
      "metadata": {
        "tags": [],
        "id": "e8330759-9807-4384-90d2-668c1c889e3a"
      },
      "source": [
        "#### 1.4. Job industry category"
      ]
    },
    {
      "cell_type": "code",
      "execution_count": null,
      "id": "6a0c6d25-200e-4414-aa2c-14ba48d4e682",
      "metadata": {
        "jupyter": {
          "source_hidden": true
        },
        "tags": [],
        "id": "6a0c6d25-200e-4414-aa2c-14ba48d4e682",
        "outputId": "5ddbeb41-9b9a-4ce0-ed18-f9c5c4948fb6"
      },
      "outputs": [
        {
          "data": {
            "image/png": "[encoded data removed]",
            "text/plain": [
              "<Figure size 1080x360 with 2 Axes>"
            ]
          },
          "metadata": {
            "needs_background": "light"
          },
          "output_type": "display_data"
        }
      ],
      "source": [
        "fig, ax = plt.subplots(1, 2, figsize=(15, 5))\n",
        "sns.countplot(x='job_industry_category', data = CustomerDemographic, color='#2f528f', ax = ax[0])\n",
        "ax[0].bar_label(ax[0].containers[0])\n",
        "ax[0].set_ylabel('# Customers', fontsize = 13)\n",
        "ax[0].set_xlabel('Job industry category', fontsize = 13)\n",
        "ax[0].set_title('Number of OLD customers by job industry category', fontsize = 14)\n",
        "sns.countplot(x='job_industry_category', data = NewCustomerList, color='#2f528f', ax = ax[1])\n",
        "ax[1].bar_label(ax[1].containers[0])\n",
        "ax[1].set_ylabel('# Customers', fontsize = 13)\n",
        "ax[1].set_xlabel('Job industry category', fontsize = 13)\n",
        "ax[1].set_title('Number of NEW customers by job industry category', fontsize = 14)\n",
        "ax[0].tick_params(labelrotation=90)\n",
        "ax[1].tick_params(labelrotation=90)\n",
        "plt.show()"
      ]
    },
    {
      "cell_type": "markdown",
      "id": "d581741f-625d-4313-a7c6-56af111ff944",
      "metadata": {
        "id": "d581741f-625d-4313-a7c6-56af111ff944"
      },
      "source": [
        "- The majority of our customers are working at Manufacturing and Finance industries.\n",
        "- The order of job industries ranked by number of customers are the same between existing dataset and new one."
      ]
    },
    {
      "cell_type": "markdown",
      "id": "4fba8ad9-dee1-4d97-9aba-7716d29f079b",
      "metadata": {
        "id": "4fba8ad9-dee1-4d97-9aba-7716d29f079b"
      },
      "source": [
        "#### 1.5. Wealth segments"
      ]
    },
    {
      "cell_type": "code",
      "execution_count": null,
      "id": "da3d2c44-fc69-4cf2-9c4f-dc94405cdb3a",
      "metadata": {
        "jupyter": {
          "source_hidden": true
        },
        "tags": [],
        "id": "da3d2c44-fc69-4cf2-9c4f-dc94405cdb3a",
        "outputId": "e5396498-6de9-4dfe-8965-39b65df0378a"
      },
      "outputs": [
        {
          "data": {
            "image/png": "[encoded data removed]",
            "text/plain": [
              "<Figure size 1080x360 with 2 Axes>"
            ]
          },
          "metadata": {
            "needs_background": "light"
          },
          "output_type": "display_data"
        }
      ],
      "source": [
        "fig, ax = plt.subplots(1, 2, figsize=(15, 5))\n",
        "sns.histplot(data = CustomerDemographic, x = 'wealth_segment', hue = 'age_group', discrete=True\n",
        "             , multiple=\"stack\", palette = 'RdBu_r', shrink=.8, ax = ax[0])\n",
        "ax[0].set_ylabel('# Customers', fontsize = 13)\n",
        "ax[0].set_xlabel('Wealth segments', fontsize = 13)\n",
        "ax[0].set_title('OLD Wealth segments by age group', fontsize = 14)\n",
        "for c in ax[0].containers:\n",
        "    labels = [f'{h/CustomerDemographic.age_group.count()*100:0.1f}%' if (h := v.get_height()) > 0 else '' for v in c]\n",
        "    ax[0].bar_label(c, labels=labels, label_type='edge')\n",
        "sns.histplot(data = NewCustomerList, x = 'wealth_segment', hue = 'age_group', discrete=True\n",
        "             , multiple=\"stack\", palette = 'RdBu_r', shrink=.8, ax = ax[1])\n",
        "ax[1].set_ylabel('# Customers', fontsize = 13)\n",
        "ax[1].set_xlabel('Wealth segments', fontsize = 13)\n",
        "ax[1].set_title('NEW Wealth segments by age group', fontsize = 14)\n",
        "for c in ax[1].containers:\n",
        "    labels = [f'{h/NewCustomerList.age_group.count()*100:0.1f}%' if (h := v.get_height()) > 0 else '' for v in c]\n",
        "    ax[1].bar_label(c, labels=labels, label_type='edge')\n",
        "plt.show()"
      ]
    },
    {
      "cell_type": "markdown",
      "id": "68c8f42f-264d-4e9a-ab21-6bcda39649aa",
      "metadata": {
        "id": "68c8f42f-264d-4e9a-ab21-6bcda39649aa"
      },
      "source": [
        "- In all age groups, the number of Mass Customers is the highest, so we should focus on this social class.\n",
        "- Affluent Customer and High Net Worth have quite similar proportions of customers.\n",
        "- In the new dataset, the percentages of elderly people rise by 2 times in all wealth segments."
      ]
    },
    {
      "cell_type": "markdown",
      "id": "9c3d9736-00eb-4ae7-91b3-3a0bd3565510",
      "metadata": {
        "id": "9c3d9736-00eb-4ae7-91b3-3a0bd3565510"
      },
      "source": [
        "#### 1.6. Cars owned on each states"
      ]
    },
    {
      "cell_type": "code",
      "execution_count": null,
      "id": "7711a8a9-8771-4260-981a-41d8551a8431",
      "metadata": {
        "jupyter": {
          "source_hidden": true
        },
        "tags": [],
        "id": "7711a8a9-8771-4260-981a-41d8551a8431"
      },
      "outputs": [],
      "source": [
        "old_dataset = CustomerDemographic.merge(CustomerAddress, how='left', on='customer_id')"
      ]
    },
    {
      "cell_type": "code",
      "execution_count": null,
      "id": "4acbcd5e-d280-4d0f-abf0-8b23d610bb4c",
      "metadata": {
        "jupyter": {
          "source_hidden": true
        },
        "tags": [],
        "id": "4acbcd5e-d280-4d0f-abf0-8b23d610bb4c",
        "outputId": "f2be3891-b2bf-4968-d636-0756b3360d31"
      },
      "outputs": [
        {
          "data": {
            "image/png": "[encoded data removed]",
            "text/plain": [
              "<Figure size 1080x360 with 2 Axes>"
            ]
          },
          "metadata": {
            "needs_background": "light"
          },
          "output_type": "display_data"
        }
      ],
      "source": [
        "fig, ax = plt.subplots(1, 2, figsize=(15, 5))\n",
        "sns.histplot(data = old_dataset, x = 'state', hue = 'owns_car', discrete=True\n",
        "             , multiple=\"stack\", palette = 'RdBu_r', shrink=.8, ax = ax[0])\n",
        "ax[0].set_ylabel('# Customers', fontsize = 13)\n",
        "ax[0].set_xlabel('States', fontsize = 13)\n",
        "ax[0].set_title('OLD cars owned or not in each state', fontsize = 14)\n",
        "for c in ax[0].containers:\n",
        "    labels = [f'{h/old_dataset.owns_car.count()*100:0.1f}%' if (h := v.get_height()) > 0 else '' for v in c]\n",
        "    ax[0].bar_label(c, labels=labels, label_type='edge')\n",
        "sns.histplot(data = NewCustomerList, x = 'state', hue = 'owns_car', discrete=True\n",
        "             , multiple=\"stack\", palette = 'RdBu_r', shrink=.8, ax = ax[1])\n",
        "ax[1].set_ylabel('# Customers', fontsize = 13)\n",
        "ax[1].set_xlabel('States', fontsize = 13)\n",
        "ax[1].set_title('NEW cars owned or not in each state', fontsize = 14)\n",
        "for c in ax[1].containers:\n",
        "    labels = [f'{h/NewCustomerList.owns_car.count()*100:0.1f}%' if (h := v.get_height()) > 0 else '' for v in c]\n",
        "    ax[1].bar_label(c, labels=labels, label_type='edge')\n",
        "plt.show()"
      ]
    },
    {
      "cell_type": "markdown",
      "id": "66f42597-b833-414f-9a5d-caf6ff2692ca",
      "metadata": {
        "id": "66f42597-b833-414f-9a5d-caf6ff2692ca"
      },
      "source": [
        "- The number of customers is highest in New South Wales, followed by Victoria and Queensland respectively.\n",
        "- It can be seen that about half of the customers have cars, while the other half do not.\n",
        "- However, there are fewer New South Wales people owning cars in the new 1000 customers dataset than the old one."
      ]
    },
    {
      "cell_type": "markdown",
      "id": "20676992-9337-4fe8-96bd-1302049b5434",
      "metadata": {
        "id": "20676992-9337-4fe8-96bd-1302049b5434"
      },
      "source": [
        "#### 1.7. RFM analysis and customer classifications"
      ]
    },
    {
      "cell_type": "code",
      "execution_count": null,
      "id": "47785fe6-e438-4510-8e47-aca3a58e48c0",
      "metadata": {
        "id": "47785fe6-e438-4510-8e47-aca3a58e48c0"
      },
      "outputs": [],
      "source": [
        "#create \"profit\" column\n",
        "Transactions['profit'] = Transactions['list_price'] - Transactions['standard_cost']"
      ]
    },
    {
      "cell_type": "code",
      "execution_count": null,
      "id": "293b390c-17a7-471f-871c-7e5a37d4b7a2",
      "metadata": {
        "id": "293b390c-17a7-471f-871c-7e5a37d4b7a2"
      },
      "outputs": [],
      "source": [
        "#create \"recency\" column\n",
        "Transactions['recency'] = Transactions['transaction_date'].apply(lambda x: (Transactions['transaction_date'].max() - x).days)"
      ]
    },
    {
      "cell_type": "code",
      "execution_count": null,
      "id": "3a250174-0bf1-470c-b356-5bae594f49ad",
      "metadata": {
        "tags": [],
        "id": "3a250174-0bf1-470c-b356-5bae594f49ad",
        "outputId": "ef6dc1db-a844-4b4a-fece-070472e70ef8"
      },
      "outputs": [
        {
          "data": {
            "text/html": [
              "<div>\n",
              "<style scoped>\n",
              "    .dataframe tbody tr th:only-of-type {\n",
              "        vertical-align: middle;\n",
              "    }\n",
              "\n",
              "    .dataframe tbody tr th {\n",
              "        vertical-align: top;\n",
              "    }\n",
              "\n",
              "    .dataframe thead th {\n",
              "        text-align: right;\n",
              "    }\n",
              "</style>\n",
              "<table border=\"1\" class=\"dataframe\">\n",
              "  <thead>\n",
              "    <tr style=\"text-align: right;\">\n",
              "      <th></th>\n",
              "      <th>customer_id</th>\n",
              "      <th>recency</th>\n",
              "      <th>frequency</th>\n",
              "      <th>monetary</th>\n",
              "    </tr>\n",
              "  </thead>\n",
              "  <tbody>\n",
              "    <tr>\n",
              "      <th>0</th>\n",
              "      <td>1</td>\n",
              "      <td>7</td>\n",
              "      <td>11</td>\n",
              "      <td>3018.09</td>\n",
              "    </tr>\n",
              "    <tr>\n",
              "      <th>1</th>\n",
              "      <td>2</td>\n",
              "      <td>128</td>\n",
              "      <td>3</td>\n",
              "      <td>2226.26</td>\n",
              "    </tr>\n",
              "    <tr>\n",
              "      <th>2</th>\n",
              "      <td>3</td>\n",
              "      <td>102</td>\n",
              "      <td>8</td>\n",
              "      <td>3362.81</td>\n",
              "    </tr>\n",
              "    <tr>\n",
              "      <th>3</th>\n",
              "      <td>4</td>\n",
              "      <td>195</td>\n",
              "      <td>2</td>\n",
              "      <td>220.57</td>\n",
              "    </tr>\n",
              "    <tr>\n",
              "      <th>4</th>\n",
              "      <td>5</td>\n",
              "      <td>16</td>\n",
              "      <td>6</td>\n",
              "      <td>2394.94</td>\n",
              "    </tr>\n",
              "  </tbody>\n",
              "</table>\n",
              "</div>"
            ],
            "text/plain": [
              "   customer_id  recency  frequency  monetary\n",
              "0            1        7         11   3018.09\n",
              "1            2      128          3   2226.26\n",
              "2            3      102          8   3362.81\n",
              "3            4      195          2    220.57\n",
              "4            5       16          6   2394.94"
            ]
          },
          "execution_count": 7,
          "metadata": {},
          "output_type": "execute_result"
        }
      ],
      "source": [
        "#create \"rfm\" table\n",
        "aggr = {\n",
        "    'recency': lambda x: x.min(),  # the number of days since last order (Recency)\n",
        "    'product_id': lambda x: x.count(), # the total number of products bought in the last period (Frequency)\n",
        "    'profit': lambda x: x.sum()\n",
        "}\n",
        "rfm = Transactions.groupby('customer_id').agg(aggr).reset_index()\n",
        "rfm.rename(columns={'product_id': 'frequency', 'profit': 'monetary'}, inplace=True)\n",
        "rfm.head()"
      ]
    },
    {
      "cell_type": "code",
      "execution_count": null,
      "id": "529965da-93d1-421c-bbb2-53bf19c68e81",
      "metadata": {
        "tags": [],
        "id": "529965da-93d1-421c-bbb2-53bf19c68e81",
        "outputId": "981756f2-9caa-4d10-fd3c-6835e15a60b4"
      },
      "outputs": [
        {
          "data": {
            "text/plain": [
              "{'recency': {0.25: 17.0, 0.5: 44.0, 0.75: 86.0},\n",
              " 'frequency': {0.25: 4.0, 0.5: 6.0, 0.75: 7.0},\n",
              " 'monetary': {0.25: 1841.73, 0.5: 2862.330000000001, 0.75: 4183.81}}"
            ]
          },
          "execution_count": 8,
          "metadata": {},
          "output_type": "execute_result"
        }
      ],
      "source": [
        "quartiles = rfm[['recency', 'frequency', 'monetary']].quantile([.25, .5, .75]).to_dict()\n",
        "quartiles"
      ]
    },
    {
      "cell_type": "code",
      "execution_count": null,
      "id": "22c68aea-9867-4a72-8739-96e22592cda3",
      "metadata": {
        "tags": [],
        "id": "22c68aea-9867-4a72-8739-96e22592cda3"
      },
      "outputs": [],
      "source": [
        "def r_score(x):\n",
        "    if x <= quartiles['recency'][.25]:\n",
        "        return 4\n",
        "    elif x <= quartiles['recency'][.5]:\n",
        "        return 3\n",
        "    elif x <= quartiles['recency'][.75]:\n",
        "        return 2\n",
        "    else:\n",
        "        return 1\n",
        "\n",
        "def fm_score(x, c):\n",
        "    if x <= quartiles[c][.25]:\n",
        "        return 1\n",
        "    elif x <= quartiles[c][.5]:\n",
        "        return 2\n",
        "    elif x <= quartiles[c][.75]:\n",
        "        return 3\n",
        "    else:\n",
        "        return 4    "
      ]
    },
    {
      "cell_type": "code",
      "execution_count": null,
      "id": "bf528d98-7e13-45ea-b3d2-f6c1ba5ed8f3",
      "metadata": {
        "id": "bf528d98-7e13-45ea-b3d2-f6c1ba5ed8f3"
      },
      "outputs": [],
      "source": [
        "rfm['R'] = rfm['recency'].apply(lambda x: r_score(x))\n",
        "rfm['F'] = rfm['frequency'].apply(lambda x: fm_score(x, 'frequency'))\n",
        "rfm['M'] = rfm['monetary'].apply(lambda x: fm_score(x, 'monetary'))"
      ]
    },
    {
      "cell_type": "code",
      "execution_count": null,
      "id": "da7882f6-54ff-4f2f-b512-89614bcceab7",
      "metadata": {
        "id": "da7882f6-54ff-4f2f-b512-89614bcceab7",
        "outputId": "04adce45-4d1c-4d71-fdbc-4f3cb6859c83"
      },
      "outputs": [
        {
          "data": {
            "text/html": [
              "<div>\n",
              "<style scoped>\n",
              "    .dataframe tbody tr th:only-of-type {\n",
              "        vertical-align: middle;\n",
              "    }\n",
              "\n",
              "    .dataframe tbody tr th {\n",
              "        vertical-align: top;\n",
              "    }\n",
              "\n",
              "    .dataframe thead th {\n",
              "        text-align: right;\n",
              "    }\n",
              "</style>\n",
              "<table border=\"1\" class=\"dataframe\">\n",
              "  <thead>\n",
              "    <tr style=\"text-align: right;\">\n",
              "      <th></th>\n",
              "      <th>customer_id</th>\n",
              "      <th>recency</th>\n",
              "      <th>frequency</th>\n",
              "      <th>monetary</th>\n",
              "      <th>R</th>\n",
              "      <th>F</th>\n",
              "      <th>M</th>\n",
              "      <th>RFM Score</th>\n",
              "    </tr>\n",
              "  </thead>\n",
              "  <tbody>\n",
              "    <tr>\n",
              "      <th>0</th>\n",
              "      <td>1</td>\n",
              "      <td>7</td>\n",
              "      <td>11</td>\n",
              "      <td>3018.09</td>\n",
              "      <td>4</td>\n",
              "      <td>4</td>\n",
              "      <td>3</td>\n",
              "      <td>443</td>\n",
              "    </tr>\n",
              "    <tr>\n",
              "      <th>1</th>\n",
              "      <td>2</td>\n",
              "      <td>128</td>\n",
              "      <td>3</td>\n",
              "      <td>2226.26</td>\n",
              "      <td>1</td>\n",
              "      <td>1</td>\n",
              "      <td>2</td>\n",
              "      <td>112</td>\n",
              "    </tr>\n",
              "    <tr>\n",
              "      <th>2</th>\n",
              "      <td>3</td>\n",
              "      <td>102</td>\n",
              "      <td>8</td>\n",
              "      <td>3362.81</td>\n",
              "      <td>1</td>\n",
              "      <td>4</td>\n",
              "      <td>3</td>\n",
              "      <td>143</td>\n",
              "    </tr>\n",
              "    <tr>\n",
              "      <th>3</th>\n",
              "      <td>4</td>\n",
              "      <td>195</td>\n",
              "      <td>2</td>\n",
              "      <td>220.57</td>\n",
              "      <td>1</td>\n",
              "      <td>1</td>\n",
              "      <td>1</td>\n",
              "      <td>111</td>\n",
              "    </tr>\n",
              "    <tr>\n",
              "      <th>4</th>\n",
              "      <td>5</td>\n",
              "      <td>16</td>\n",
              "      <td>6</td>\n",
              "      <td>2394.94</td>\n",
              "      <td>4</td>\n",
              "      <td>2</td>\n",
              "      <td>2</td>\n",
              "      <td>422</td>\n",
              "    </tr>\n",
              "  </tbody>\n",
              "</table>\n",
              "</div>"
            ],
            "text/plain": [
              "   customer_id  recency  frequency  monetary  R  F  M  RFM Score\n",
              "0            1        7         11   3018.09  4  4  3        443\n",
              "1            2      128          3   2226.26  1  1  2        112\n",
              "2            3      102          8   3362.81  1  4  3        143\n",
              "3            4      195          2    220.57  1  1  1        111\n",
              "4            5       16          6   2394.94  4  2  2        422"
            ]
          },
          "execution_count": 11,
          "metadata": {},
          "output_type": "execute_result"
        }
      ],
      "source": [
        "rfm['RFM Score'] = rfm['R'].map(str) + rfm['F'].map(str) + rfm['M'].map(str)\n",
        "rfm['RFM Score'] = pd.to_numeric(rfm['RFM Score'], errors='coerce')\n",
        "rfm.head()"
      ]
    },
    {
      "cell_type": "code",
      "execution_count": null,
      "id": "5d88086d-1939-4056-82af-56c03d836677",
      "metadata": {
        "tags": [],
        "id": "5d88086d-1939-4056-82af-56c03d836677",
        "outputId": "9436d05c-c908-4424-ea1b-e231ffccc021"
      },
      "outputs": [
        {
          "data": {
            "text/plain": [
              "{'RFM Score': {0.25: 211.0, 0.5: 311.0, 0.75: 411.0}}"
            ]
          },
          "execution_count": 12,
          "metadata": {},
          "output_type": "execute_result"
        }
      ],
      "source": [
        "quartiles_segment = rfm[['RFM Score']].quantile([.25, .5, .75]).to_dict()\n",
        "quartiles_segment"
      ]
    },
    {
      "cell_type": "code",
      "execution_count": null,
      "id": "40b33357-94ed-4003-b41e-0cf12fece99f",
      "metadata": {
        "tags": [],
        "id": "40b33357-94ed-4003-b41e-0cf12fece99f"
      },
      "outputs": [],
      "source": [
        "def segment(x):\n",
        "    if x <= quartiles_segment['RFM Score'][.25]:\n",
        "        return 'Bronze Customer'\n",
        "    elif x <= quartiles_segment['RFM Score'][.5]:\n",
        "        return 'Silver Customer'\n",
        "    elif x <= quartiles_segment['RFM Score'][.75]:\n",
        "        return 'Gold Customer'\n",
        "    else:\n",
        "        return 'Platinum Customer'"
      ]
    },
    {
      "cell_type": "code",
      "execution_count": null,
      "id": "e7b94e62-0bc4-4a55-9a25-66fbbfaccdc5",
      "metadata": {
        "id": "e7b94e62-0bc4-4a55-9a25-66fbbfaccdc5",
        "outputId": "a4c0c20b-d873-4d67-f697-adccf76565b6"
      },
      "outputs": [
        {
          "data": {
            "text/html": [
              "<div>\n",
              "<style scoped>\n",
              "    .dataframe tbody tr th:only-of-type {\n",
              "        vertical-align: middle;\n",
              "    }\n",
              "\n",
              "    .dataframe tbody tr th {\n",
              "        vertical-align: top;\n",
              "    }\n",
              "\n",
              "    .dataframe thead th {\n",
              "        text-align: right;\n",
              "    }\n",
              "</style>\n",
              "<table border=\"1\" class=\"dataframe\">\n",
              "  <thead>\n",
              "    <tr style=\"text-align: right;\">\n",
              "      <th></th>\n",
              "      <th>customer_id</th>\n",
              "      <th>recency</th>\n",
              "      <th>frequency</th>\n",
              "      <th>monetary</th>\n",
              "      <th>R</th>\n",
              "      <th>F</th>\n",
              "      <th>M</th>\n",
              "      <th>RFM Score</th>\n",
              "      <th>Segment</th>\n",
              "    </tr>\n",
              "  </thead>\n",
              "  <tbody>\n",
              "    <tr>\n",
              "      <th>0</th>\n",
              "      <td>1</td>\n",
              "      <td>7</td>\n",
              "      <td>11</td>\n",
              "      <td>3018.09</td>\n",
              "      <td>4</td>\n",
              "      <td>4</td>\n",
              "      <td>3</td>\n",
              "      <td>443</td>\n",
              "      <td>Platinum Customer</td>\n",
              "    </tr>\n",
              "    <tr>\n",
              "      <th>1</th>\n",
              "      <td>2</td>\n",
              "      <td>128</td>\n",
              "      <td>3</td>\n",
              "      <td>2226.26</td>\n",
              "      <td>1</td>\n",
              "      <td>1</td>\n",
              "      <td>2</td>\n",
              "      <td>112</td>\n",
              "      <td>Bronze Customer</td>\n",
              "    </tr>\n",
              "    <tr>\n",
              "      <th>2</th>\n",
              "      <td>3</td>\n",
              "      <td>102</td>\n",
              "      <td>8</td>\n",
              "      <td>3362.81</td>\n",
              "      <td>1</td>\n",
              "      <td>4</td>\n",
              "      <td>3</td>\n",
              "      <td>143</td>\n",
              "      <td>Bronze Customer</td>\n",
              "    </tr>\n",
              "    <tr>\n",
              "      <th>3</th>\n",
              "      <td>4</td>\n",
              "      <td>195</td>\n",
              "      <td>2</td>\n",
              "      <td>220.57</td>\n",
              "      <td>1</td>\n",
              "      <td>1</td>\n",
              "      <td>1</td>\n",
              "      <td>111</td>\n",
              "      <td>Bronze Customer</td>\n",
              "    </tr>\n",
              "    <tr>\n",
              "      <th>4</th>\n",
              "      <td>5</td>\n",
              "      <td>16</td>\n",
              "      <td>6</td>\n",
              "      <td>2394.94</td>\n",
              "      <td>4</td>\n",
              "      <td>2</td>\n",
              "      <td>2</td>\n",
              "      <td>422</td>\n",
              "      <td>Platinum Customer</td>\n",
              "    </tr>\n",
              "  </tbody>\n",
              "</table>\n",
              "</div>"
            ],
            "text/plain": [
              "   customer_id  recency  frequency  monetary  R  F  M  RFM Score  \\\n",
              "0            1        7         11   3018.09  4  4  3        443   \n",
              "1            2      128          3   2226.26  1  1  2        112   \n",
              "2            3      102          8   3362.81  1  4  3        143   \n",
              "3            4      195          2    220.57  1  1  1        111   \n",
              "4            5       16          6   2394.94  4  2  2        422   \n",
              "\n",
              "             Segment  \n",
              "0  Platinum Customer  \n",
              "1    Bronze Customer  \n",
              "2    Bronze Customer  \n",
              "3    Bronze Customer  \n",
              "4  Platinum Customer  "
            ]
          },
          "execution_count": 14,
          "metadata": {},
          "output_type": "execute_result"
        }
      ],
      "source": [
        "rfm['Segment'] = rfm['RFM Score'].apply(lambda x: segment(x))\n",
        "rfm.head()"
      ]
    },
    {
      "cell_type": "code",
      "execution_count": null,
      "id": "cd4c8c12-23cd-43ca-b7e8-c06107e1daa4",
      "metadata": {
        "jupyter": {
          "source_hidden": true
        },
        "tags": [],
        "id": "cd4c8c12-23cd-43ca-b7e8-c06107e1daa4",
        "outputId": "a5adb819-f81e-4abb-84cb-314603d47336"
      },
      "outputs": [
        {
          "data": {
            "image/png": "[encoded data removed]",
            "text/plain": [
              "<Figure size 504x360 with 1 Axes>"
            ]
          },
          "metadata": {
            "needs_background": "light"
          },
          "output_type": "display_data"
        }
      ],
      "source": [
        "ax = (rfm['Segment'].value_counts()*100.0 /len(rfm)).plot(kind='bar', stacked = True, rot = 0, color = '#2f528f', figsize = (7,5))\n",
        "\n",
        "ax.yaxis.set_major_formatter(mtick.PercentFormatter())\n",
        "ax.set_ylabel('% Customers', fontsize = 13)\n",
        "ax.set_xlabel('Customer Group', fontsize = 13)\n",
        "ax.set_title('Customer Classification Rate', fontsize = 14)\n",
        "\n",
        "totals = []\n",
        "for i in ax.patches:\n",
        "    totals.append(i.get_width())\n",
        "total = sum(totals)\n",
        "for i in ax.patches:\n",
        "    # get_width pulls left or right; get_y pushes up or down\n",
        "    ax.text(i.get_x()+.05, i.get_height()-2.0, \\\n",
        "            str(round((i.get_height()/total), 1))+'%', fontsize=12, color='white', weight = 'bold')"
      ]
    },
    {
      "cell_type": "markdown",
      "id": "e9df4a26-24d9-46f1-8f94-25bbf947ef34",
      "metadata": {
        "id": "e9df4a26-24d9-46f1-8f94-25bbf947ef34"
      },
      "source": [
        "- We segment customers who have already had prior transactions into 4 groups: Platinum, Gold, Silver and Gold Customer.\n",
        "- Platinum customers will drive the highest profit to the company, however, this group marks up the lowest percent.\n",
        "- We will consider Platinum and Gold customers as potential customers to be targeted in the next marketing campaign and use this result to train model in the next part."
      ]
    },
    {
      "cell_type": "markdown",
      "id": "5c3537ed-fe2d-428f-8e65-ae2e412794e6",
      "metadata": {
        "id": "5c3537ed-fe2d-428f-8e65-ae2e412794e6"
      },
      "source": [
        "### 2. Model Development"
      ]
    },
    {
      "cell_type": "markdown",
      "id": "f4985cbb-5783-4992-8216-01627053c5ea",
      "metadata": {
        "id": "f4985cbb-5783-4992-8216-01627053c5ea"
      },
      "source": [
        "#### Data preprosessing"
      ]
    },
    {
      "cell_type": "code",
      "execution_count": null,
      "id": "21bd25e8-7277-4f41-9370-d520222435fb",
      "metadata": {
        "id": "21bd25e8-7277-4f41-9370-d520222435fb"
      },
      "outputs": [],
      "source": [
        "old_dataset = old_dataset.merge(rfm, how='left', on='customer_id')"
      ]
    },
    {
      "cell_type": "code",
      "execution_count": null,
      "id": "abf4e442-4a2d-4a36-801f-9ae5cc75056e",
      "metadata": {
        "id": "abf4e442-4a2d-4a36-801f-9ae5cc75056e"
      },
      "outputs": [],
      "source": [
        "#create \"target\" column\n",
        "def target(x):\n",
        "    if (x == 'Platinum Customer') | (x == 'Gold Customer'):\n",
        "        return 1\n",
        "    else:\n",
        "        return 0\n",
        "old_dataset['target'] = old_dataset['Segment'].apply(lambda x: target(x))"
      ]
    },
    {
      "cell_type": "code",
      "execution_count": null,
      "id": "19c5943f-0853-451b-88d6-76083898c3eb",
      "metadata": {
        "id": "19c5943f-0853-451b-88d6-76083898c3eb",
        "outputId": "15e6a420-fe60-4b16-ac7f-2bde93721c5a"
      },
      "outputs": [
        {
          "data": {
            "text/html": [
              "<div>\n",
              "<style scoped>\n",
              "    .dataframe tbody tr th:only-of-type {\n",
              "        vertical-align: middle;\n",
              "    }\n",
              "\n",
              "    .dataframe tbody tr th {\n",
              "        vertical-align: top;\n",
              "    }\n",
              "\n",
              "    .dataframe thead th {\n",
              "        text-align: right;\n",
              "    }\n",
              "</style>\n",
              "<table border=\"1\" class=\"dataframe\">\n",
              "  <thead>\n",
              "    <tr style=\"text-align: right;\">\n",
              "      <th></th>\n",
              "      <th>gender</th>\n",
              "      <th>past_3_years_bike_related_purchases</th>\n",
              "      <th>job_title</th>\n",
              "      <th>job_industry_category</th>\n",
              "      <th>wealth_segment</th>\n",
              "      <th>owns_car</th>\n",
              "      <th>tenure</th>\n",
              "      <th>age</th>\n",
              "      <th>postcode</th>\n",
              "      <th>state</th>\n",
              "      <th>property_valuation</th>\n",
              "      <th>target</th>\n",
              "    </tr>\n",
              "  </thead>\n",
              "  <tbody>\n",
              "    <tr>\n",
              "      <th>0</th>\n",
              "      <td>Female</td>\n",
              "      <td>93</td>\n",
              "      <td>Executive Secretary</td>\n",
              "      <td>Health</td>\n",
              "      <td>Mass Customer</td>\n",
              "      <td>Yes</td>\n",
              "      <td>11</td>\n",
              "      <td>69</td>\n",
              "      <td>2016.0</td>\n",
              "      <td>NSW</td>\n",
              "      <td>10.0</td>\n",
              "      <td>1</td>\n",
              "    </tr>\n",
              "    <tr>\n",
              "      <th>1</th>\n",
              "      <td>Male</td>\n",
              "      <td>81</td>\n",
              "      <td>Administrative Officer</td>\n",
              "      <td>Financial Services</td>\n",
              "      <td>Mass Customer</td>\n",
              "      <td>Yes</td>\n",
              "      <td>16</td>\n",
              "      <td>42</td>\n",
              "      <td>2153.0</td>\n",
              "      <td>NSW</td>\n",
              "      <td>10.0</td>\n",
              "      <td>0</td>\n",
              "    </tr>\n",
              "    <tr>\n",
              "      <th>2</th>\n",
              "      <td>Male</td>\n",
              "      <td>61</td>\n",
              "      <td>Recruiting Manager</td>\n",
              "      <td>Property</td>\n",
              "      <td>Mass Customer</td>\n",
              "      <td>Yes</td>\n",
              "      <td>15</td>\n",
              "      <td>68</td>\n",
              "      <td>NaN</td>\n",
              "      <td>NaN</td>\n",
              "      <td>NaN</td>\n",
              "      <td>0</td>\n",
              "    </tr>\n",
              "    <tr>\n",
              "      <th>3</th>\n",
              "      <td>Male</td>\n",
              "      <td>33</td>\n",
              "      <td>Recruiting Manager</td>\n",
              "      <td>IT</td>\n",
              "      <td>Mass Customer</td>\n",
              "      <td>No</td>\n",
              "      <td>7</td>\n",
              "      <td>61</td>\n",
              "      <td>4211.0</td>\n",
              "      <td>QLD</td>\n",
              "      <td>9.0</td>\n",
              "      <td>0</td>\n",
              "    </tr>\n",
              "    <tr>\n",
              "      <th>4</th>\n",
              "      <td>Female</td>\n",
              "      <td>56</td>\n",
              "      <td>Senior Editor</td>\n",
              "      <td>IT</td>\n",
              "      <td>Affluent Customer</td>\n",
              "      <td>Yes</td>\n",
              "      <td>8</td>\n",
              "      <td>45</td>\n",
              "      <td>2448.0</td>\n",
              "      <td>NSW</td>\n",
              "      <td>4.0</td>\n",
              "      <td>1</td>\n",
              "    </tr>\n",
              "  </tbody>\n",
              "</table>\n",
              "</div>"
            ],
            "text/plain": [
              "   gender  past_3_years_bike_related_purchases               job_title  \\\n",
              "0  Female                                   93     Executive Secretary   \n",
              "1    Male                                   81  Administrative Officer   \n",
              "2    Male                                   61      Recruiting Manager   \n",
              "3    Male                                   33      Recruiting Manager   \n",
              "4  Female                                   56           Senior Editor   \n",
              "\n",
              "  job_industry_category     wealth_segment owns_car  tenure  age  postcode  \\\n",
              "0                Health      Mass Customer      Yes      11   69    2016.0   \n",
              "1    Financial Services      Mass Customer      Yes      16   42    2153.0   \n",
              "2              Property      Mass Customer      Yes      15   68       NaN   \n",
              "3                    IT      Mass Customer       No       7   61    4211.0   \n",
              "4                    IT  Affluent Customer      Yes       8   45    2448.0   \n",
              "\n",
              "  state  property_valuation  target  \n",
              "0   NSW                10.0       1  \n",
              "1   NSW                10.0       0  \n",
              "2   NaN                 NaN       0  \n",
              "3   QLD                 9.0       0  \n",
              "4   NSW                 4.0       1  "
            ]
          },
          "execution_count": 27,
          "metadata": {},
          "output_type": "execute_result"
        }
      ],
      "source": [
        "#drop some unneccessary columns\n",
        "old_dataset.drop(['customer_id', 'recency', 'frequency', 'monetary', 'R', 'F', 'M', 'RFM Score', 'Segment',\n",
        "                 'deceased_indicator', 'age_group', 'country', 'name', 'address'], inplace = True, axis = 1)\n",
        "old_dataset.head()"
      ]
    },
    {
      "cell_type": "code",
      "execution_count": null,
      "id": "4fe3db72-c44b-47fa-b515-f9254526a484",
      "metadata": {
        "id": "4fe3db72-c44b-47fa-b515-f9254526a484"
      },
      "outputs": [],
      "source": [
        "#remove missing values\n",
        "old_dataset.dropna(inplace=True)\n",
        "old_dataset.reset_index(drop=True, inplace=True)"
      ]
    },
    {
      "cell_type": "code",
      "execution_count": null,
      "id": "c40b315a-3085-4460-8fed-3d0a9d050984",
      "metadata": {
        "tags": [],
        "id": "c40b315a-3085-4460-8fed-3d0a9d050984",
        "outputId": "0908e81f-053d-4965-e779-e76d575d69d7"
      },
      "outputs": [
        {
          "data": {
            "text/html": [
              "<div>\n",
              "<style scoped>\n",
              "    .dataframe tbody tr th:only-of-type {\n",
              "        vertical-align: middle;\n",
              "    }\n",
              "\n",
              "    .dataframe tbody tr th {\n",
              "        vertical-align: top;\n",
              "    }\n",
              "\n",
              "    .dataframe thead th {\n",
              "        text-align: right;\n",
              "    }\n",
              "</style>\n",
              "<table border=\"1\" class=\"dataframe\">\n",
              "  <thead>\n",
              "    <tr style=\"text-align: right;\">\n",
              "      <th></th>\n",
              "      <th>gender</th>\n",
              "      <th>past_3_years_bike_related_purchases</th>\n",
              "      <th>job_title</th>\n",
              "      <th>job_industry_category</th>\n",
              "      <th>wealth_segment</th>\n",
              "      <th>owns_car</th>\n",
              "      <th>tenure</th>\n",
              "      <th>age</th>\n",
              "      <th>postcode</th>\n",
              "      <th>state</th>\n",
              "      <th>property_valuation</th>\n",
              "      <th>target</th>\n",
              "    </tr>\n",
              "  </thead>\n",
              "  <tbody>\n",
              "    <tr>\n",
              "      <th>0</th>\n",
              "      <td>0</td>\n",
              "      <td>93</td>\n",
              "      <td>71</td>\n",
              "      <td>3</td>\n",
              "      <td>2</td>\n",
              "      <td>1</td>\n",
              "      <td>11</td>\n",
              "      <td>69</td>\n",
              "      <td>2016.0</td>\n",
              "      <td>0</td>\n",
              "      <td>10.0</td>\n",
              "      <td>1</td>\n",
              "    </tr>\n",
              "    <tr>\n",
              "      <th>1</th>\n",
              "      <td>1</td>\n",
              "      <td>81</td>\n",
              "      <td>19</td>\n",
              "      <td>2</td>\n",
              "      <td>2</td>\n",
              "      <td>1</td>\n",
              "      <td>16</td>\n",
              "      <td>42</td>\n",
              "      <td>2153.0</td>\n",
              "      <td>0</td>\n",
              "      <td>10.0</td>\n",
              "      <td>0</td>\n",
              "    </tr>\n",
              "    <tr>\n",
              "      <th>2</th>\n",
              "      <td>1</td>\n",
              "      <td>33</td>\n",
              "      <td>133</td>\n",
              "      <td>4</td>\n",
              "      <td>2</td>\n",
              "      <td>0</td>\n",
              "      <td>7</td>\n",
              "      <td>61</td>\n",
              "      <td>4211.0</td>\n",
              "      <td>1</td>\n",
              "      <td>9.0</td>\n",
              "      <td>0</td>\n",
              "    </tr>\n",
              "    <tr>\n",
              "      <th>3</th>\n",
              "      <td>0</td>\n",
              "      <td>56</td>\n",
              "      <td>149</td>\n",
              "      <td>4</td>\n",
              "      <td>0</td>\n",
              "      <td>1</td>\n",
              "      <td>8</td>\n",
              "      <td>45</td>\n",
              "      <td>2448.0</td>\n",
              "      <td>0</td>\n",
              "      <td>4.0</td>\n",
              "      <td>1</td>\n",
              "    </tr>\n",
              "    <tr>\n",
              "      <th>4</th>\n",
              "      <td>1</td>\n",
              "      <td>35</td>\n",
              "      <td>149</td>\n",
              "      <td>7</td>\n",
              "      <td>1</td>\n",
              "      <td>1</td>\n",
              "      <td>13</td>\n",
              "      <td>56</td>\n",
              "      <td>3216.0</td>\n",
              "      <td>2</td>\n",
              "      <td>9.0</td>\n",
              "      <td>0</td>\n",
              "    </tr>\n",
              "    <tr>\n",
              "      <th>...</th>\n",
              "      <td>...</td>\n",
              "      <td>...</td>\n",
              "      <td>...</td>\n",
              "      <td>...</td>\n",
              "      <td>...</td>\n",
              "      <td>...</td>\n",
              "      <td>...</td>\n",
              "      <td>...</td>\n",
              "      <td>...</td>\n",
              "      <td>...</td>\n",
              "      <td>...</td>\n",
              "      <td>...</td>\n",
              "    </tr>\n",
              "    <tr>\n",
              "      <th>3901</th>\n",
              "      <td>1</td>\n",
              "      <td>93</td>\n",
              "      <td>168</td>\n",
              "      <td>5</td>\n",
              "      <td>2</td>\n",
              "      <td>1</td>\n",
              "      <td>14</td>\n",
              "      <td>47</td>\n",
              "      <td>2088.0</td>\n",
              "      <td>0</td>\n",
              "      <td>12.0</td>\n",
              "      <td>0</td>\n",
              "    </tr>\n",
              "    <tr>\n",
              "      <th>3902</th>\n",
              "      <td>0</td>\n",
              "      <td>8</td>\n",
              "      <td>184</td>\n",
              "      <td>3</td>\n",
              "      <td>2</td>\n",
              "      <td>0</td>\n",
              "      <td>19</td>\n",
              "      <td>47</td>\n",
              "      <td>3977.0</td>\n",
              "      <td>2</td>\n",
              "      <td>6.0</td>\n",
              "      <td>0</td>\n",
              "    </tr>\n",
              "    <tr>\n",
              "      <th>3903</th>\n",
              "      <td>0</td>\n",
              "      <td>87</td>\n",
              "      <td>170</td>\n",
              "      <td>5</td>\n",
              "      <td>1</td>\n",
              "      <td>1</td>\n",
              "      <td>1</td>\n",
              "      <td>21</td>\n",
              "      <td>2350.0</td>\n",
              "      <td>0</td>\n",
              "      <td>2.0</td>\n",
              "      <td>0</td>\n",
              "    </tr>\n",
              "    <tr>\n",
              "      <th>3904</th>\n",
              "      <td>1</td>\n",
              "      <td>11</td>\n",
              "      <td>170</td>\n",
              "      <td>5</td>\n",
              "      <td>0</td>\n",
              "      <td>1</td>\n",
              "      <td>10</td>\n",
              "      <td>49</td>\n",
              "      <td>3064.0</td>\n",
              "      <td>2</td>\n",
              "      <td>3.0</td>\n",
              "      <td>0</td>\n",
              "    </tr>\n",
              "    <tr>\n",
              "      <th>3905</th>\n",
              "      <td>1</td>\n",
              "      <td>76</td>\n",
              "      <td>158</td>\n",
              "      <td>5</td>\n",
              "      <td>0</td>\n",
              "      <td>0</td>\n",
              "      <td>11</td>\n",
              "      <td>31</td>\n",
              "      <td>4511.0</td>\n",
              "      <td>1</td>\n",
              "      <td>6.0</td>\n",
              "      <td>0</td>\n",
              "    </tr>\n",
              "  </tbody>\n",
              "</table>\n",
              "<p>3906 rows × 12 columns</p>\n",
              "</div>"
            ],
            "text/plain": [
              "      gender  past_3_years_bike_related_purchases  job_title  \\\n",
              "0          0                                   93         71   \n",
              "1          1                                   81         19   \n",
              "2          1                                   33        133   \n",
              "3          0                                   56        149   \n",
              "4          1                                   35        149   \n",
              "...      ...                                  ...        ...   \n",
              "3901       1                                   93        168   \n",
              "3902       0                                    8        184   \n",
              "3903       0                                   87        170   \n",
              "3904       1                                   11        170   \n",
              "3905       1                                   76        158   \n",
              "\n",
              "      job_industry_category  wealth_segment  owns_car  tenure  age  postcode  \\\n",
              "0                         3               2         1      11   69    2016.0   \n",
              "1                         2               2         1      16   42    2153.0   \n",
              "2                         4               2         0       7   61    4211.0   \n",
              "3                         4               0         1       8   45    2448.0   \n",
              "4                         7               1         1      13   56    3216.0   \n",
              "...                     ...             ...       ...     ...  ...       ...   \n",
              "3901                      5               2         1      14   47    2088.0   \n",
              "3902                      3               2         0      19   47    3977.0   \n",
              "3903                      5               1         1       1   21    2350.0   \n",
              "3904                      5               0         1      10   49    3064.0   \n",
              "3905                      5               0         0      11   31    4511.0   \n",
              "\n",
              "      state  property_valuation  target  \n",
              "0         0                10.0       1  \n",
              "1         0                10.0       0  \n",
              "2         1                 9.0       0  \n",
              "3         0                 4.0       1  \n",
              "4         2                 9.0       0  \n",
              "...     ...                 ...     ...  \n",
              "3901      0                12.0       0  \n",
              "3902      2                 6.0       0  \n",
              "3903      0                 2.0       0  \n",
              "3904      2                 3.0       0  \n",
              "3905      1                 6.0       0  \n",
              "\n",
              "[3906 rows x 12 columns]"
            ]
          },
          "execution_count": 29,
          "metadata": {},
          "output_type": "execute_result"
        }
      ],
      "source": [
        "#transform categorical variables into columns with numerical values by label encoding\n",
        "le = LabelEncoder()\n",
        "old_dataset['gender'] = le.fit_transform(old_dataset['gender'])\n",
        "old_dataset['job_title'] = le.fit_transform(old_dataset['job_title'])\n",
        "old_dataset['job_industry_category'] = le.fit_transform(old_dataset['job_industry_category'])\n",
        "old_dataset['wealth_segment'] = le.fit_transform(old_dataset['wealth_segment'])\n",
        "old_dataset['owns_car'] = le.fit_transform(old_dataset['owns_car'])\n",
        "old_dataset['state'] = le.fit_transform(old_dataset['state'])\n",
        "old_dataset"
      ]
    },
    {
      "cell_type": "code",
      "execution_count": null,
      "id": "f52108a3-10aa-4f03-8cd0-9aee8f0412b4",
      "metadata": {
        "id": "f52108a3-10aa-4f03-8cd0-9aee8f0412b4",
        "outputId": "c2e2f98a-7f51-45f8-ec7c-30ea71e6510b"
      },
      "outputs": [
        {
          "name": "stdout",
          "output_type": "stream",
          "text": [
            "(1610, 12)\n",
            "(2296, 12)\n"
          ]
        }
      ],
      "source": [
        "#check data skewness\n",
        "target_1 = old_dataset[old_dataset[\"target\"] == 1]\n",
        "target_0  = old_dataset[old_dataset[\"target\"] == 0]\n",
        "print(target_1.shape)\n",
        "print(target_0.shape)"
      ]
    },
    {
      "cell_type": "code",
      "execution_count": null,
      "id": "bcaf0938-ba24-44ed-96df-b871746a7fbc",
      "metadata": {
        "id": "bcaf0938-ba24-44ed-96df-b871746a7fbc"
      },
      "outputs": [],
      "source": [
        "X = old_dataset.drop('target', axis=1)\n",
        "Y = old_dataset['target']"
      ]
    },
    {
      "cell_type": "code",
      "execution_count": null,
      "id": "0d50aaa7-4f5f-4465-91d1-c7550ce62908",
      "metadata": {
        "id": "0d50aaa7-4f5f-4465-91d1-c7550ce62908"
      },
      "outputs": [],
      "source": [
        "#splitting the original dataset into the Training set and Test set\n",
        "original_X_train, original_X_test, original_Y_train, original_Y_test = train_test_split(X, Y, test_size = 0.2, random_state=1, stratify = Y)"
      ]
    },
    {
      "cell_type": "code",
      "execution_count": null,
      "id": "b11244f9-6ed6-4337-a6a2-f7b72cb44ad0",
      "metadata": {
        "id": "b11244f9-6ed6-4337-a6a2-f7b72cb44ad0",
        "outputId": "3de7e90c-2ae9-45ab-f837-c6f8c48a66c3"
      },
      "outputs": [
        {
          "data": {
            "text/plain": [
              "1    1610\n",
              "0    1610\n",
              "Name: target, dtype: int64"
            ]
          },
          "execution_count": 33,
          "metadata": {},
          "output_type": "execute_result"
        }
      ],
      "source": [
        "#random undersampling\n",
        "# Lets shuffle the data before creating the subsamples\n",
        "old_dataset = old_dataset.sample(frac=1)\n",
        "\n",
        "# amount of fraud classes 1610 rows.\n",
        "target_1 = old_dataset.loc[old_dataset['target'] == 1]\n",
        "target_0 = old_dataset.loc[old_dataset['target'] == 0][:1610]\n",
        "\n",
        "normal_distributed_df = pd.concat([target_1, target_0])\n",
        "\n",
        "# Shuffle dataframe rows\n",
        "old_df = normal_distributed_df.sample(frac=1, random_state=1)\n",
        "\n",
        "old_df['target'].value_counts()"
      ]
    },
    {
      "cell_type": "code",
      "execution_count": null,
      "id": "b145fac1-eed0-48ed-ae6c-4a6a420570c5",
      "metadata": {
        "id": "b145fac1-eed0-48ed-ae6c-4a6a420570c5"
      },
      "outputs": [],
      "source": [
        "#splitting the undersampled dataset into the Training set and Test set\n",
        "X_under = old_df.drop('target', axis=1)\n",
        "Y_under = old_df['target']\n",
        "X_train, X_test, Y_train, Y_test = train_test_split(X_under, Y_under, test_size=0.2, random_state=1)"
      ]
    },
    {
      "cell_type": "markdown",
      "id": "39a36204-24f9-4e8b-8899-bf2d210c5620",
      "metadata": {
        "id": "39a36204-24f9-4e8b-8899-bf2d210c5620"
      },
      "source": [
        "#### 2.1. Random Forest Classifier"
      ]
    },
    {
      "cell_type": "code",
      "execution_count": null,
      "id": "7892a55d-e5db-4d66-ac5f-e26b487136b9",
      "metadata": {
        "id": "7892a55d-e5db-4d66-ac5f-e26b487136b9"
      },
      "outputs": [],
      "source": [
        "rf = RandomForestClassifier(class_weight = 'balanced', random_state =22)\n",
        "\n",
        "rf.fit(X_train, Y_train)\n",
        "\n",
        "rf_Y_pred = rf.predict(original_X_test)\n",
        "rf_Y_proba = rf.predict_proba(original_X_test)"
      ]
    },
    {
      "cell_type": "code",
      "execution_count": null,
      "id": "38f99bab-ea0c-4619-831c-e0dc95476a76",
      "metadata": {
        "id": "38f99bab-ea0c-4619-831c-e0dc95476a76",
        "outputId": "66eafa26-3c16-4649-ecc8-726ebfb3e3f4"
      },
      "outputs": [
        {
          "name": "stdout",
          "output_type": "stream",
          "text": [
            "              precision    recall  f1-score   support\n",
            "\n",
            "           0       0.93      0.80      0.86       460\n",
            "           1       0.76      0.91      0.83       322\n",
            "\n",
            "    accuracy                           0.84       782\n",
            "   macro avg       0.84      0.85      0.84       782\n",
            "weighted avg       0.86      0.84      0.84       782\n",
            "\n"
          ]
        }
      ],
      "source": [
        "print(classification_report(original_Y_test, rf_Y_pred))"
      ]
    },
    {
      "cell_type": "markdown",
      "id": "6385a67b-acb8-422f-8982-8eede058cb09",
      "metadata": {
        "id": "6385a67b-acb8-422f-8982-8eede058cb09"
      },
      "source": [
        "#### 2.2. Decision Tree Classifier"
      ]
    },
    {
      "cell_type": "code",
      "execution_count": null,
      "id": "13a12069-1925-42f9-8133-270d39bf77f9",
      "metadata": {
        "id": "13a12069-1925-42f9-8133-270d39bf77f9"
      },
      "outputs": [],
      "source": [
        "dt = DecisionTreeClassifier(random_state =22)\n",
        "\n",
        "dt.fit(X_train, Y_train)\n",
        "\n",
        "dt_Y_pred = dt.predict(original_X_test)\n",
        "dt_Y_proba = dt.predict_proba(original_X_test)"
      ]
    },
    {
      "cell_type": "code",
      "execution_count": null,
      "id": "cf97a383-b141-480c-975b-32496205fcd7",
      "metadata": {
        "id": "cf97a383-b141-480c-975b-32496205fcd7",
        "outputId": "2ece6c5d-7bd8-4434-b7c4-a4ab08281333"
      },
      "outputs": [
        {
          "name": "stdout",
          "output_type": "stream",
          "text": [
            "              precision    recall  f1-score   support\n",
            "\n",
            "           0       0.93      0.77      0.84       460\n",
            "           1       0.74      0.92      0.82       322\n",
            "\n",
            "    accuracy                           0.83       782\n",
            "   macro avg       0.83      0.85      0.83       782\n",
            "weighted avg       0.85      0.83      0.83       782\n",
            "\n"
          ]
        }
      ],
      "source": [
        "print(classification_report(original_Y_test, dt_Y_pred))"
      ]
    },
    {
      "cell_type": "markdown",
      "id": "bf2b0984-2f54-4fde-82db-f01fd54cd71d",
      "metadata": {
        "id": "bf2b0984-2f54-4fde-82db-f01fd54cd71d"
      },
      "source": [
        "#### 2.3. Model Tuning"
      ]
    },
    {
      "cell_type": "markdown",
      "id": "73e03786-eaf8-4c00-ae3f-d541bd1dab14",
      "metadata": {
        "id": "73e03786-eaf8-4c00-ae3f-d541bd1dab14"
      },
      "source": [
        "#### Random Forest Tuned"
      ]
    },
    {
      "cell_type": "code",
      "execution_count": null,
      "id": "7e86bb8a-acc7-4138-88b2-b5e48a6bd161",
      "metadata": {
        "id": "7e86bb8a-acc7-4138-88b2-b5e48a6bd161",
        "outputId": "8d8dcbcc-9289-4cb9-8da7-cfd29e7b6365"
      },
      "outputs": [
        {
          "name": "stdout",
          "output_type": "stream",
          "text": [
            "Fitting 5 folds for each of 288 candidates, totalling 1440 fits\n"
          ]
        },
        {
          "data": {
            "text/html": [
              "<style>#sk-container-id-1 {color: black;background-color: white;}#sk-container-id-1 pre{padding: 0;}#sk-container-id-1 div.sk-toggleable {background-color: white;}#sk-container-id-1 label.sk-toggleable__label {cursor: pointer;display: block;width: 100%;margin-bottom: 0;padding: 0.3em;box-sizing: border-box;text-align: center;}#sk-container-id-1 label.sk-toggleable__label-arrow:before {content: \"▸\";float: left;margin-right: 0.25em;color: #696969;}#sk-container-id-1 label.sk-toggleable__label-arrow:hover:before {color: black;}#sk-container-id-1 div.sk-estimator:hover label.sk-toggleable__label-arrow:before {color: black;}#sk-container-id-1 div.sk-toggleable__content {max-height: 0;max-width: 0;overflow: hidden;text-align: left;background-color: #f0f8ff;}#sk-container-id-1 div.sk-toggleable__content pre {margin: 0.2em;color: black;border-radius: 0.25em;background-color: #f0f8ff;}#sk-container-id-1 input.sk-toggleable__control:checked~div.sk-toggleable__content {max-height: 200px;max-width: 100%;overflow: auto;}#sk-container-id-1 input.sk-toggleable__control:checked~label.sk-toggleable__label-arrow:before {content: \"▾\";}#sk-container-id-1 div.sk-estimator input.sk-toggleable__control:checked~label.sk-toggleable__label {background-color: #d4ebff;}#sk-container-id-1 div.sk-label input.sk-toggleable__control:checked~label.sk-toggleable__label {background-color: #d4ebff;}#sk-container-id-1 input.sk-hidden--visually {border: 0;clip: rect(1px 1px 1px 1px);clip: rect(1px, 1px, 1px, 1px);height: 1px;margin: -1px;overflow: hidden;padding: 0;position: absolute;width: 1px;}#sk-container-id-1 div.sk-estimator {font-family: monospace;background-color: #f0f8ff;border: 1px dotted black;border-radius: 0.25em;box-sizing: border-box;margin-bottom: 0.5em;}#sk-container-id-1 div.sk-estimator:hover {background-color: #d4ebff;}#sk-container-id-1 div.sk-parallel-item::after {content: \"\";width: 100%;border-bottom: 1px solid gray;flex-grow: 1;}#sk-container-id-1 div.sk-label:hover label.sk-toggleable__label {background-color: #d4ebff;}#sk-container-id-1 div.sk-serial::before {content: \"\";position: absolute;border-left: 1px solid gray;box-sizing: border-box;top: 0;bottom: 0;left: 50%;z-index: 0;}#sk-container-id-1 div.sk-serial {display: flex;flex-direction: column;align-items: center;background-color: white;padding-right: 0.2em;padding-left: 0.2em;position: relative;}#sk-container-id-1 div.sk-item {position: relative;z-index: 1;}#sk-container-id-1 div.sk-parallel {display: flex;align-items: stretch;justify-content: center;background-color: white;position: relative;}#sk-container-id-1 div.sk-item::before, #sk-container-id-1 div.sk-parallel-item::before {content: \"\";position: absolute;border-left: 1px solid gray;box-sizing: border-box;top: 0;bottom: 0;left: 50%;z-index: -1;}#sk-container-id-1 div.sk-parallel-item {display: flex;flex-direction: column;z-index: 1;position: relative;background-color: white;}#sk-container-id-1 div.sk-parallel-item:first-child::after {align-self: flex-end;width: 50%;}#sk-container-id-1 div.sk-parallel-item:last-child::after {align-self: flex-start;width: 50%;}#sk-container-id-1 div.sk-parallel-item:only-child::after {width: 0;}#sk-container-id-1 div.sk-dashed-wrapped {border: 1px dashed gray;margin: 0 0.4em 0.5em 0.4em;box-sizing: border-box;padding-bottom: 0.4em;background-color: white;}#sk-container-id-1 div.sk-label label {font-family: monospace;font-weight: bold;display: inline-block;line-height: 1.2em;}#sk-container-id-1 div.sk-label-container {text-align: center;}#sk-container-id-1 div.sk-container {/* jupyter's `normalize.less` sets `[hidden] { display: none; }` but bootstrap.min.css set `[hidden] { display: none !important; }` so we also need the `!important` here to be able to override the default hidden behavior on the sphinx rendered scikit-learn.org. See: https://github.com/scikit-learn/scikit-learn/issues/21755 */display: inline-block !important;position: relative;}#sk-container-id-1 div.sk-text-repr-fallback {display: none;}</style><div id=\"sk-container-id-1\" class=\"sk-top-container\"><div class=\"sk-text-repr-fallback\"><pre>GridSearchCV(cv=StratifiedKFold(n_splits=5, random_state=22, shuffle=True),\n",
              "             estimator=RandomForestClassifier(),\n",
              "             param_grid={&#x27;bootstrap&#x27;: [True], &#x27;max_depth&#x27;: [80, 90, 100, 110],\n",
              "                         &#x27;max_features&#x27;: [2, 3], &#x27;min_samples_leaf&#x27;: [3, 4, 5],\n",
              "                         &#x27;min_samples_split&#x27;: [8, 10, 12],\n",
              "                         &#x27;n_estimators&#x27;: [100, 200, 300, 1000]},\n",
              "             scoring=&#x27;f1&#x27;, verbose=1)</pre><b>In a Jupyter environment, please rerun this cell to show the HTML representation or trust the notebook. <br />On GitHub, the HTML representation is unable to render, please try loading this page with nbviewer.org.</b></div><div class=\"sk-container\" hidden><div class=\"sk-item sk-dashed-wrapped\"><div class=\"sk-label-container\"><div class=\"sk-label sk-toggleable\"><input class=\"sk-toggleable__control sk-hidden--visually\" id=\"sk-estimator-id-1\" type=\"checkbox\" ><label for=\"sk-estimator-id-1\" class=\"sk-toggleable__label sk-toggleable__label-arrow\">GridSearchCV</label><div class=\"sk-toggleable__content\"><pre>GridSearchCV(cv=StratifiedKFold(n_splits=5, random_state=22, shuffle=True),\n",
              "             estimator=RandomForestClassifier(),\n",
              "             param_grid={&#x27;bootstrap&#x27;: [True], &#x27;max_depth&#x27;: [80, 90, 100, 110],\n",
              "                         &#x27;max_features&#x27;: [2, 3], &#x27;min_samples_leaf&#x27;: [3, 4, 5],\n",
              "                         &#x27;min_samples_split&#x27;: [8, 10, 12],\n",
              "                         &#x27;n_estimators&#x27;: [100, 200, 300, 1000]},\n",
              "             scoring=&#x27;f1&#x27;, verbose=1)</pre></div></div></div><div class=\"sk-parallel\"><div class=\"sk-parallel-item\"><div class=\"sk-item\"><div class=\"sk-label-container\"><div class=\"sk-label sk-toggleable\"><input class=\"sk-toggleable__control sk-hidden--visually\" id=\"sk-estimator-id-2\" type=\"checkbox\" ><label for=\"sk-estimator-id-2\" class=\"sk-toggleable__label sk-toggleable__label-arrow\">estimator: RandomForestClassifier</label><div class=\"sk-toggleable__content\"><pre>RandomForestClassifier()</pre></div></div></div><div class=\"sk-serial\"><div class=\"sk-item\"><div class=\"sk-estimator sk-toggleable\"><input class=\"sk-toggleable__control sk-hidden--visually\" id=\"sk-estimator-id-3\" type=\"checkbox\" ><label for=\"sk-estimator-id-3\" class=\"sk-toggleable__label sk-toggleable__label-arrow\">RandomForestClassifier</label><div class=\"sk-toggleable__content\"><pre>RandomForestClassifier()</pre></div></div></div></div></div></div></div></div></div></div>"
            ],
            "text/plain": [
              "GridSearchCV(cv=StratifiedKFold(n_splits=5, random_state=22, shuffle=True),\n",
              "             estimator=RandomForestClassifier(),\n",
              "             param_grid={'bootstrap': [True], 'max_depth': [80, 90, 100, 110],\n",
              "                         'max_features': [2, 3], 'min_samples_leaf': [3, 4, 5],\n",
              "                         'min_samples_split': [8, 10, 12],\n",
              "                         'n_estimators': [100, 200, 300, 1000]},\n",
              "             scoring='f1', verbose=1)"
            ]
          },
          "execution_count": 39,
          "metadata": {},
          "output_type": "execute_result"
        }
      ],
      "source": [
        "CV = StratifiedKFold(n_splits=5, shuffle=True, random_state=22)\n",
        "RF_tuned = RandomForestClassifier()\n",
        "grid_RF_params = {'bootstrap': [True],\n",
        "                  'max_depth': [80, 90, 100, 110],\n",
        "                  'max_features': [2, 3],\n",
        "                  'min_samples_leaf': [3, 4, 5],\n",
        "                  'min_samples_split': [8, 10, 12],\n",
        "                  'n_estimators': [100, 200, 300, 1000],}\n",
        "\n",
        "grid_RF_cv = GridSearchCV(RF_tuned, grid_RF_params, scoring = 'f1', refit = True, cv=CV, verbose=1)  \n",
        "grid_RF_cv.fit(X_train, Y_train) "
      ]
    },
    {
      "cell_type": "code",
      "execution_count": null,
      "id": "30a1a35d-6027-46d8-934c-4c6b5120731f",
      "metadata": {
        "id": "30a1a35d-6027-46d8-934c-4c6b5120731f"
      },
      "outputs": [],
      "source": [
        "best_RF = grid_RF_cv.best_estimator_\n",
        "best_RF.fit(X_train, Y_train)\n",
        "best_rf_Y_pred = best_RF.predict(original_X_test)\n",
        "best_rf_Y_proba = best_RF.predict_proba(original_X_test)"
      ]
    },
    {
      "cell_type": "code",
      "execution_count": null,
      "id": "599567f9-eb5c-4ca4-9aff-fb6329688e94",
      "metadata": {
        "id": "599567f9-eb5c-4ca4-9aff-fb6329688e94",
        "outputId": "50992709-563f-4d2a-fd05-d8c3555a9b6a"
      },
      "outputs": [
        {
          "name": "stdout",
          "output_type": "stream",
          "text": [
            "              precision    recall  f1-score   support\n",
            "\n",
            "           0       0.92      0.80      0.85       460\n",
            "           1       0.75      0.90      0.82       322\n",
            "\n",
            "    accuracy                           0.84       782\n",
            "   macro avg       0.84      0.85      0.84       782\n",
            "weighted avg       0.85      0.84      0.84       782\n",
            "\n"
          ]
        }
      ],
      "source": [
        "print(classification_report(original_Y_test, best_rf_Y_pred))"
      ]
    },
    {
      "cell_type": "markdown",
      "id": "8c419fe8-3779-4c65-8b22-2b6c3be1392a",
      "metadata": {
        "id": "8c419fe8-3779-4c65-8b22-2b6c3be1392a"
      },
      "source": [
        "#### Decision Tree Tuned"
      ]
    },
    {
      "cell_type": "code",
      "execution_count": null,
      "id": "acd89211-d995-4636-aa59-35fdbaca5a4c",
      "metadata": {
        "id": "acd89211-d995-4636-aa59-35fdbaca5a4c",
        "outputId": "9c52d4e8-99d8-4c08-e9b3-7d855bb688d2"
      },
      "outputs": [
        {
          "name": "stdout",
          "output_type": "stream",
          "text": [
            "Fitting 5 folds for each of 1680 candidates, totalling 8400 fits\n"
          ]
        },
        {
          "data": {
            "text/html": [
              "<style>#sk-container-id-2 {color: black;background-color: white;}#sk-container-id-2 pre{padding: 0;}#sk-container-id-2 div.sk-toggleable {background-color: white;}#sk-container-id-2 label.sk-toggleable__label {cursor: pointer;display: block;width: 100%;margin-bottom: 0;padding: 0.3em;box-sizing: border-box;text-align: center;}#sk-container-id-2 label.sk-toggleable__label-arrow:before {content: \"▸\";float: left;margin-right: 0.25em;color: #696969;}#sk-container-id-2 label.sk-toggleable__label-arrow:hover:before {color: black;}#sk-container-id-2 div.sk-estimator:hover label.sk-toggleable__label-arrow:before {color: black;}#sk-container-id-2 div.sk-toggleable__content {max-height: 0;max-width: 0;overflow: hidden;text-align: left;background-color: #f0f8ff;}#sk-container-id-2 div.sk-toggleable__content pre {margin: 0.2em;color: black;border-radius: 0.25em;background-color: #f0f8ff;}#sk-container-id-2 input.sk-toggleable__control:checked~div.sk-toggleable__content {max-height: 200px;max-width: 100%;overflow: auto;}#sk-container-id-2 input.sk-toggleable__control:checked~label.sk-toggleable__label-arrow:before {content: \"▾\";}#sk-container-id-2 div.sk-estimator input.sk-toggleable__control:checked~label.sk-toggleable__label {background-color: #d4ebff;}#sk-container-id-2 div.sk-label input.sk-toggleable__control:checked~label.sk-toggleable__label {background-color: #d4ebff;}#sk-container-id-2 input.sk-hidden--visually {border: 0;clip: rect(1px 1px 1px 1px);clip: rect(1px, 1px, 1px, 1px);height: 1px;margin: -1px;overflow: hidden;padding: 0;position: absolute;width: 1px;}#sk-container-id-2 div.sk-estimator {font-family: monospace;background-color: #f0f8ff;border: 1px dotted black;border-radius: 0.25em;box-sizing: border-box;margin-bottom: 0.5em;}#sk-container-id-2 div.sk-estimator:hover {background-color: #d4ebff;}#sk-container-id-2 div.sk-parallel-item::after {content: \"\";width: 100%;border-bottom: 1px solid gray;flex-grow: 1;}#sk-container-id-2 div.sk-label:hover label.sk-toggleable__label {background-color: #d4ebff;}#sk-container-id-2 div.sk-serial::before {content: \"\";position: absolute;border-left: 1px solid gray;box-sizing: border-box;top: 0;bottom: 0;left: 50%;z-index: 0;}#sk-container-id-2 div.sk-serial {display: flex;flex-direction: column;align-items: center;background-color: white;padding-right: 0.2em;padding-left: 0.2em;position: relative;}#sk-container-id-2 div.sk-item {position: relative;z-index: 1;}#sk-container-id-2 div.sk-parallel {display: flex;align-items: stretch;justify-content: center;background-color: white;position: relative;}#sk-container-id-2 div.sk-item::before, #sk-container-id-2 div.sk-parallel-item::before {content: \"\";position: absolute;border-left: 1px solid gray;box-sizing: border-box;top: 0;bottom: 0;left: 50%;z-index: -1;}#sk-container-id-2 div.sk-parallel-item {display: flex;flex-direction: column;z-index: 1;position: relative;background-color: white;}#sk-container-id-2 div.sk-parallel-item:first-child::after {align-self: flex-end;width: 50%;}#sk-container-id-2 div.sk-parallel-item:last-child::after {align-self: flex-start;width: 50%;}#sk-container-id-2 div.sk-parallel-item:only-child::after {width: 0;}#sk-container-id-2 div.sk-dashed-wrapped {border: 1px dashed gray;margin: 0 0.4em 0.5em 0.4em;box-sizing: border-box;padding-bottom: 0.4em;background-color: white;}#sk-container-id-2 div.sk-label label {font-family: monospace;font-weight: bold;display: inline-block;line-height: 1.2em;}#sk-container-id-2 div.sk-label-container {text-align: center;}#sk-container-id-2 div.sk-container {/* jupyter's `normalize.less` sets `[hidden] { display: none; }` but bootstrap.min.css set `[hidden] { display: none !important; }` so we also need the `!important` here to be able to override the default hidden behavior on the sphinx rendered scikit-learn.org. See: https://github.com/scikit-learn/scikit-learn/issues/21755 */display: inline-block !important;position: relative;}#sk-container-id-2 div.sk-text-repr-fallback {display: none;}</style><div id=\"sk-container-id-2\" class=\"sk-top-container\"><div class=\"sk-text-repr-fallback\"><pre>GridSearchCV(cv=StratifiedKFold(n_splits=5, random_state=22, shuffle=True),\n",
              "             estimator=DecisionTreeClassifier(),\n",
              "             param_grid={&#x27;criterion&#x27;: [&#x27;gini&#x27;, &#x27;entropy&#x27;, &#x27;log_loss&#x27;],\n",
              "                         &#x27;max_depth&#x27;: [1, 3, 5, 7, 9, 11, 12],\n",
              "                         &#x27;max_features&#x27;: [&#x27;auto&#x27;, &#x27;sqrt&#x27;, &#x27;log2&#x27;, None],\n",
              "                         &#x27;min_samples_leaf&#x27;: [1, 2, 3, 4, 5, 6, 7, 8, 9, 10],\n",
              "                         &#x27;splitter&#x27;: [&#x27;best&#x27;, &#x27;random&#x27;]},\n",
              "             scoring=&#x27;f1&#x27;, verbose=1)</pre><b>In a Jupyter environment, please rerun this cell to show the HTML representation or trust the notebook. <br />On GitHub, the HTML representation is unable to render, please try loading this page with nbviewer.org.</b></div><div class=\"sk-container\" hidden><div class=\"sk-item sk-dashed-wrapped\"><div class=\"sk-label-container\"><div class=\"sk-label sk-toggleable\"><input class=\"sk-toggleable__control sk-hidden--visually\" id=\"sk-estimator-id-4\" type=\"checkbox\" ><label for=\"sk-estimator-id-4\" class=\"sk-toggleable__label sk-toggleable__label-arrow\">GridSearchCV</label><div class=\"sk-toggleable__content\"><pre>GridSearchCV(cv=StratifiedKFold(n_splits=5, random_state=22, shuffle=True),\n",
              "             estimator=DecisionTreeClassifier(),\n",
              "             param_grid={&#x27;criterion&#x27;: [&#x27;gini&#x27;, &#x27;entropy&#x27;, &#x27;log_loss&#x27;],\n",
              "                         &#x27;max_depth&#x27;: [1, 3, 5, 7, 9, 11, 12],\n",
              "                         &#x27;max_features&#x27;: [&#x27;auto&#x27;, &#x27;sqrt&#x27;, &#x27;log2&#x27;, None],\n",
              "                         &#x27;min_samples_leaf&#x27;: [1, 2, 3, 4, 5, 6, 7, 8, 9, 10],\n",
              "                         &#x27;splitter&#x27;: [&#x27;best&#x27;, &#x27;random&#x27;]},\n",
              "             scoring=&#x27;f1&#x27;, verbose=1)</pre></div></div></div><div class=\"sk-parallel\"><div class=\"sk-parallel-item\"><div class=\"sk-item\"><div class=\"sk-label-container\"><div class=\"sk-label sk-toggleable\"><input class=\"sk-toggleable__control sk-hidden--visually\" id=\"sk-estimator-id-5\" type=\"checkbox\" ><label for=\"sk-estimator-id-5\" class=\"sk-toggleable__label sk-toggleable__label-arrow\">estimator: DecisionTreeClassifier</label><div class=\"sk-toggleable__content\"><pre>DecisionTreeClassifier()</pre></div></div></div><div class=\"sk-serial\"><div class=\"sk-item\"><div class=\"sk-estimator sk-toggleable\"><input class=\"sk-toggleable__control sk-hidden--visually\" id=\"sk-estimator-id-6\" type=\"checkbox\" ><label for=\"sk-estimator-id-6\" class=\"sk-toggleable__label sk-toggleable__label-arrow\">DecisionTreeClassifier</label><div class=\"sk-toggleable__content\"><pre>DecisionTreeClassifier()</pre></div></div></div></div></div></div></div></div></div></div>"
            ],
            "text/plain": [
              "GridSearchCV(cv=StratifiedKFold(n_splits=5, random_state=22, shuffle=True),\n",
              "             estimator=DecisionTreeClassifier(),\n",
              "             param_grid={'criterion': ['gini', 'entropy', 'log_loss'],\n",
              "                         'max_depth': [1, 3, 5, 7, 9, 11, 12],\n",
              "                         'max_features': ['auto', 'sqrt', 'log2', None],\n",
              "                         'min_samples_leaf': [1, 2, 3, 4, 5, 6, 7, 8, 9, 10],\n",
              "                         'splitter': ['best', 'random']},\n",
              "             scoring='f1', verbose=1)"
            ]
          },
          "execution_count": 42,
          "metadata": {},
          "output_type": "execute_result"
        }
      ],
      "source": [
        "DT_tuned = DecisionTreeClassifier()\n",
        "grid_DT_params = {'criterion': ['gini', 'entropy', 'log_loss'], \n",
        "                  'splitter' : ['best', 'random'], \n",
        "                  'max_depth' : [1,3,5,7,9,11,12],\n",
        "                  'min_samples_leaf' :[1,2,3,4,5,6,7,8,9,10],\n",
        "                  'max_features' : ['auto', 'sqrt', 'log2', None],}\n",
        "\n",
        "grid_DT_cv = GridSearchCV(DT_tuned, grid_DT_params, scoring = 'f1', refit = True, cv=CV, verbose=1)  \n",
        "grid_DT_cv.fit(X_train, Y_train) "
      ]
    },
    {
      "cell_type": "code",
      "execution_count": null,
      "id": "6d371697-b54c-4720-84e8-494c73a0f919",
      "metadata": {
        "id": "6d371697-b54c-4720-84e8-494c73a0f919"
      },
      "outputs": [],
      "source": [
        "best_DT = grid_DT_cv.best_estimator_\n",
        "best_DT.fit(X_train, Y_train)\n",
        "best_dt_Y_pred = best_DT.predict(original_X_test)\n",
        "best_dt_Y_proba = best_DT.predict_proba(original_X_test)"
      ]
    },
    {
      "cell_type": "code",
      "execution_count": null,
      "id": "62426176-9bdf-422b-802e-6305ce112cf4",
      "metadata": {
        "id": "62426176-9bdf-422b-802e-6305ce112cf4",
        "outputId": "e8e08806-3cd6-4d5a-c260-95b94cf1e709"
      },
      "outputs": [
        {
          "name": "stdout",
          "output_type": "stream",
          "text": [
            "              precision    recall  f1-score   support\n",
            "\n",
            "           0       0.60      0.51      0.55       460\n",
            "           1       0.43      0.52      0.47       322\n",
            "\n",
            "    accuracy                           0.52       782\n",
            "   macro avg       0.52      0.52      0.51       782\n",
            "weighted avg       0.53      0.52      0.52       782\n",
            "\n"
          ]
        }
      ],
      "source": [
        "print(classification_report(original_Y_test, best_dt_Y_pred))"
      ]
    },
    {
      "cell_type": "markdown",
      "id": "282a6a82-3b40-4908-aaf3-d4661caec7c6",
      "metadata": {
        "id": "282a6a82-3b40-4908-aaf3-d4661caec7c6"
      },
      "source": [
        "### 3. Interpretation "
      ]
    },
    {
      "cell_type": "markdown",
      "id": "20cadf76-c4ea-4608-a2d4-f91766750124",
      "metadata": {
        "id": "20cadf76-c4ea-4608-a2d4-f91766750124"
      },
      "source": [
        "#### 3.1. Prepare NewCustomerList data"
      ]
    },
    {
      "cell_type": "code",
      "execution_count": null,
      "id": "07c1ec79-22ce-449d-ba7a-a741a4e95fc8",
      "metadata": {
        "id": "07c1ec79-22ce-449d-ba7a-a741a4e95fc8",
        "outputId": "7a4e56ed-cfb0-474f-b561-374ab215d534"
      },
      "outputs": [
        {
          "data": {
            "text/html": [
              "<div>\n",
              "<style scoped>\n",
              "    .dataframe tbody tr th:only-of-type {\n",
              "        vertical-align: middle;\n",
              "    }\n",
              "\n",
              "    .dataframe tbody tr th {\n",
              "        vertical-align: top;\n",
              "    }\n",
              "\n",
              "    .dataframe thead th {\n",
              "        text-align: right;\n",
              "    }\n",
              "</style>\n",
              "<table border=\"1\" class=\"dataframe\">\n",
              "  <thead>\n",
              "    <tr style=\"text-align: right;\">\n",
              "      <th></th>\n",
              "      <th>gender</th>\n",
              "      <th>past_3_years_bike_related_purchases</th>\n",
              "      <th>job_title</th>\n",
              "      <th>job_industry_category</th>\n",
              "      <th>wealth_segment</th>\n",
              "      <th>deceased_indicator</th>\n",
              "      <th>owns_car</th>\n",
              "      <th>tenure</th>\n",
              "      <th>address</th>\n",
              "      <th>postcode</th>\n",
              "      <th>state</th>\n",
              "      <th>country</th>\n",
              "      <th>property_valuation</th>\n",
              "      <th>Rank</th>\n",
              "      <th>Value</th>\n",
              "      <th>name</th>\n",
              "      <th>age</th>\n",
              "      <th>age_group</th>\n",
              "    </tr>\n",
              "  </thead>\n",
              "  <tbody>\n",
              "    <tr>\n",
              "      <th>0</th>\n",
              "      <td>Male</td>\n",
              "      <td>86</td>\n",
              "      <td>General Manager</td>\n",
              "      <td>Manufacturing</td>\n",
              "      <td>Mass Customer</td>\n",
              "      <td>N</td>\n",
              "      <td>Yes</td>\n",
              "      <td>14</td>\n",
              "      <td>45 Shopko Center</td>\n",
              "      <td>4500</td>\n",
              "      <td>QLD</td>\n",
              "      <td>Australia</td>\n",
              "      <td>6</td>\n",
              "      <td>1</td>\n",
              "      <td>1.718750</td>\n",
              "      <td>Chickie Brister</td>\n",
              "      <td>65</td>\n",
              "      <td>The Elderly</td>\n",
              "    </tr>\n",
              "    <tr>\n",
              "      <th>1</th>\n",
              "      <td>Male</td>\n",
              "      <td>69</td>\n",
              "      <td>Structural Engineer</td>\n",
              "      <td>Property</td>\n",
              "      <td>Mass Customer</td>\n",
              "      <td>N</td>\n",
              "      <td>No</td>\n",
              "      <td>16</td>\n",
              "      <td>14 Mccormick Park</td>\n",
              "      <td>2113</td>\n",
              "      <td>NSW</td>\n",
              "      <td>Australia</td>\n",
              "      <td>11</td>\n",
              "      <td>1</td>\n",
              "      <td>1.718750</td>\n",
              "      <td>Morly Genery</td>\n",
              "      <td>52</td>\n",
              "      <td>Middle-Aged People</td>\n",
              "    </tr>\n",
              "    <tr>\n",
              "      <th>2</th>\n",
              "      <td>Female</td>\n",
              "      <td>10</td>\n",
              "      <td>Senior Cost Accountant</td>\n",
              "      <td>Financial Services</td>\n",
              "      <td>Affluent Customer</td>\n",
              "      <td>N</td>\n",
              "      <td>No</td>\n",
              "      <td>10</td>\n",
              "      <td>5 Colorado Crossing</td>\n",
              "      <td>3505</td>\n",
              "      <td>VIC</td>\n",
              "      <td>Australia</td>\n",
              "      <td>5</td>\n",
              "      <td>1</td>\n",
              "      <td>1.718750</td>\n",
              "      <td>Ardelis Forrester</td>\n",
              "      <td>48</td>\n",
              "      <td>Middle-Aged People</td>\n",
              "    </tr>\n",
              "    <tr>\n",
              "      <th>3</th>\n",
              "      <td>Female</td>\n",
              "      <td>64</td>\n",
              "      <td>Account Representative III</td>\n",
              "      <td>Manufacturing</td>\n",
              "      <td>Affluent Customer</td>\n",
              "      <td>N</td>\n",
              "      <td>Yes</td>\n",
              "      <td>5</td>\n",
              "      <td>207 Annamark Plaza</td>\n",
              "      <td>4814</td>\n",
              "      <td>QLD</td>\n",
              "      <td>Australia</td>\n",
              "      <td>1</td>\n",
              "      <td>4</td>\n",
              "      <td>1.703125</td>\n",
              "      <td>Lucine Stutt</td>\n",
              "      <td>43</td>\n",
              "      <td>Middle-Aged People</td>\n",
              "    </tr>\n",
              "    <tr>\n",
              "      <th>4</th>\n",
              "      <td>Female</td>\n",
              "      <td>34</td>\n",
              "      <td>Financial Analyst</td>\n",
              "      <td>Financial Services</td>\n",
              "      <td>Affluent Customer</td>\n",
              "      <td>N</td>\n",
              "      <td>No</td>\n",
              "      <td>19</td>\n",
              "      <td>115 Montana Place</td>\n",
              "      <td>2093</td>\n",
              "      <td>NSW</td>\n",
              "      <td>Australia</td>\n",
              "      <td>9</td>\n",
              "      <td>4</td>\n",
              "      <td>1.703125</td>\n",
              "      <td>Melinda Hadlee</td>\n",
              "      <td>57</td>\n",
              "      <td>Middle-Aged People</td>\n",
              "    </tr>\n",
              "  </tbody>\n",
              "</table>\n",
              "</div>"
            ],
            "text/plain": [
              "   gender  past_3_years_bike_related_purchases                   job_title  \\\n",
              "0    Male                                   86             General Manager   \n",
              "1    Male                                   69         Structural Engineer   \n",
              "2  Female                                   10      Senior Cost Accountant   \n",
              "3  Female                                   64  Account Representative III   \n",
              "4  Female                                   34           Financial Analyst   \n",
              "\n",
              "  job_industry_category     wealth_segment deceased_indicator owns_car  \\\n",
              "0         Manufacturing      Mass Customer                  N      Yes   \n",
              "1              Property      Mass Customer                  N       No   \n",
              "2    Financial Services  Affluent Customer                  N       No   \n",
              "3         Manufacturing  Affluent Customer                  N      Yes   \n",
              "4    Financial Services  Affluent Customer                  N       No   \n",
              "\n",
              "   tenure              address  postcode state    country  property_valuation  \\\n",
              "0      14     45 Shopko Center      4500   QLD  Australia                   6   \n",
              "1      16    14 Mccormick Park      2113   NSW  Australia                  11   \n",
              "2      10  5 Colorado Crossing      3505   VIC  Australia                   5   \n",
              "3       5   207 Annamark Plaza      4814   QLD  Australia                   1   \n",
              "4      19    115 Montana Place      2093   NSW  Australia                   9   \n",
              "\n",
              "   Rank     Value               name  age           age_group  \n",
              "0     1  1.718750    Chickie Brister   65         The Elderly  \n",
              "1     1  1.718750       Morly Genery   52  Middle-Aged People  \n",
              "2     1  1.718750  Ardelis Forrester   48  Middle-Aged People  \n",
              "3     4  1.703125       Lucine Stutt   43  Middle-Aged People  \n",
              "4     4  1.703125     Melinda Hadlee   57  Middle-Aged People  "
            ]
          },
          "execution_count": 45,
          "metadata": {},
          "output_type": "execute_result"
        }
      ],
      "source": [
        "NewCustomerList.head()"
      ]
    },
    {
      "cell_type": "code",
      "execution_count": null,
      "id": "e65fde56-6fa8-455d-954a-1be99a7027e1",
      "metadata": {
        "id": "e65fde56-6fa8-455d-954a-1be99a7027e1"
      },
      "outputs": [],
      "source": [
        "#drop some unneccessary columns\n",
        "new_df = NewCustomerList.drop(['deceased_indicator', 'age_group', 'country', 'name', 'address', 'Rank', 'Value'], axis = 1)"
      ]
    },
    {
      "cell_type": "code",
      "execution_count": null,
      "id": "65c40fce-6063-420d-9139-1ff941c2b005",
      "metadata": {
        "id": "65c40fce-6063-420d-9139-1ff941c2b005",
        "outputId": "1f136c25-46e7-4edc-c836-d95bcf769dbf"
      },
      "outputs": [
        {
          "data": {
            "text/html": [
              "<div>\n",
              "<style scoped>\n",
              "    .dataframe tbody tr th:only-of-type {\n",
              "        vertical-align: middle;\n",
              "    }\n",
              "\n",
              "    .dataframe tbody tr th {\n",
              "        vertical-align: top;\n",
              "    }\n",
              "\n",
              "    .dataframe thead th {\n",
              "        text-align: right;\n",
              "    }\n",
              "</style>\n",
              "<table border=\"1\" class=\"dataframe\">\n",
              "  <thead>\n",
              "    <tr style=\"text-align: right;\">\n",
              "      <th></th>\n",
              "      <th>gender</th>\n",
              "      <th>past_3_years_bike_related_purchases</th>\n",
              "      <th>job_title</th>\n",
              "      <th>job_industry_category</th>\n",
              "      <th>wealth_segment</th>\n",
              "      <th>owns_car</th>\n",
              "      <th>tenure</th>\n",
              "      <th>postcode</th>\n",
              "      <th>state</th>\n",
              "      <th>property_valuation</th>\n",
              "      <th>age</th>\n",
              "    </tr>\n",
              "  </thead>\n",
              "  <tbody>\n",
              "    <tr>\n",
              "      <th>0</th>\n",
              "      <td>1</td>\n",
              "      <td>86</td>\n",
              "      <td>71</td>\n",
              "      <td>5</td>\n",
              "      <td>2</td>\n",
              "      <td>1</td>\n",
              "      <td>14</td>\n",
              "      <td>4500</td>\n",
              "      <td>1</td>\n",
              "      <td>6</td>\n",
              "      <td>65</td>\n",
              "    </tr>\n",
              "    <tr>\n",
              "      <th>1</th>\n",
              "      <td>1</td>\n",
              "      <td>69</td>\n",
              "      <td>165</td>\n",
              "      <td>6</td>\n",
              "      <td>2</td>\n",
              "      <td>0</td>\n",
              "      <td>16</td>\n",
              "      <td>2113</td>\n",
              "      <td>0</td>\n",
              "      <td>11</td>\n",
              "      <td>52</td>\n",
              "    </tr>\n",
              "    <tr>\n",
              "      <th>2</th>\n",
              "      <td>0</td>\n",
              "      <td>10</td>\n",
              "      <td>139</td>\n",
              "      <td>2</td>\n",
              "      <td>0</td>\n",
              "      <td>0</td>\n",
              "      <td>10</td>\n",
              "      <td>3505</td>\n",
              "      <td>2</td>\n",
              "      <td>5</td>\n",
              "      <td>48</td>\n",
              "    </tr>\n",
              "    <tr>\n",
              "      <th>3</th>\n",
              "      <td>0</td>\n",
              "      <td>64</td>\n",
              "      <td>4</td>\n",
              "      <td>5</td>\n",
              "      <td>0</td>\n",
              "      <td>1</td>\n",
              "      <td>5</td>\n",
              "      <td>4814</td>\n",
              "      <td>1</td>\n",
              "      <td>1</td>\n",
              "      <td>43</td>\n",
              "    </tr>\n",
              "    <tr>\n",
              "      <th>4</th>\n",
              "      <td>0</td>\n",
              "      <td>34</td>\n",
              "      <td>68</td>\n",
              "      <td>2</td>\n",
              "      <td>0</td>\n",
              "      <td>0</td>\n",
              "      <td>19</td>\n",
              "      <td>2093</td>\n",
              "      <td>0</td>\n",
              "      <td>9</td>\n",
              "      <td>57</td>\n",
              "    </tr>\n",
              "    <tr>\n",
              "      <th>...</th>\n",
              "      <td>...</td>\n",
              "      <td>...</td>\n",
              "      <td>...</td>\n",
              "      <td>...</td>\n",
              "      <td>...</td>\n",
              "      <td>...</td>\n",
              "      <td>...</td>\n",
              "      <td>...</td>\n",
              "      <td>...</td>\n",
              "      <td>...</td>\n",
              "      <td>...</td>\n",
              "    </tr>\n",
              "    <tr>\n",
              "      <th>978</th>\n",
              "      <td>1</td>\n",
              "      <td>60</td>\n",
              "      <td>108</td>\n",
              "      <td>2</td>\n",
              "      <td>0</td>\n",
              "      <td>0</td>\n",
              "      <td>9</td>\n",
              "      <td>2200</td>\n",
              "      <td>0</td>\n",
              "      <td>7</td>\n",
              "      <td>63</td>\n",
              "    </tr>\n",
              "    <tr>\n",
              "      <th>979</th>\n",
              "      <td>1</td>\n",
              "      <td>22</td>\n",
              "      <td>144</td>\n",
              "      <td>3</td>\n",
              "      <td>2</td>\n",
              "      <td>0</td>\n",
              "      <td>6</td>\n",
              "      <td>2196</td>\n",
              "      <td>0</td>\n",
              "      <td>10</td>\n",
              "      <td>21</td>\n",
              "    </tr>\n",
              "    <tr>\n",
              "      <th>980</th>\n",
              "      <td>0</td>\n",
              "      <td>17</td>\n",
              "      <td>32</td>\n",
              "      <td>2</td>\n",
              "      <td>0</td>\n",
              "      <td>1</td>\n",
              "      <td>15</td>\n",
              "      <td>4702</td>\n",
              "      <td>1</td>\n",
              "      <td>2</td>\n",
              "      <td>68</td>\n",
              "    </tr>\n",
              "    <tr>\n",
              "      <th>981</th>\n",
              "      <td>1</td>\n",
              "      <td>30</td>\n",
              "      <td>67</td>\n",
              "      <td>2</td>\n",
              "      <td>2</td>\n",
              "      <td>1</td>\n",
              "      <td>19</td>\n",
              "      <td>4215</td>\n",
              "      <td>1</td>\n",
              "      <td>2</td>\n",
              "      <td>70</td>\n",
              "    </tr>\n",
              "    <tr>\n",
              "      <th>982</th>\n",
              "      <td>1</td>\n",
              "      <td>56</td>\n",
              "      <td>158</td>\n",
              "      <td>6</td>\n",
              "      <td>2</td>\n",
              "      <td>1</td>\n",
              "      <td>14</td>\n",
              "      <td>2010</td>\n",
              "      <td>0</td>\n",
              "      <td>9</td>\n",
              "      <td>67</td>\n",
              "    </tr>\n",
              "  </tbody>\n",
              "</table>\n",
              "<p>983 rows × 11 columns</p>\n",
              "</div>"
            ],
            "text/plain": [
              "     gender  past_3_years_bike_related_purchases  job_title  \\\n",
              "0         1                                   86         71   \n",
              "1         1                                   69        165   \n",
              "2         0                                   10        139   \n",
              "3         0                                   64          4   \n",
              "4         0                                   34         68   \n",
              "..      ...                                  ...        ...   \n",
              "978       1                                   60        108   \n",
              "979       1                                   22        144   \n",
              "980       0                                   17         32   \n",
              "981       1                                   30         67   \n",
              "982       1                                   56        158   \n",
              "\n",
              "     job_industry_category  wealth_segment  owns_car  tenure  postcode  state  \\\n",
              "0                        5               2         1      14      4500      1   \n",
              "1                        6               2         0      16      2113      0   \n",
              "2                        2               0         0      10      3505      2   \n",
              "3                        5               0         1       5      4814      1   \n",
              "4                        2               0         0      19      2093      0   \n",
              "..                     ...             ...       ...     ...       ...    ...   \n",
              "978                      2               0         0       9      2200      0   \n",
              "979                      3               2         0       6      2196      0   \n",
              "980                      2               0         1      15      4702      1   \n",
              "981                      2               2         1      19      4215      1   \n",
              "982                      6               2         1      14      2010      0   \n",
              "\n",
              "     property_valuation  age  \n",
              "0                     6   65  \n",
              "1                    11   52  \n",
              "2                     5   48  \n",
              "3                     1   43  \n",
              "4                     9   57  \n",
              "..                  ...  ...  \n",
              "978                   7   63  \n",
              "979                  10   21  \n",
              "980                   2   68  \n",
              "981                   2   70  \n",
              "982                   9   67  \n",
              "\n",
              "[983 rows x 11 columns]"
            ]
          },
          "execution_count": 47,
          "metadata": {},
          "output_type": "execute_result"
        }
      ],
      "source": [
        "#transform categorical variables into columns with numerical values by label encoding\n",
        "le = LabelEncoder()\n",
        "new_df['gender'] = le.fit_transform(new_df['gender'])\n",
        "new_df['job_title'] = le.fit_transform(new_df['job_title'])\n",
        "new_df['job_industry_category'] = le.fit_transform(new_df['job_industry_category'])\n",
        "new_df['wealth_segment'] = le.fit_transform(new_df['wealth_segment'])\n",
        "new_df['owns_car'] = le.fit_transform(new_df['owns_car'])\n",
        "new_df['state'] = le.fit_transform(new_df['state'])\n",
        "new_df"
      ]
    },
    {
      "cell_type": "markdown",
      "id": "0ef45c87-7d81-465e-bd3c-e157784468e2",
      "metadata": {
        "id": "0ef45c87-7d81-465e-bd3c-e157784468e2"
      },
      "source": [
        "#### 3.2. Fit 1000 new customers data in to best model "
      ]
    },
    {
      "cell_type": "code",
      "execution_count": null,
      "id": "37760ec7-97dc-487b-8006-22b13444ce76",
      "metadata": {
        "id": "37760ec7-97dc-487b-8006-22b13444ce76"
      },
      "outputs": [],
      "source": [
        "target_new = rf.predict(new_df)"
      ]
    },
    {
      "cell_type": "code",
      "execution_count": null,
      "id": "1a23ec6f-26e9-48cd-951d-79075b0403b6",
      "metadata": {
        "id": "1a23ec6f-26e9-48cd-951d-79075b0403b6"
      },
      "outputs": [],
      "source": [
        "target_proba = []\n",
        "for x in rf.predict_proba(new_df):\n",
        "     target_proba.append(x[1])"
      ]
    },
    {
      "cell_type": "code",
      "execution_count": null,
      "id": "255664f1-d78f-4b01-a34e-adc0974fb058",
      "metadata": {
        "id": "255664f1-d78f-4b01-a34e-adc0974fb058",
        "outputId": "bade1c3a-9220-4cbb-d1fb-2f66e85d007a"
      },
      "outputs": [
        {
          "data": {
            "text/html": [
              "<div>\n",
              "<style scoped>\n",
              "    .dataframe tbody tr th:only-of-type {\n",
              "        vertical-align: middle;\n",
              "    }\n",
              "\n",
              "    .dataframe tbody tr th {\n",
              "        vertical-align: top;\n",
              "    }\n",
              "\n",
              "    .dataframe thead th {\n",
              "        text-align: right;\n",
              "    }\n",
              "</style>\n",
              "<table border=\"1\" class=\"dataframe\">\n",
              "  <thead>\n",
              "    <tr style=\"text-align: right;\">\n",
              "      <th></th>\n",
              "      <th>gender</th>\n",
              "      <th>past_3_years_bike_related_purchases</th>\n",
              "      <th>job_title</th>\n",
              "      <th>job_industry_category</th>\n",
              "      <th>wealth_segment</th>\n",
              "      <th>deceased_indicator</th>\n",
              "      <th>owns_car</th>\n",
              "      <th>tenure</th>\n",
              "      <th>address</th>\n",
              "      <th>postcode</th>\n",
              "      <th>state</th>\n",
              "      <th>country</th>\n",
              "      <th>property_valuation</th>\n",
              "      <th>Rank</th>\n",
              "      <th>Value</th>\n",
              "      <th>name</th>\n",
              "      <th>age</th>\n",
              "      <th>age_group</th>\n",
              "      <th>target</th>\n",
              "      <th>target_proba</th>\n",
              "    </tr>\n",
              "  </thead>\n",
              "  <tbody>\n",
              "    <tr>\n",
              "      <th>207</th>\n",
              "      <td>Female</td>\n",
              "      <td>12</td>\n",
              "      <td>Social Worker</td>\n",
              "      <td>Health</td>\n",
              "      <td>High Net Worth</td>\n",
              "      <td>N</td>\n",
              "      <td>No</td>\n",
              "      <td>19</td>\n",
              "      <td>06 Old Gate Park</td>\n",
              "      <td>2144</td>\n",
              "      <td>NSW</td>\n",
              "      <td>Australia</td>\n",
              "      <td>9</td>\n",
              "      <td>206</td>\n",
              "      <td>1.137500</td>\n",
              "      <td>Jenelle Fearnill</td>\n",
              "      <td>64</td>\n",
              "      <td>The Elderly</td>\n",
              "      <td>1</td>\n",
              "      <td>0.70</td>\n",
              "    </tr>\n",
              "    <tr>\n",
              "      <th>59</th>\n",
              "      <td>Male</td>\n",
              "      <td>47</td>\n",
              "      <td>Cost Accountant</td>\n",
              "      <td>Financial Services</td>\n",
              "      <td>High Net Worth</td>\n",
              "      <td>N</td>\n",
              "      <td>Yes</td>\n",
              "      <td>17</td>\n",
              "      <td>06936 Bobwhite Circle</td>\n",
              "      <td>2257</td>\n",
              "      <td>NSW</td>\n",
              "      <td>Australia</td>\n",
              "      <td>7</td>\n",
              "      <td>57</td>\n",
              "      <td>1.375000</td>\n",
              "      <td>Lorrie Antonelli</td>\n",
              "      <td>39</td>\n",
              "      <td>Adults</td>\n",
              "      <td>1</td>\n",
              "      <td>0.70</td>\n",
              "    </tr>\n",
              "    <tr>\n",
              "      <th>746</th>\n",
              "      <td>Male</td>\n",
              "      <td>69</td>\n",
              "      <td>Health Coach III</td>\n",
              "      <td>Health</td>\n",
              "      <td>High Net Worth</td>\n",
              "      <td>N</td>\n",
              "      <td>No</td>\n",
              "      <td>17</td>\n",
              "      <td>7870 Stuart Crossing</td>\n",
              "      <td>2090</td>\n",
              "      <td>NSW</td>\n",
              "      <td>Australia</td>\n",
              "      <td>7</td>\n",
              "      <td>755</td>\n",
              "      <td>0.640000</td>\n",
              "      <td>Meade Bampton</td>\n",
              "      <td>40</td>\n",
              "      <td>Middle-Aged People</td>\n",
              "      <td>1</td>\n",
              "      <td>0.69</td>\n",
              "    </tr>\n",
              "    <tr>\n",
              "      <th>4</th>\n",
              "      <td>Female</td>\n",
              "      <td>34</td>\n",
              "      <td>Financial Analyst</td>\n",
              "      <td>Financial Services</td>\n",
              "      <td>Affluent Customer</td>\n",
              "      <td>N</td>\n",
              "      <td>No</td>\n",
              "      <td>19</td>\n",
              "      <td>115 Montana Place</td>\n",
              "      <td>2093</td>\n",
              "      <td>NSW</td>\n",
              "      <td>Australia</td>\n",
              "      <td>9</td>\n",
              "      <td>4</td>\n",
              "      <td>1.703125</td>\n",
              "      <td>Melinda Hadlee</td>\n",
              "      <td>57</td>\n",
              "      <td>Middle-Aged People</td>\n",
              "      <td>1</td>\n",
              "      <td>0.69</td>\n",
              "    </tr>\n",
              "    <tr>\n",
              "      <th>458</th>\n",
              "      <td>Male</td>\n",
              "      <td>42</td>\n",
              "      <td>Business Systems Development Analyst</td>\n",
              "      <td>Financial Services</td>\n",
              "      <td>Mass Customer</td>\n",
              "      <td>N</td>\n",
              "      <td>No</td>\n",
              "      <td>19</td>\n",
              "      <td>6218 Delladonna Parkway</td>\n",
              "      <td>4115</td>\n",
              "      <td>QLD</td>\n",
              "      <td>Australia</td>\n",
              "      <td>8</td>\n",
              "      <td>466</td>\n",
              "      <td>0.890000</td>\n",
              "      <td>Thorn Stigers</td>\n",
              "      <td>50</td>\n",
              "      <td>Middle-Aged People</td>\n",
              "      <td>1</td>\n",
              "      <td>0.68</td>\n",
              "    </tr>\n",
              "  </tbody>\n",
              "</table>\n",
              "</div>"
            ],
            "text/plain": [
              "     gender  past_3_years_bike_related_purchases  \\\n",
              "207  Female                                   12   \n",
              "59     Male                                   47   \n",
              "746    Male                                   69   \n",
              "4    Female                                   34   \n",
              "458    Male                                   42   \n",
              "\n",
              "                                job_title job_industry_category  \\\n",
              "207                         Social Worker                Health   \n",
              "59                        Cost Accountant    Financial Services   \n",
              "746                      Health Coach III                Health   \n",
              "4                       Financial Analyst    Financial Services   \n",
              "458  Business Systems Development Analyst    Financial Services   \n",
              "\n",
              "        wealth_segment deceased_indicator owns_car  tenure  \\\n",
              "207     High Net Worth                  N       No      19   \n",
              "59      High Net Worth                  N      Yes      17   \n",
              "746     High Net Worth                  N       No      17   \n",
              "4    Affluent Customer                  N       No      19   \n",
              "458      Mass Customer                  N       No      19   \n",
              "\n",
              "                     address  postcode state    country  property_valuation  \\\n",
              "207         06 Old Gate Park      2144   NSW  Australia                   9   \n",
              "59     06936 Bobwhite Circle      2257   NSW  Australia                   7   \n",
              "746     7870 Stuart Crossing      2090   NSW  Australia                   7   \n",
              "4          115 Montana Place      2093   NSW  Australia                   9   \n",
              "458  6218 Delladonna Parkway      4115   QLD  Australia                   8   \n",
              "\n",
              "     Rank     Value              name  age           age_group  target  \\\n",
              "207   206  1.137500  Jenelle Fearnill   64         The Elderly       1   \n",
              "59     57  1.375000  Lorrie Antonelli   39              Adults       1   \n",
              "746   755  0.640000     Meade Bampton   40  Middle-Aged People       1   \n",
              "4       4  1.703125    Melinda Hadlee   57  Middle-Aged People       1   \n",
              "458   466  0.890000     Thorn Stigers   50  Middle-Aged People       1   \n",
              "\n",
              "     target_proba  \n",
              "207          0.70  \n",
              "59           0.70  \n",
              "746          0.69  \n",
              "4            0.69  \n",
              "458          0.68  "
            ]
          },
          "execution_count": 50,
          "metadata": {},
          "output_type": "execute_result"
        }
      ],
      "source": [
        "target_new = pd.DataFrame(target_new, columns = ['target'])\n",
        "NewCustomerList['target'] = target_new['target']\n",
        "NewCustomerList['target_proba'] = target_proba\n",
        "NewCustomerList.sort_values(by = 'target_proba', ascending=False).head(5)"
      ]
    },
    {
      "cell_type": "code",
      "execution_count": null,
      "id": "41091329-3c15-4ddb-9936-64083fb1e96c",
      "metadata": {
        "id": "41091329-3c15-4ddb-9936-64083fb1e96c"
      },
      "outputs": [],
      "source": []
    }
  ],
  "metadata": {
    "kernelspec": {
      "display_name": "Python 3 (ipykernel)",
      "language": "python",
      "name": "python3"
    },
    "language_info": {
      "codemirror_mode": {
        "name": "ipython",
        "version": 3
      },
      "file_extension": ".py",
      "mimetype": "text/x-python",
      "name": "python",
      "nbconvert_exporter": "python",
      "pygments_lexer": "ipython3",
      "version": "3.9.12"
    },
    "colab": {
      "provenance": [],
      "include_colab_link": true
    }
  },
  "nbformat": 4,
  "nbformat_minor": 5
}