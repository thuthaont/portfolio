{
  "cells": [
    {
      "cell_type": "markdown",
      "metadata": {
        "id": "view-in-github",
        "colab_type": "text"
      },
      "source": [
        "<a href=\"https://colab.research.google.com/github/thuthaont/thuthaont.github.io/blob/main/KPMG_task1.ipynb\" target=\"_parent\"><img src=\"https://colab.research.google.com/assets/colab-badge.svg\" alt=\"Open In Colab\"/></a>"
      ]
    },
    {
      "cell_type": "markdown",
      "id": "47305a4b-584f-4c8f-9120-e7cb84acdeed",
      "metadata": {
        "id": "47305a4b-584f-4c8f-9120-e7cb84acdeed"
      },
      "source": [
        "# <b> <center> <span style=\"color: darkblue; font-size: 1.5em;\"> KPMG Data Analytics Virtual Internship\n",
        "## <b> <center> <span style=\"color: darkblue; font-size: 1.2em;\"> Task 1: Data Quality Assessment"
      ]
    },
    {
      "cell_type": "markdown",
      "id": "d7f49026-f940-456b-a750-aae19ee90634",
      "metadata": {
        "id": "d7f49026-f940-456b-a750-aae19ee90634"
      },
      "source": [
        "## <b> <span style=\"color: darkblue; font-size: 1.0em;\"> Contents\n",
        "- Transactions table\n",
        "- NewCustomerList table\n",
        "- CustomerDemographic table\n",
        "- CustomerAddress table"
      ]
    },
    {
      "cell_type": "code",
      "execution_count": null,
      "id": "2e465f27-422a-41fc-9770-ee14e5009abb",
      "metadata": {
        "id": "2e465f27-422a-41fc-9770-ee14e5009abb"
      },
      "outputs": [],
      "source": [
        "import pandas as pd\n",
        "import numpy as np\n",
        "import datetime as dt"
      ]
    },
    {
      "cell_type": "code",
      "execution_count": null,
      "id": "8c7cacbb-b9a7-4b7a-a8f7-7c946c24a89e",
      "metadata": {
        "id": "8c7cacbb-b9a7-4b7a-a8f7-7c946c24a89e"
      },
      "outputs": [],
      "source": [
        "df = pd.read_excel('KPMG_VI_New_raw_data_update_final.xlsx', sheet_name = [1,2,3,4])"
      ]
    },
    {
      "cell_type": "markdown",
      "id": "dfacb79f-62c3-4deb-9432-b764b61a752e",
      "metadata": {
        "id": "dfacb79f-62c3-4deb-9432-b764b61a752e"
      },
      "source": [
        "### 1. Transactions table"
      ]
    },
    {
      "cell_type": "markdown",
      "id": "78b3b053-8f8b-4260-9983-5b9ae2f99d69",
      "metadata": {
        "id": "78b3b053-8f8b-4260-9983-5b9ae2f99d69"
      },
      "source": [
        "#### First Look At The Data"
      ]
    },
    {
      "cell_type": "code",
      "execution_count": null,
      "id": "0589d28b-f47e-4e10-9957-2d407a9ed455",
      "metadata": {
        "tags": [],
        "id": "0589d28b-f47e-4e10-9957-2d407a9ed455",
        "outputId": "3d3ced73-eeb0-42b4-c6e4-3db2232dc0d9"
      },
      "outputs": [
        {
          "data": {
            "text/html": [
              "<div>\n",
              "<style scoped>\n",
              "    .dataframe tbody tr th:only-of-type {\n",
              "        vertical-align: middle;\n",
              "    }\n",
              "\n",
              "    .dataframe tbody tr th {\n",
              "        vertical-align: top;\n",
              "    }\n",
              "\n",
              "    .dataframe thead th {\n",
              "        text-align: right;\n",
              "    }\n",
              "</style>\n",
              "<table border=\"1\" class=\"dataframe\">\n",
              "  <thead>\n",
              "    <tr style=\"text-align: right;\">\n",
              "      <th></th>\n",
              "      <th>Note: The data and information in this document is reflective of a hypothetical situation and client. This document is to be used for KPMG Virtual Internship purposes only.</th>\n",
              "      <th>Unnamed: 1</th>\n",
              "      <th>Unnamed: 2</th>\n",
              "      <th>Unnamed: 3</th>\n",
              "      <th>Unnamed: 4</th>\n",
              "      <th>Unnamed: 5</th>\n",
              "      <th>Unnamed: 6</th>\n",
              "      <th>Unnamed: 7</th>\n",
              "      <th>Unnamed: 8</th>\n",
              "      <th>Unnamed: 9</th>\n",
              "      <th>Unnamed: 10</th>\n",
              "      <th>Unnamed: 11</th>\n",
              "      <th>Unnamed: 12</th>\n",
              "    </tr>\n",
              "  </thead>\n",
              "  <tbody>\n",
              "    <tr>\n",
              "      <th>0</th>\n",
              "      <td>transaction_id</td>\n",
              "      <td>product_id</td>\n",
              "      <td>customer_id</td>\n",
              "      <td>transaction_date</td>\n",
              "      <td>online_order</td>\n",
              "      <td>order_status</td>\n",
              "      <td>brand</td>\n",
              "      <td>product_line</td>\n",
              "      <td>product_class</td>\n",
              "      <td>product_size</td>\n",
              "      <td>list_price</td>\n",
              "      <td>standard_cost</td>\n",
              "      <td>product_first_sold_date</td>\n",
              "    </tr>\n",
              "    <tr>\n",
              "      <th>1</th>\n",
              "      <td>1</td>\n",
              "      <td>2</td>\n",
              "      <td>2950</td>\n",
              "      <td>2017-02-25 00:00:00</td>\n",
              "      <td>False</td>\n",
              "      <td>Approved</td>\n",
              "      <td>Solex</td>\n",
              "      <td>Standard</td>\n",
              "      <td>medium</td>\n",
              "      <td>medium</td>\n",
              "      <td>71.49</td>\n",
              "      <td>53.62</td>\n",
              "      <td>41245</td>\n",
              "    </tr>\n",
              "    <tr>\n",
              "      <th>2</th>\n",
              "      <td>2</td>\n",
              "      <td>3</td>\n",
              "      <td>3120</td>\n",
              "      <td>2017-05-21 00:00:00</td>\n",
              "      <td>True</td>\n",
              "      <td>Approved</td>\n",
              "      <td>Trek Bicycles</td>\n",
              "      <td>Standard</td>\n",
              "      <td>medium</td>\n",
              "      <td>large</td>\n",
              "      <td>2091.47</td>\n",
              "      <td>388.92</td>\n",
              "      <td>41701</td>\n",
              "    </tr>\n",
              "    <tr>\n",
              "      <th>3</th>\n",
              "      <td>3</td>\n",
              "      <td>37</td>\n",
              "      <td>402</td>\n",
              "      <td>2017-10-16 00:00:00</td>\n",
              "      <td>False</td>\n",
              "      <td>Approved</td>\n",
              "      <td>OHM Cycles</td>\n",
              "      <td>Standard</td>\n",
              "      <td>low</td>\n",
              "      <td>medium</td>\n",
              "      <td>1793.43</td>\n",
              "      <td>248.82</td>\n",
              "      <td>36361</td>\n",
              "    </tr>\n",
              "    <tr>\n",
              "      <th>4</th>\n",
              "      <td>4</td>\n",
              "      <td>88</td>\n",
              "      <td>3135</td>\n",
              "      <td>2017-08-31 00:00:00</td>\n",
              "      <td>False</td>\n",
              "      <td>Approved</td>\n",
              "      <td>Norco Bicycles</td>\n",
              "      <td>Standard</td>\n",
              "      <td>medium</td>\n",
              "      <td>medium</td>\n",
              "      <td>1198.46</td>\n",
              "      <td>381.1</td>\n",
              "      <td>36145</td>\n",
              "    </tr>\n",
              "    <tr>\n",
              "      <th>...</th>\n",
              "      <td>...</td>\n",
              "      <td>...</td>\n",
              "      <td>...</td>\n",
              "      <td>...</td>\n",
              "      <td>...</td>\n",
              "      <td>...</td>\n",
              "      <td>...</td>\n",
              "      <td>...</td>\n",
              "      <td>...</td>\n",
              "      <td>...</td>\n",
              "      <td>...</td>\n",
              "      <td>...</td>\n",
              "      <td>...</td>\n",
              "    </tr>\n",
              "    <tr>\n",
              "      <th>19996</th>\n",
              "      <td>19996</td>\n",
              "      <td>51</td>\n",
              "      <td>1018</td>\n",
              "      <td>2017-06-24 00:00:00</td>\n",
              "      <td>True</td>\n",
              "      <td>Approved</td>\n",
              "      <td>OHM Cycles</td>\n",
              "      <td>Standard</td>\n",
              "      <td>high</td>\n",
              "      <td>medium</td>\n",
              "      <td>2005.66</td>\n",
              "      <td>1203.4</td>\n",
              "      <td>37823</td>\n",
              "    </tr>\n",
              "    <tr>\n",
              "      <th>19997</th>\n",
              "      <td>19997</td>\n",
              "      <td>41</td>\n",
              "      <td>127</td>\n",
              "      <td>2017-11-09 00:00:00</td>\n",
              "      <td>True</td>\n",
              "      <td>Approved</td>\n",
              "      <td>Solex</td>\n",
              "      <td>Road</td>\n",
              "      <td>medium</td>\n",
              "      <td>medium</td>\n",
              "      <td>416.98</td>\n",
              "      <td>312.74</td>\n",
              "      <td>35560</td>\n",
              "    </tr>\n",
              "    <tr>\n",
              "      <th>19998</th>\n",
              "      <td>19998</td>\n",
              "      <td>87</td>\n",
              "      <td>2284</td>\n",
              "      <td>2017-04-14 00:00:00</td>\n",
              "      <td>True</td>\n",
              "      <td>Approved</td>\n",
              "      <td>OHM Cycles</td>\n",
              "      <td>Standard</td>\n",
              "      <td>medium</td>\n",
              "      <td>medium</td>\n",
              "      <td>1636.9</td>\n",
              "      <td>44.71</td>\n",
              "      <td>40410</td>\n",
              "    </tr>\n",
              "    <tr>\n",
              "      <th>19999</th>\n",
              "      <td>19999</td>\n",
              "      <td>6</td>\n",
              "      <td>2764</td>\n",
              "      <td>2017-07-03 00:00:00</td>\n",
              "      <td>False</td>\n",
              "      <td>Approved</td>\n",
              "      <td>OHM Cycles</td>\n",
              "      <td>Standard</td>\n",
              "      <td>high</td>\n",
              "      <td>medium</td>\n",
              "      <td>227.88</td>\n",
              "      <td>136.73</td>\n",
              "      <td>38216</td>\n",
              "    </tr>\n",
              "    <tr>\n",
              "      <th>20000</th>\n",
              "      <td>20000</td>\n",
              "      <td>11</td>\n",
              "      <td>1144</td>\n",
              "      <td>2017-09-22 00:00:00</td>\n",
              "      <td>True</td>\n",
              "      <td>Approved</td>\n",
              "      <td>Trek Bicycles</td>\n",
              "      <td>Standard</td>\n",
              "      <td>medium</td>\n",
              "      <td>small</td>\n",
              "      <td>1775.81</td>\n",
              "      <td>1580.47</td>\n",
              "      <td>36334</td>\n",
              "    </tr>\n",
              "  </tbody>\n",
              "</table>\n",
              "<p>20001 rows × 13 columns</p>\n",
              "</div>"
            ],
            "text/plain": [
              "      Note: The data and information in this document is reflective of a hypothetical situation and client. This document is to be used for KPMG Virtual Internship purposes only.   \\\n",
              "0                                         transaction_id                                                                                                                              \n",
              "1                                                      1                                                                                                                              \n",
              "2                                                      2                                                                                                                              \n",
              "3                                                      3                                                                                                                              \n",
              "4                                                      4                                                                                                                              \n",
              "...                                                  ...                                                                                                                              \n",
              "19996                                              19996                                                                                                                              \n",
              "19997                                              19997                                                                                                                              \n",
              "19998                                              19998                                                                                                                              \n",
              "19999                                              19999                                                                                                                              \n",
              "20000                                              20000                                                                                                                              \n",
              "\n",
              "       Unnamed: 1   Unnamed: 2           Unnamed: 3    Unnamed: 4  \\\n",
              "0      product_id  customer_id     transaction_date  online_order   \n",
              "1               2         2950  2017-02-25 00:00:00         False   \n",
              "2               3         3120  2017-05-21 00:00:00          True   \n",
              "3              37          402  2017-10-16 00:00:00         False   \n",
              "4              88         3135  2017-08-31 00:00:00         False   \n",
              "...           ...          ...                  ...           ...   \n",
              "19996          51         1018  2017-06-24 00:00:00          True   \n",
              "19997          41          127  2017-11-09 00:00:00          True   \n",
              "19998          87         2284  2017-04-14 00:00:00          True   \n",
              "19999           6         2764  2017-07-03 00:00:00         False   \n",
              "20000          11         1144  2017-09-22 00:00:00          True   \n",
              "\n",
              "         Unnamed: 5      Unnamed: 6    Unnamed: 7     Unnamed: 8  \\\n",
              "0      order_status           brand  product_line  product_class   \n",
              "1          Approved           Solex      Standard         medium   \n",
              "2          Approved   Trek Bicycles      Standard         medium   \n",
              "3          Approved      OHM Cycles      Standard            low   \n",
              "4          Approved  Norco Bicycles      Standard         medium   \n",
              "...             ...             ...           ...            ...   \n",
              "19996      Approved      OHM Cycles      Standard           high   \n",
              "19997      Approved           Solex          Road         medium   \n",
              "19998      Approved      OHM Cycles      Standard         medium   \n",
              "19999      Approved      OHM Cycles      Standard           high   \n",
              "20000      Approved   Trek Bicycles      Standard         medium   \n",
              "\n",
              "         Unnamed: 9 Unnamed: 10    Unnamed: 11              Unnamed: 12  \n",
              "0      product_size  list_price  standard_cost  product_first_sold_date  \n",
              "1            medium       71.49          53.62                    41245  \n",
              "2             large     2091.47         388.92                    41701  \n",
              "3            medium     1793.43         248.82                    36361  \n",
              "4            medium     1198.46          381.1                    36145  \n",
              "...             ...         ...            ...                      ...  \n",
              "19996        medium     2005.66         1203.4                    37823  \n",
              "19997        medium      416.98         312.74                    35560  \n",
              "19998        medium      1636.9          44.71                    40410  \n",
              "19999        medium      227.88         136.73                    38216  \n",
              "20000         small     1775.81        1580.47                    36334  \n",
              "\n",
              "[20001 rows x 13 columns]"
            ]
          },
          "execution_count": 3,
          "metadata": {},
          "output_type": "execute_result"
        }
      ],
      "source": [
        "df[1]"
      ]
    },
    {
      "cell_type": "markdown",
      "id": "c971b51e-8bfd-4bdb-bfa7-bda1918f0da5",
      "metadata": {
        "id": "c971b51e-8bfd-4bdb-bfa7-bda1918f0da5"
      },
      "source": [
        "##### <u>Comment</u>:\n",
        "As the header of the dataframe is incorrect, we will put the first row as header."
      ]
    },
    {
      "cell_type": "markdown",
      "id": "586154e8-8b01-4790-84a7-fdefe90247c6",
      "metadata": {
        "id": "586154e8-8b01-4790-84a7-fdefe90247c6"
      },
      "source": [
        "#### Change the header"
      ]
    },
    {
      "cell_type": "code",
      "execution_count": null,
      "id": "d3accaa1-78cd-461f-8f0a-542ea62fa47a",
      "metadata": {
        "id": "d3accaa1-78cd-461f-8f0a-542ea62fa47a",
        "outputId": "a1ce6ec0-5cc3-4417-fba2-6eff472a74e9"
      },
      "outputs": [
        {
          "data": {
            "text/html": [
              "<div>\n",
              "<style scoped>\n",
              "    .dataframe tbody tr th:only-of-type {\n",
              "        vertical-align: middle;\n",
              "    }\n",
              "\n",
              "    .dataframe tbody tr th {\n",
              "        vertical-align: top;\n",
              "    }\n",
              "\n",
              "    .dataframe thead th {\n",
              "        text-align: right;\n",
              "    }\n",
              "</style>\n",
              "<table border=\"1\" class=\"dataframe\">\n",
              "  <thead>\n",
              "    <tr style=\"text-align: right;\">\n",
              "      <th></th>\n",
              "      <th>transaction_id</th>\n",
              "      <th>product_id</th>\n",
              "      <th>customer_id</th>\n",
              "      <th>transaction_date</th>\n",
              "      <th>online_order</th>\n",
              "      <th>order_status</th>\n",
              "      <th>brand</th>\n",
              "      <th>product_line</th>\n",
              "      <th>product_class</th>\n",
              "      <th>product_size</th>\n",
              "      <th>list_price</th>\n",
              "      <th>standard_cost</th>\n",
              "      <th>product_first_sold_date</th>\n",
              "    </tr>\n",
              "  </thead>\n",
              "  <tbody>\n",
              "    <tr>\n",
              "      <th>1</th>\n",
              "      <td>1</td>\n",
              "      <td>2</td>\n",
              "      <td>2950</td>\n",
              "      <td>2017-02-25 00:00:00</td>\n",
              "      <td>False</td>\n",
              "      <td>Approved</td>\n",
              "      <td>Solex</td>\n",
              "      <td>Standard</td>\n",
              "      <td>medium</td>\n",
              "      <td>medium</td>\n",
              "      <td>71.49</td>\n",
              "      <td>53.62</td>\n",
              "      <td>41245</td>\n",
              "    </tr>\n",
              "    <tr>\n",
              "      <th>2</th>\n",
              "      <td>2</td>\n",
              "      <td>3</td>\n",
              "      <td>3120</td>\n",
              "      <td>2017-05-21 00:00:00</td>\n",
              "      <td>True</td>\n",
              "      <td>Approved</td>\n",
              "      <td>Trek Bicycles</td>\n",
              "      <td>Standard</td>\n",
              "      <td>medium</td>\n",
              "      <td>large</td>\n",
              "      <td>2091.47</td>\n",
              "      <td>388.92</td>\n",
              "      <td>41701</td>\n",
              "    </tr>\n",
              "    <tr>\n",
              "      <th>3</th>\n",
              "      <td>3</td>\n",
              "      <td>37</td>\n",
              "      <td>402</td>\n",
              "      <td>2017-10-16 00:00:00</td>\n",
              "      <td>False</td>\n",
              "      <td>Approved</td>\n",
              "      <td>OHM Cycles</td>\n",
              "      <td>Standard</td>\n",
              "      <td>low</td>\n",
              "      <td>medium</td>\n",
              "      <td>1793.43</td>\n",
              "      <td>248.82</td>\n",
              "      <td>36361</td>\n",
              "    </tr>\n",
              "    <tr>\n",
              "      <th>4</th>\n",
              "      <td>4</td>\n",
              "      <td>88</td>\n",
              "      <td>3135</td>\n",
              "      <td>2017-08-31 00:00:00</td>\n",
              "      <td>False</td>\n",
              "      <td>Approved</td>\n",
              "      <td>Norco Bicycles</td>\n",
              "      <td>Standard</td>\n",
              "      <td>medium</td>\n",
              "      <td>medium</td>\n",
              "      <td>1198.46</td>\n",
              "      <td>381.1</td>\n",
              "      <td>36145</td>\n",
              "    </tr>\n",
              "    <tr>\n",
              "      <th>5</th>\n",
              "      <td>5</td>\n",
              "      <td>78</td>\n",
              "      <td>787</td>\n",
              "      <td>2017-10-01 00:00:00</td>\n",
              "      <td>True</td>\n",
              "      <td>Approved</td>\n",
              "      <td>Giant Bicycles</td>\n",
              "      <td>Standard</td>\n",
              "      <td>medium</td>\n",
              "      <td>large</td>\n",
              "      <td>1765.3</td>\n",
              "      <td>709.48</td>\n",
              "      <td>42226</td>\n",
              "    </tr>\n",
              "  </tbody>\n",
              "</table>\n",
              "</div>"
            ],
            "text/plain": [
              "  transaction_id product_id customer_id     transaction_date online_order  \\\n",
              "1              1          2        2950  2017-02-25 00:00:00        False   \n",
              "2              2          3        3120  2017-05-21 00:00:00         True   \n",
              "3              3         37         402  2017-10-16 00:00:00        False   \n",
              "4              4         88        3135  2017-08-31 00:00:00        False   \n",
              "5              5         78         787  2017-10-01 00:00:00         True   \n",
              "\n",
              "  order_status           brand product_line product_class product_size  \\\n",
              "1     Approved           Solex     Standard        medium       medium   \n",
              "2     Approved   Trek Bicycles     Standard        medium        large   \n",
              "3     Approved      OHM Cycles     Standard           low       medium   \n",
              "4     Approved  Norco Bicycles     Standard        medium       medium   \n",
              "5     Approved  Giant Bicycles     Standard        medium        large   \n",
              "\n",
              "  list_price standard_cost product_first_sold_date  \n",
              "1      71.49         53.62                   41245  \n",
              "2    2091.47        388.92                   41701  \n",
              "3    1793.43        248.82                   36361  \n",
              "4    1198.46         381.1                   36145  \n",
              "5     1765.3        709.48                   42226  "
            ]
          },
          "execution_count": 4,
          "metadata": {},
          "output_type": "execute_result"
        }
      ],
      "source": [
        "new_header_1 = df[1].iloc[0] \n",
        "transactions = df[1][1:]\n",
        "transactions.columns = new_header_1\n",
        "transactions = transactions.rename_axis(None, axis = 1)\n",
        "transactions.head()"
      ]
    },
    {
      "cell_type": "markdown",
      "id": "4584191f-1b67-4567-b088-b2e79dfba996",
      "metadata": {
        "id": "4584191f-1b67-4567-b088-b2e79dfba996"
      },
      "source": [
        "#### Data types"
      ]
    },
    {
      "cell_type": "code",
      "execution_count": null,
      "id": "c7c59937-c5d5-4540-9bc1-bb3e587012c2",
      "metadata": {
        "id": "c7c59937-c5d5-4540-9bc1-bb3e587012c2",
        "outputId": "b0b580da-f7d0-44cd-d147-99fe0cc19b6c"
      },
      "outputs": [
        {
          "name": "stdout",
          "output_type": "stream",
          "text": [
            "<class 'pandas.core.frame.DataFrame'>\n",
            "RangeIndex: 20000 entries, 1 to 20000\n",
            "Data columns (total 13 columns):\n",
            " #   Column                   Non-Null Count  Dtype \n",
            "---  ------                   --------------  ----- \n",
            " 0   transaction_id           20000 non-null  object\n",
            " 1   product_id               20000 non-null  object\n",
            " 2   customer_id              20000 non-null  object\n",
            " 3   transaction_date         20000 non-null  object\n",
            " 4   online_order             19640 non-null  object\n",
            " 5   order_status             20000 non-null  object\n",
            " 6   brand                    19803 non-null  object\n",
            " 7   product_line             19803 non-null  object\n",
            " 8   product_class            19803 non-null  object\n",
            " 9   product_size             19803 non-null  object\n",
            " 10  list_price               20000 non-null  object\n",
            " 11  standard_cost            19803 non-null  object\n",
            " 12  product_first_sold_date  19803 non-null  object\n",
            "dtypes: object(13)\n",
            "memory usage: 2.0+ MB\n"
          ]
        }
      ],
      "source": [
        "transactions.info()"
      ]
    },
    {
      "cell_type": "code",
      "execution_count": null,
      "id": "532e20eb-babf-4480-a1f7-ebf940143183",
      "metadata": {
        "id": "532e20eb-babf-4480-a1f7-ebf940143183"
      },
      "outputs": [],
      "source": [
        "#change the currency variables to float\n",
        "transactions['list_price'] = pd.to_numeric(transactions['list_price'], errors='coerce')\n",
        "transactions['standard_cost'] = pd.to_numeric(transactions['standard_cost'], errors='coerce')\n",
        "#change the date variable to datetime\n",
        "transactions['transaction_date'] =  pd.to_datetime(transactions['transaction_date'], format='%Y-%m-%d')"
      ]
    },
    {
      "cell_type": "markdown",
      "id": "8ae65651-c657-4a3c-9278-01df7d4dc408",
      "metadata": {
        "id": "8ae65651-c657-4a3c-9278-01df7d4dc408"
      },
      "source": [
        "#### Completeness"
      ]
    },
    {
      "cell_type": "code",
      "execution_count": null,
      "id": "6dd0b8c0-2700-4b40-9d12-1bb293af032e",
      "metadata": {
        "id": "6dd0b8c0-2700-4b40-9d12-1bb293af032e",
        "outputId": "92cd1cc3-b12a-4d0c-9e3d-c3017d9c60d5"
      },
      "outputs": [
        {
          "data": {
            "text/plain": [
              "transaction_id               0\n",
              "product_id                   0\n",
              "customer_id                  0\n",
              "transaction_date             0\n",
              "online_order               360\n",
              "order_status                 0\n",
              "brand                      197\n",
              "product_line               197\n",
              "product_class              197\n",
              "product_size               197\n",
              "list_price                   0\n",
              "standard_cost              197\n",
              "product_first_sold_date    197\n",
              "dtype: int64"
            ]
          },
          "execution_count": 7,
          "metadata": {},
          "output_type": "execute_result"
        }
      ],
      "source": [
        "transactions.isna().sum()"
      ]
    },
    {
      "cell_type": "markdown",
      "id": "76b4dd52-a3d0-4f91-b4fc-79c0d1e16c61",
      "metadata": {
        "id": "76b4dd52-a3d0-4f91-b4fc-79c0d1e16c61"
      },
      "source": [
        "##### <u>Comment</u>:\n",
        "We found 360 missing values in “online_order” column and 197 blanks in 6 other columns (“brand”, “product_line”, “product_class”, “product_size”, “standard_cost”, “product_first_sold_date”). \n",
        "- As 197 rows with missing values are lacking almost a half of the information, we will remove all those 197 rows to reduce completeness. \n",
        "- In the “online_order” column, we found out that the proportions of True and False values are approximately the same, so we will fill the missing values with the last valid values forward."
      ]
    },
    {
      "cell_type": "code",
      "execution_count": null,
      "id": "711ff09f-d76f-4334-ac4e-784e3f1a0dc3",
      "metadata": {
        "id": "711ff09f-d76f-4334-ac4e-784e3f1a0dc3"
      },
      "outputs": [],
      "source": [
        "#remove 197 missing values from the dataframe\n",
        "transactions.dropna(subset=['brand'], inplace=True)\n",
        "transactions.reset_index(drop=True, inplace=True)"
      ]
    },
    {
      "cell_type": "code",
      "execution_count": null,
      "id": "8db3770e-79d0-4a2e-8b76-276438715417",
      "metadata": {
        "id": "8db3770e-79d0-4a2e-8b76-276438715417",
        "outputId": "b5050ec3-c906-45d2-ed11-726c382bd791"
      },
      "outputs": [
        {
          "data": {
            "text/plain": [
              "True     9739\n",
              "False    9706\n",
              "Name: online_order, dtype: int64"
            ]
          },
          "execution_count": 9,
          "metadata": {},
          "output_type": "execute_result"
        }
      ],
      "source": [
        "transactions['online_order'].value_counts()"
      ]
    },
    {
      "cell_type": "code",
      "execution_count": null,
      "id": "d41a2d6e-65d6-4781-84d2-c1b10bb20f7a",
      "metadata": {
        "id": "d41a2d6e-65d6-4781-84d2-c1b10bb20f7a"
      },
      "outputs": [],
      "source": [
        "#fill missing values with the last valid observation forward\n",
        "transactions['online_order'] = transactions['online_order'].fillna(method='ffill')"
      ]
    },
    {
      "cell_type": "markdown",
      "id": "dbc34d79-f2ca-4bc5-a840-288e6d5bb487",
      "metadata": {
        "id": "dbc34d79-f2ca-4bc5-a840-288e6d5bb487"
      },
      "source": [
        "#### Relevancy"
      ]
    },
    {
      "cell_type": "markdown",
      "id": "04c1a6a9-78bd-4e07-8b2f-ab8233989149",
      "metadata": {
        "id": "04c1a6a9-78bd-4e07-8b2f-ab8233989149"
      },
      "source": [
        "##### <u>Comment</u>:\n",
        "We also see that all the values in “product_first_sold_date” column are in 5 digit date serial numbers, which are supposed to be in date type. Therefore, we will change the values into datetime format."
      ]
    },
    {
      "cell_type": "code",
      "execution_count": null,
      "id": "393ca539-ffe4-4e21-8446-92ff64fe0ad4",
      "metadata": {
        "id": "393ca539-ffe4-4e21-8446-92ff64fe0ad4"
      },
      "outputs": [],
      "source": [
        "#change the figures in \"product_first_sold_date\" into date\n",
        "lst = []\n",
        "for x in np.array(transactions['product_first_sold_date']):\n",
        "    lst.append(dt.datetime(1899, 12, 30) + dt.timedelta(days= x))\n",
        "transactions['product_first_sold_date'] = np.array(lst)"
      ]
    },
    {
      "cell_type": "code",
      "execution_count": null,
      "id": "3e8c67b7-6e02-4392-9270-7c311bc33fe0",
      "metadata": {
        "id": "3e8c67b7-6e02-4392-9270-7c311bc33fe0"
      },
      "outputs": [],
      "source": [
        "transactions['product_first_sold_date'] =  pd.to_datetime(transactions['product_first_sold_date'], format='%Y-%m-%d')"
      ]
    },
    {
      "cell_type": "markdown",
      "id": "d24e965e-388f-4da1-8063-cbdba9cc2a6c",
      "metadata": {
        "id": "d24e965e-388f-4da1-8063-cbdba9cc2a6c"
      },
      "source": [
        "### 2. NewCustomerList table"
      ]
    },
    {
      "cell_type": "markdown",
      "id": "b7dac56d-f595-4117-bd1a-a171808966b6",
      "metadata": {
        "id": "b7dac56d-f595-4117-bd1a-a171808966b6"
      },
      "source": [
        "#### First Look At The Data"
      ]
    },
    {
      "cell_type": "code",
      "execution_count": null,
      "id": "e1740b39-707a-4652-b124-d84f77c2ed72",
      "metadata": {
        "id": "e1740b39-707a-4652-b124-d84f77c2ed72",
        "outputId": "77430ecc-f7a5-4536-a7dd-02dd372aeed5"
      },
      "outputs": [
        {
          "data": {
            "text/html": [
              "<div>\n",
              "<style scoped>\n",
              "    .dataframe tbody tr th:only-of-type {\n",
              "        vertical-align: middle;\n",
              "    }\n",
              "\n",
              "    .dataframe tbody tr th {\n",
              "        vertical-align: top;\n",
              "    }\n",
              "\n",
              "    .dataframe thead th {\n",
              "        text-align: right;\n",
              "    }\n",
              "</style>\n",
              "<table border=\"1\" class=\"dataframe\">\n",
              "  <thead>\n",
              "    <tr style=\"text-align: right;\">\n",
              "      <th></th>\n",
              "      <th>Note: The data and information in this document is reflective of a hypothetical situation and client. This document is to be used for KPMG Virtual Internship purposes only.</th>\n",
              "      <th>Unnamed: 1</th>\n",
              "      <th>Unnamed: 2</th>\n",
              "      <th>Unnamed: 3</th>\n",
              "      <th>Unnamed: 4</th>\n",
              "      <th>Unnamed: 5</th>\n",
              "      <th>Unnamed: 6</th>\n",
              "      <th>Unnamed: 7</th>\n",
              "      <th>Unnamed: 8</th>\n",
              "      <th>Unnamed: 9</th>\n",
              "      <th>...</th>\n",
              "      <th>Unnamed: 13</th>\n",
              "      <th>Unnamed: 14</th>\n",
              "      <th>Unnamed: 15</th>\n",
              "      <th>Unnamed: 16</th>\n",
              "      <th>Unnamed: 17</th>\n",
              "      <th>Unnamed: 18</th>\n",
              "      <th>Unnamed: 19</th>\n",
              "      <th>Unnamed: 20</th>\n",
              "      <th>Unnamed: 21</th>\n",
              "      <th>Unnamed: 22</th>\n",
              "    </tr>\n",
              "  </thead>\n",
              "  <tbody>\n",
              "    <tr>\n",
              "      <th>0</th>\n",
              "      <td>first_name</td>\n",
              "      <td>last_name</td>\n",
              "      <td>gender</td>\n",
              "      <td>past_3_years_bike_related_purchases</td>\n",
              "      <td>DOB</td>\n",
              "      <td>job_title</td>\n",
              "      <td>job_industry_category</td>\n",
              "      <td>wealth_segment</td>\n",
              "      <td>deceased_indicator</td>\n",
              "      <td>owns_car</td>\n",
              "      <td>...</td>\n",
              "      <td>state</td>\n",
              "      <td>country</td>\n",
              "      <td>property_valuation</td>\n",
              "      <td>NaN</td>\n",
              "      <td>NaN</td>\n",
              "      <td>NaN</td>\n",
              "      <td>NaN</td>\n",
              "      <td>NaN</td>\n",
              "      <td>Rank</td>\n",
              "      <td>Value</td>\n",
              "    </tr>\n",
              "    <tr>\n",
              "      <th>1</th>\n",
              "      <td>Chickie</td>\n",
              "      <td>Brister</td>\n",
              "      <td>Male</td>\n",
              "      <td>86</td>\n",
              "      <td>1957-07-12</td>\n",
              "      <td>General Manager</td>\n",
              "      <td>Manufacturing</td>\n",
              "      <td>Mass Customer</td>\n",
              "      <td>N</td>\n",
              "      <td>Yes</td>\n",
              "      <td>...</td>\n",
              "      <td>QLD</td>\n",
              "      <td>Australia</td>\n",
              "      <td>6</td>\n",
              "      <td>0.56</td>\n",
              "      <td>0.7000</td>\n",
              "      <td>0.875000</td>\n",
              "      <td>0.743750</td>\n",
              "      <td>1.0</td>\n",
              "      <td>1</td>\n",
              "      <td>1.71875</td>\n",
              "    </tr>\n",
              "    <tr>\n",
              "      <th>2</th>\n",
              "      <td>Morly</td>\n",
              "      <td>Genery</td>\n",
              "      <td>Male</td>\n",
              "      <td>69</td>\n",
              "      <td>1970-03-22</td>\n",
              "      <td>Structural Engineer</td>\n",
              "      <td>Property</td>\n",
              "      <td>Mass Customer</td>\n",
              "      <td>N</td>\n",
              "      <td>No</td>\n",
              "      <td>...</td>\n",
              "      <td>NSW</td>\n",
              "      <td>Australia</td>\n",
              "      <td>11</td>\n",
              "      <td>0.89</td>\n",
              "      <td>0.8900</td>\n",
              "      <td>1.112500</td>\n",
              "      <td>0.945625</td>\n",
              "      <td>1.0</td>\n",
              "      <td>1</td>\n",
              "      <td>1.71875</td>\n",
              "    </tr>\n",
              "    <tr>\n",
              "      <th>3</th>\n",
              "      <td>Ardelis</td>\n",
              "      <td>Forrester</td>\n",
              "      <td>Female</td>\n",
              "      <td>10</td>\n",
              "      <td>1974-08-28 00:00:00</td>\n",
              "      <td>Senior Cost Accountant</td>\n",
              "      <td>Financial Services</td>\n",
              "      <td>Affluent Customer</td>\n",
              "      <td>N</td>\n",
              "      <td>No</td>\n",
              "      <td>...</td>\n",
              "      <td>VIC</td>\n",
              "      <td>Australia</td>\n",
              "      <td>5</td>\n",
              "      <td>1.01</td>\n",
              "      <td>1.0100</td>\n",
              "      <td>1.010000</td>\n",
              "      <td>1.010000</td>\n",
              "      <td>1.0</td>\n",
              "      <td>1</td>\n",
              "      <td>1.71875</td>\n",
              "    </tr>\n",
              "    <tr>\n",
              "      <th>4</th>\n",
              "      <td>Lucine</td>\n",
              "      <td>Stutt</td>\n",
              "      <td>Female</td>\n",
              "      <td>64</td>\n",
              "      <td>1979-01-28</td>\n",
              "      <td>Account Representative III</td>\n",
              "      <td>Manufacturing</td>\n",
              "      <td>Affluent Customer</td>\n",
              "      <td>N</td>\n",
              "      <td>Yes</td>\n",
              "      <td>...</td>\n",
              "      <td>QLD</td>\n",
              "      <td>Australia</td>\n",
              "      <td>1</td>\n",
              "      <td>0.87</td>\n",
              "      <td>1.0875</td>\n",
              "      <td>1.087500</td>\n",
              "      <td>1.087500</td>\n",
              "      <td>4.0</td>\n",
              "      <td>4</td>\n",
              "      <td>1.703125</td>\n",
              "    </tr>\n",
              "    <tr>\n",
              "      <th>...</th>\n",
              "      <td>...</td>\n",
              "      <td>...</td>\n",
              "      <td>...</td>\n",
              "      <td>...</td>\n",
              "      <td>...</td>\n",
              "      <td>...</td>\n",
              "      <td>...</td>\n",
              "      <td>...</td>\n",
              "      <td>...</td>\n",
              "      <td>...</td>\n",
              "      <td>...</td>\n",
              "      <td>...</td>\n",
              "      <td>...</td>\n",
              "      <td>...</td>\n",
              "      <td>...</td>\n",
              "      <td>...</td>\n",
              "      <td>...</td>\n",
              "      <td>...</td>\n",
              "      <td>...</td>\n",
              "      <td>...</td>\n",
              "      <td>...</td>\n",
              "    </tr>\n",
              "    <tr>\n",
              "      <th>996</th>\n",
              "      <td>Ferdinand</td>\n",
              "      <td>Romanetti</td>\n",
              "      <td>Male</td>\n",
              "      <td>60</td>\n",
              "      <td>1959-10-07</td>\n",
              "      <td>Paralegal</td>\n",
              "      <td>Financial Services</td>\n",
              "      <td>Affluent Customer</td>\n",
              "      <td>N</td>\n",
              "      <td>No</td>\n",
              "      <td>...</td>\n",
              "      <td>NSW</td>\n",
              "      <td>Australia</td>\n",
              "      <td>7</td>\n",
              "      <td>0.79</td>\n",
              "      <td>0.7900</td>\n",
              "      <td>0.790000</td>\n",
              "      <td>0.790000</td>\n",
              "      <td>996.0</td>\n",
              "      <td>996</td>\n",
              "      <td>0.374</td>\n",
              "    </tr>\n",
              "    <tr>\n",
              "      <th>997</th>\n",
              "      <td>Burk</td>\n",
              "      <td>Wortley</td>\n",
              "      <td>Male</td>\n",
              "      <td>22</td>\n",
              "      <td>2001-10-17</td>\n",
              "      <td>Senior Sales Associate</td>\n",
              "      <td>Health</td>\n",
              "      <td>Mass Customer</td>\n",
              "      <td>N</td>\n",
              "      <td>No</td>\n",
              "      <td>...</td>\n",
              "      <td>NSW</td>\n",
              "      <td>Australia</td>\n",
              "      <td>10</td>\n",
              "      <td>0.76</td>\n",
              "      <td>0.7600</td>\n",
              "      <td>0.950000</td>\n",
              "      <td>0.807500</td>\n",
              "      <td>997.0</td>\n",
              "      <td>997</td>\n",
              "      <td>0.357</td>\n",
              "    </tr>\n",
              "    <tr>\n",
              "      <th>998</th>\n",
              "      <td>Melloney</td>\n",
              "      <td>Temby</td>\n",
              "      <td>Female</td>\n",
              "      <td>17</td>\n",
              "      <td>1954-10-05</td>\n",
              "      <td>Budget/Accounting Analyst IV</td>\n",
              "      <td>Financial Services</td>\n",
              "      <td>Affluent Customer</td>\n",
              "      <td>N</td>\n",
              "      <td>Yes</td>\n",
              "      <td>...</td>\n",
              "      <td>QLD</td>\n",
              "      <td>Australia</td>\n",
              "      <td>2</td>\n",
              "      <td>0.85</td>\n",
              "      <td>1.0625</td>\n",
              "      <td>1.062500</td>\n",
              "      <td>1.062500</td>\n",
              "      <td>997.0</td>\n",
              "      <td>997</td>\n",
              "      <td>0.357</td>\n",
              "    </tr>\n",
              "    <tr>\n",
              "      <th>999</th>\n",
              "      <td>Dickie</td>\n",
              "      <td>Cubbini</td>\n",
              "      <td>Male</td>\n",
              "      <td>30</td>\n",
              "      <td>1952-12-17</td>\n",
              "      <td>Financial Advisor</td>\n",
              "      <td>Financial Services</td>\n",
              "      <td>Mass Customer</td>\n",
              "      <td>N</td>\n",
              "      <td>Yes</td>\n",
              "      <td>...</td>\n",
              "      <td>QLD</td>\n",
              "      <td>Australia</td>\n",
              "      <td>2</td>\n",
              "      <td>1.09</td>\n",
              "      <td>1.3625</td>\n",
              "      <td>1.362500</td>\n",
              "      <td>1.158125</td>\n",
              "      <td>997.0</td>\n",
              "      <td>997</td>\n",
              "      <td>0.357</td>\n",
              "    </tr>\n",
              "    <tr>\n",
              "      <th>1000</th>\n",
              "      <td>Sylas</td>\n",
              "      <td>Duffill</td>\n",
              "      <td>Male</td>\n",
              "      <td>56</td>\n",
              "      <td>1955-10-02</td>\n",
              "      <td>Staff Accountant IV</td>\n",
              "      <td>Property</td>\n",
              "      <td>Mass Customer</td>\n",
              "      <td>N</td>\n",
              "      <td>Yes</td>\n",
              "      <td>...</td>\n",
              "      <td>NSW</td>\n",
              "      <td>Australia</td>\n",
              "      <td>9</td>\n",
              "      <td>0.47</td>\n",
              "      <td>0.5875</td>\n",
              "      <td>0.734375</td>\n",
              "      <td>0.624219</td>\n",
              "      <td>1000.0</td>\n",
              "      <td>1000</td>\n",
              "      <td>0.34</td>\n",
              "    </tr>\n",
              "  </tbody>\n",
              "</table>\n",
              "<p>1001 rows × 23 columns</p>\n",
              "</div>"
            ],
            "text/plain": [
              "     Note: The data and information in this document is reflective of a hypothetical situation and client. This document is to be used for KPMG Virtual Internship purposes only.   \\\n",
              "0                                            first_name                                                                                                                              \n",
              "1                                               Chickie                                                                                                                              \n",
              "2                                                 Morly                                                                                                                              \n",
              "3                                               Ardelis                                                                                                                              \n",
              "4                                                Lucine                                                                                                                              \n",
              "...                                                 ...                                                                                                                              \n",
              "996                                           Ferdinand                                                                                                                              \n",
              "997                                                Burk                                                                                                                              \n",
              "998                                            Melloney                                                                                                                              \n",
              "999                                              Dickie                                                                                                                              \n",
              "1000                                              Sylas                                                                                                                              \n",
              "\n",
              "     Unnamed: 1 Unnamed: 2                           Unnamed: 3  \\\n",
              "0     last_name     gender  past_3_years_bike_related_purchases   \n",
              "1       Brister       Male                                   86   \n",
              "2        Genery       Male                                   69   \n",
              "3     Forrester     Female                                   10   \n",
              "4         Stutt     Female                                   64   \n",
              "...         ...        ...                                  ...   \n",
              "996   Romanetti       Male                                   60   \n",
              "997     Wortley       Male                                   22   \n",
              "998       Temby     Female                                   17   \n",
              "999     Cubbini       Male                                   30   \n",
              "1000    Duffill       Male                                   56   \n",
              "\n",
              "               Unnamed: 4                    Unnamed: 5  \\\n",
              "0                     DOB                     job_title   \n",
              "1              1957-07-12               General Manager   \n",
              "2              1970-03-22           Structural Engineer   \n",
              "3     1974-08-28 00:00:00        Senior Cost Accountant   \n",
              "4              1979-01-28    Account Representative III   \n",
              "...                   ...                           ...   \n",
              "996            1959-10-07                     Paralegal   \n",
              "997            2001-10-17        Senior Sales Associate   \n",
              "998            1954-10-05  Budget/Accounting Analyst IV   \n",
              "999            1952-12-17             Financial Advisor   \n",
              "1000           1955-10-02           Staff Accountant IV   \n",
              "\n",
              "                 Unnamed: 6         Unnamed: 7          Unnamed: 8 Unnamed: 9  \\\n",
              "0     job_industry_category     wealth_segment  deceased_indicator   owns_car   \n",
              "1             Manufacturing      Mass Customer                   N        Yes   \n",
              "2                  Property      Mass Customer                   N         No   \n",
              "3        Financial Services  Affluent Customer                   N         No   \n",
              "4             Manufacturing  Affluent Customer                   N        Yes   \n",
              "...                     ...                ...                 ...        ...   \n",
              "996      Financial Services  Affluent Customer                   N         No   \n",
              "997                  Health      Mass Customer                   N         No   \n",
              "998      Financial Services  Affluent Customer                   N        Yes   \n",
              "999      Financial Services      Mass Customer                   N        Yes   \n",
              "1000               Property      Mass Customer                   N        Yes   \n",
              "\n",
              "      ... Unnamed: 13 Unnamed: 14         Unnamed: 15 Unnamed: 16 Unnamed: 17  \\\n",
              "0     ...       state     country  property_valuation         NaN         NaN   \n",
              "1     ...         QLD   Australia                   6        0.56      0.7000   \n",
              "2     ...         NSW   Australia                  11        0.89      0.8900   \n",
              "3     ...         VIC   Australia                   5        1.01      1.0100   \n",
              "4     ...         QLD   Australia                   1        0.87      1.0875   \n",
              "...   ...         ...         ...                 ...         ...         ...   \n",
              "996   ...         NSW   Australia                   7        0.79      0.7900   \n",
              "997   ...         NSW   Australia                  10        0.76      0.7600   \n",
              "998   ...         QLD   Australia                   2        0.85      1.0625   \n",
              "999   ...         QLD   Australia                   2        1.09      1.3625   \n",
              "1000  ...         NSW   Australia                   9        0.47      0.5875   \n",
              "\n",
              "     Unnamed: 18  Unnamed: 19  Unnamed: 20  Unnamed: 21  Unnamed: 22  \n",
              "0            NaN          NaN          NaN         Rank        Value  \n",
              "1       0.875000     0.743750          1.0            1      1.71875  \n",
              "2       1.112500     0.945625          1.0            1      1.71875  \n",
              "3       1.010000     1.010000          1.0            1      1.71875  \n",
              "4       1.087500     1.087500          4.0            4     1.703125  \n",
              "...          ...          ...          ...          ...          ...  \n",
              "996     0.790000     0.790000        996.0          996        0.374  \n",
              "997     0.950000     0.807500        997.0          997        0.357  \n",
              "998     1.062500     1.062500        997.0          997        0.357  \n",
              "999     1.362500     1.158125        997.0          997        0.357  \n",
              "1000    0.734375     0.624219       1000.0         1000         0.34  \n",
              "\n",
              "[1001 rows x 23 columns]"
            ]
          },
          "execution_count": 13,
          "metadata": {},
          "output_type": "execute_result"
        }
      ],
      "source": [
        "df[2]"
      ]
    },
    {
      "cell_type": "markdown",
      "id": "917162cf-f906-4d47-bceb-da7f7bd7b5ea",
      "metadata": {
        "id": "917162cf-f906-4d47-bceb-da7f7bd7b5ea"
      },
      "source": [
        "#### Change the header"
      ]
    },
    {
      "cell_type": "code",
      "execution_count": null,
      "id": "f3a4114d-f623-4da4-aa69-7208103234f6",
      "metadata": {
        "id": "f3a4114d-f623-4da4-aa69-7208103234f6",
        "outputId": "8a5ace24-d095-4737-ffc2-ce9bdf108632"
      },
      "outputs": [
        {
          "data": {
            "text/html": [
              "<div>\n",
              "<style scoped>\n",
              "    .dataframe tbody tr th:only-of-type {\n",
              "        vertical-align: middle;\n",
              "    }\n",
              "\n",
              "    .dataframe tbody tr th {\n",
              "        vertical-align: top;\n",
              "    }\n",
              "\n",
              "    .dataframe thead th {\n",
              "        text-align: right;\n",
              "    }\n",
              "</style>\n",
              "<table border=\"1\" class=\"dataframe\">\n",
              "  <thead>\n",
              "    <tr style=\"text-align: right;\">\n",
              "      <th></th>\n",
              "      <th>first_name</th>\n",
              "      <th>last_name</th>\n",
              "      <th>gender</th>\n",
              "      <th>past_3_years_bike_related_purchases</th>\n",
              "      <th>DOB</th>\n",
              "      <th>job_title</th>\n",
              "      <th>job_industry_category</th>\n",
              "      <th>wealth_segment</th>\n",
              "      <th>deceased_indicator</th>\n",
              "      <th>owns_car</th>\n",
              "      <th>...</th>\n",
              "      <th>state</th>\n",
              "      <th>country</th>\n",
              "      <th>property_valuation</th>\n",
              "      <th>NaN</th>\n",
              "      <th>NaN</th>\n",
              "      <th>NaN</th>\n",
              "      <th>NaN</th>\n",
              "      <th>NaN</th>\n",
              "      <th>Rank</th>\n",
              "      <th>Value</th>\n",
              "    </tr>\n",
              "  </thead>\n",
              "  <tbody>\n",
              "    <tr>\n",
              "      <th>1</th>\n",
              "      <td>Chickie</td>\n",
              "      <td>Brister</td>\n",
              "      <td>Male</td>\n",
              "      <td>86</td>\n",
              "      <td>1957-07-12</td>\n",
              "      <td>General Manager</td>\n",
              "      <td>Manufacturing</td>\n",
              "      <td>Mass Customer</td>\n",
              "      <td>N</td>\n",
              "      <td>Yes</td>\n",
              "      <td>...</td>\n",
              "      <td>QLD</td>\n",
              "      <td>Australia</td>\n",
              "      <td>6</td>\n",
              "      <td>0.56</td>\n",
              "      <td>0.7000</td>\n",
              "      <td>0.8750</td>\n",
              "      <td>0.743750</td>\n",
              "      <td>1.0</td>\n",
              "      <td>1</td>\n",
              "      <td>1.71875</td>\n",
              "    </tr>\n",
              "    <tr>\n",
              "      <th>2</th>\n",
              "      <td>Morly</td>\n",
              "      <td>Genery</td>\n",
              "      <td>Male</td>\n",
              "      <td>69</td>\n",
              "      <td>1970-03-22</td>\n",
              "      <td>Structural Engineer</td>\n",
              "      <td>Property</td>\n",
              "      <td>Mass Customer</td>\n",
              "      <td>N</td>\n",
              "      <td>No</td>\n",
              "      <td>...</td>\n",
              "      <td>NSW</td>\n",
              "      <td>Australia</td>\n",
              "      <td>11</td>\n",
              "      <td>0.89</td>\n",
              "      <td>0.8900</td>\n",
              "      <td>1.1125</td>\n",
              "      <td>0.945625</td>\n",
              "      <td>1.0</td>\n",
              "      <td>1</td>\n",
              "      <td>1.71875</td>\n",
              "    </tr>\n",
              "    <tr>\n",
              "      <th>3</th>\n",
              "      <td>Ardelis</td>\n",
              "      <td>Forrester</td>\n",
              "      <td>Female</td>\n",
              "      <td>10</td>\n",
              "      <td>1974-08-28 00:00:00</td>\n",
              "      <td>Senior Cost Accountant</td>\n",
              "      <td>Financial Services</td>\n",
              "      <td>Affluent Customer</td>\n",
              "      <td>N</td>\n",
              "      <td>No</td>\n",
              "      <td>...</td>\n",
              "      <td>VIC</td>\n",
              "      <td>Australia</td>\n",
              "      <td>5</td>\n",
              "      <td>1.01</td>\n",
              "      <td>1.0100</td>\n",
              "      <td>1.0100</td>\n",
              "      <td>1.010000</td>\n",
              "      <td>1.0</td>\n",
              "      <td>1</td>\n",
              "      <td>1.71875</td>\n",
              "    </tr>\n",
              "    <tr>\n",
              "      <th>4</th>\n",
              "      <td>Lucine</td>\n",
              "      <td>Stutt</td>\n",
              "      <td>Female</td>\n",
              "      <td>64</td>\n",
              "      <td>1979-01-28</td>\n",
              "      <td>Account Representative III</td>\n",
              "      <td>Manufacturing</td>\n",
              "      <td>Affluent Customer</td>\n",
              "      <td>N</td>\n",
              "      <td>Yes</td>\n",
              "      <td>...</td>\n",
              "      <td>QLD</td>\n",
              "      <td>Australia</td>\n",
              "      <td>1</td>\n",
              "      <td>0.87</td>\n",
              "      <td>1.0875</td>\n",
              "      <td>1.0875</td>\n",
              "      <td>1.087500</td>\n",
              "      <td>4.0</td>\n",
              "      <td>4</td>\n",
              "      <td>1.703125</td>\n",
              "    </tr>\n",
              "    <tr>\n",
              "      <th>5</th>\n",
              "      <td>Melinda</td>\n",
              "      <td>Hadlee</td>\n",
              "      <td>Female</td>\n",
              "      <td>34</td>\n",
              "      <td>1965-09-21</td>\n",
              "      <td>Financial Analyst</td>\n",
              "      <td>Financial Services</td>\n",
              "      <td>Affluent Customer</td>\n",
              "      <td>N</td>\n",
              "      <td>No</td>\n",
              "      <td>...</td>\n",
              "      <td>NSW</td>\n",
              "      <td>Australia</td>\n",
              "      <td>9</td>\n",
              "      <td>0.52</td>\n",
              "      <td>0.5200</td>\n",
              "      <td>0.6500</td>\n",
              "      <td>0.650000</td>\n",
              "      <td>4.0</td>\n",
              "      <td>4</td>\n",
              "      <td>1.703125</td>\n",
              "    </tr>\n",
              "  </tbody>\n",
              "</table>\n",
              "<p>5 rows × 23 columns</p>\n",
              "</div>"
            ],
            "text/plain": [
              "  first_name  last_name  gender past_3_years_bike_related_purchases  \\\n",
              "1    Chickie    Brister    Male                                  86   \n",
              "2      Morly     Genery    Male                                  69   \n",
              "3    Ardelis  Forrester  Female                                  10   \n",
              "4     Lucine      Stutt  Female                                  64   \n",
              "5    Melinda     Hadlee  Female                                  34   \n",
              "\n",
              "                   DOB                   job_title job_industry_category  \\\n",
              "1           1957-07-12             General Manager         Manufacturing   \n",
              "2           1970-03-22         Structural Engineer              Property   \n",
              "3  1974-08-28 00:00:00      Senior Cost Accountant    Financial Services   \n",
              "4           1979-01-28  Account Representative III         Manufacturing   \n",
              "5           1965-09-21           Financial Analyst    Financial Services   \n",
              "\n",
              "      wealth_segment deceased_indicator owns_car  ... state    country  \\\n",
              "1      Mass Customer                  N      Yes  ...   QLD  Australia   \n",
              "2      Mass Customer                  N       No  ...   NSW  Australia   \n",
              "3  Affluent Customer                  N       No  ...   VIC  Australia   \n",
              "4  Affluent Customer                  N      Yes  ...   QLD  Australia   \n",
              "5  Affluent Customer                  N       No  ...   NSW  Australia   \n",
              "\n",
              "  property_valuation   NaN     NaN     NaN       NaN  NaN  Rank     Value  \n",
              "1                  6  0.56  0.7000  0.8750  0.743750  1.0     1   1.71875  \n",
              "2                 11  0.89  0.8900  1.1125  0.945625  1.0     1   1.71875  \n",
              "3                  5  1.01  1.0100  1.0100  1.010000  1.0     1   1.71875  \n",
              "4                  1  0.87  1.0875  1.0875  1.087500  4.0     4  1.703125  \n",
              "5                  9  0.52  0.5200  0.6500  0.650000  4.0     4  1.703125  \n",
              "\n",
              "[5 rows x 23 columns]"
            ]
          },
          "execution_count": 14,
          "metadata": {},
          "output_type": "execute_result"
        }
      ],
      "source": [
        "new_header_2 = df[2].iloc[0] \n",
        "newcust = df[2][1:]\n",
        "newcust.columns = new_header_2\n",
        "newcust = newcust.rename_axis(None, axis = 1)\n",
        "newcust.head()"
      ]
    },
    {
      "cell_type": "markdown",
      "id": "7aecd895-c0d9-4f4c-84b4-a83a176fecc2",
      "metadata": {
        "id": "7aecd895-c0d9-4f4c-84b4-a83a176fecc2"
      },
      "source": [
        "#### Data types"
      ]
    },
    {
      "cell_type": "code",
      "execution_count": null,
      "id": "4ff79549-84fd-4403-818e-cb588050b872",
      "metadata": {
        "id": "4ff79549-84fd-4403-818e-cb588050b872",
        "outputId": "1c938357-6c0f-4965-85a3-69c4b76ca3fd"
      },
      "outputs": [
        {
          "name": "stdout",
          "output_type": "stream",
          "text": [
            "<class 'pandas.core.frame.DataFrame'>\n",
            "RangeIndex: 1000 entries, 1 to 1000\n",
            "Data columns (total 23 columns):\n",
            " #   Column                               Non-Null Count  Dtype  \n",
            "---  ------                               --------------  -----  \n",
            " 0   first_name                           1000 non-null   object \n",
            " 1   last_name                            971 non-null    object \n",
            " 2   gender                               1000 non-null   object \n",
            " 3   past_3_years_bike_related_purchases  1000 non-null   object \n",
            " 4   DOB                                  983 non-null    object \n",
            " 5   job_title                            894 non-null    object \n",
            " 6   job_industry_category                835 non-null    object \n",
            " 7   wealth_segment                       1000 non-null   object \n",
            " 8   deceased_indicator                   1000 non-null   object \n",
            " 9   owns_car                             1000 non-null   object \n",
            " 10  tenure                               1000 non-null   object \n",
            " 11  address                              1000 non-null   object \n",
            " 12  postcode                             1000 non-null   object \n",
            " 13  state                                1000 non-null   object \n",
            " 14  country                              1000 non-null   object \n",
            " 15  property_valuation                   1000 non-null   object \n",
            " 16  nan                                  1000 non-null   float64\n",
            " 17  nan                                  1000 non-null   float64\n",
            " 18  nan                                  1000 non-null   float64\n",
            " 19  nan                                  1000 non-null   float64\n",
            " 20  nan                                  1000 non-null   float64\n",
            " 21  Rank                                 1000 non-null   object \n",
            " 22  Value                                1000 non-null   object \n",
            "dtypes: float64(5), object(18)\n",
            "memory usage: 179.8+ KB\n"
          ]
        }
      ],
      "source": [
        "newcust.info()"
      ]
    },
    {
      "cell_type": "code",
      "execution_count": null,
      "id": "2fc3301c-e3c5-4ba8-ac2b-b863c215cb1a",
      "metadata": {
        "id": "2fc3301c-e3c5-4ba8-ac2b-b863c215cb1a"
      },
      "outputs": [],
      "source": [
        "#drop unnecessary columns\n",
        "newcust.drop(newcust.columns[[16, 17, 18, 19, 20]], inplace = True, axis = 1)"
      ]
    },
    {
      "cell_type": "code",
      "execution_count": null,
      "id": "b2c13459-f695-407b-97b2-8c7621557d40",
      "metadata": {
        "id": "b2c13459-f695-407b-97b2-8c7621557d40"
      },
      "outputs": [],
      "source": [
        "#change the numerical variables to float\n",
        "newcust['tenure'] = pd.to_numeric(newcust['tenure'], errors='coerce')\n",
        "newcust['Rank'] = pd.to_numeric(newcust['Rank'], errors='coerce')\n",
        "newcust['Value'] = pd.to_numeric(newcust['Value'], errors='coerce')\n",
        "#change the date variable to datetime\n",
        "newcust['DOB'] =  pd.to_datetime(newcust['DOB'], format='%Y-%m-%d')"
      ]
    },
    {
      "cell_type": "markdown",
      "id": "218698b5-2140-442f-86d8-ae23e57b625e",
      "metadata": {
        "id": "218698b5-2140-442f-86d8-ae23e57b625e"
      },
      "source": [
        "#### Consistency"
      ]
    },
    {
      "cell_type": "code",
      "execution_count": null,
      "id": "f8dc8c9f-4e11-4849-856b-5c057c509a7d",
      "metadata": {
        "id": "f8dc8c9f-4e11-4849-856b-5c057c509a7d",
        "outputId": "393d5f9e-6b9c-4a3a-ffc5-ba0cd442ac26"
      },
      "outputs": [
        {
          "data": {
            "text/plain": [
              "Female    513\n",
              "Male      470\n",
              "U          17\n",
              "Name: gender, dtype: int64"
            ]
          },
          "execution_count": 18,
          "metadata": {},
          "output_type": "execute_result"
        }
      ],
      "source": [
        "newcust['gender'].value_counts()"
      ]
    },
    {
      "cell_type": "markdown",
      "id": "16f05892-d99c-4419-a3c8-d9bfdfca684d",
      "metadata": {
        "id": "16f05892-d99c-4419-a3c8-d9bfdfca684d"
      },
      "source": [
        "##### <u>Comment</u>:\n",
        "In “gender” column, there are 17 values named “U” which do not seem to represent any gender types. We will discard these values later."
      ]
    },
    {
      "cell_type": "markdown",
      "id": "b69c5a22-d157-4b2d-b4c7-7095fa5251a5",
      "metadata": {
        "id": "b69c5a22-d157-4b2d-b4c7-7095fa5251a5"
      },
      "source": [
        "#### Completeness"
      ]
    },
    {
      "cell_type": "code",
      "execution_count": null,
      "id": "8535cb81-11ca-4713-947d-e4991aa8dfaf",
      "metadata": {
        "id": "8535cb81-11ca-4713-947d-e4991aa8dfaf",
        "outputId": "2dff814c-0534-4a7e-97fc-7ab51fa68d0f"
      },
      "outputs": [
        {
          "data": {
            "text/plain": [
              "first_name                               0\n",
              "last_name                               29\n",
              "gender                                   0\n",
              "past_3_years_bike_related_purchases      0\n",
              "DOB                                     17\n",
              "job_title                              106\n",
              "job_industry_category                  165\n",
              "wealth_segment                           0\n",
              "deceased_indicator                       0\n",
              "owns_car                                 0\n",
              "tenure                                   0\n",
              "address                                  0\n",
              "postcode                                 0\n",
              "state                                    0\n",
              "country                                  0\n",
              "property_valuation                       0\n",
              "Rank                                     0\n",
              "Value                                    0\n",
              "dtype: int64"
            ]
          },
          "execution_count": 19,
          "metadata": {},
          "output_type": "execute_result"
        }
      ],
      "source": [
        "newcust.isna().sum()"
      ]
    },
    {
      "cell_type": "markdown",
      "id": "3d382960-6d6b-488e-8fbc-a8399203f347",
      "metadata": {
        "id": "3d382960-6d6b-488e-8fbc-a8399203f347"
      },
      "source": [
        "##### <u>Comment</u>:\n",
        "There are 29 missing values in “last_name” column, 17 null values in “DOB”, 106 blanks in “job_title” column and 165 blank values in “job_industry_category”. \n",
        "- To mitigate the missing values in “last_name” variable, we will create a new column called “name” which consists of both first name and last name. This new column will replace “first_name” and “last_name” variables, so we will remove these 2 old columns."
      ]
    },
    {
      "cell_type": "code",
      "execution_count": null,
      "id": "56025094-58ea-4bf8-83ae-e70880b8e171",
      "metadata": {
        "id": "56025094-58ea-4bf8-83ae-e70880b8e171"
      },
      "outputs": [],
      "source": [
        "#create a name variable that contains both first name and last name\n",
        "newcust['name'] = newcust['first_name'] + ' ' + newcust['last_name'].fillna('')\n",
        "newcust.drop(['first_name', 'last_name'], inplace = True, axis = 1)"
      ]
    },
    {
      "cell_type": "markdown",
      "id": "25226877-17d3-4ca0-be8a-edfff4a37e9b",
      "metadata": {
        "id": "25226877-17d3-4ca0-be8a-edfff4a37e9b"
      },
      "source": [
        "- We also found that “DOB” contains exactly 17 missing values in all “U” gender rows. Therefore, we will remove missing values in “DOB” column to solve the problem of completeness as well as consistency."
      ]
    },
    {
      "cell_type": "code",
      "execution_count": null,
      "id": "34f032ac-685d-49c3-a32d-da153b1261d3",
      "metadata": {
        "id": "34f032ac-685d-49c3-a32d-da153b1261d3"
      },
      "outputs": [],
      "source": [
        "#Remove missing values in DOB \n",
        "newcust.dropna(subset=['DOB'], inplace=True)\n",
        "newcust.reset_index(drop=True, inplace=True)"
      ]
    },
    {
      "cell_type": "markdown",
      "id": "2159e949-7b42-4018-9c83-5c65fb7275d9",
      "metadata": {
        "id": "2159e949-7b42-4018-9c83-5c65fb7275d9"
      },
      "source": [
        "- We deal with the blanks in “job_title” and “job_industry_category” by filling them with the last valid values forward."
      ]
    },
    {
      "cell_type": "code",
      "execution_count": null,
      "id": "579ec197-3928-4a1a-becc-aebdbb2504a1",
      "metadata": {
        "id": "579ec197-3928-4a1a-becc-aebdbb2504a1",
        "outputId": "aa088b19-6822-44f1-c3a0-c44f38d5976d"
      },
      "outputs": [
        {
          "data": {
            "text/plain": [
              "Environmental Tech          14\n",
              "Software Consultant         14\n",
              "Associate Professor         14\n",
              "Chief Design Engineer       13\n",
              "Cost Accountant             12\n",
              "                            ..\n",
              "Web Developer II             1\n",
              "Statistician III             1\n",
              "Systems Administrator IV     1\n",
              "Accounting Assistant IV      1\n",
              "Web Developer I              1\n",
              "Name: job_title, Length: 184, dtype: int64"
            ]
          },
          "execution_count": 22,
          "metadata": {},
          "output_type": "execute_result"
        }
      ],
      "source": [
        "newcust['job_title'].value_counts()"
      ]
    },
    {
      "cell_type": "code",
      "execution_count": null,
      "id": "b1654e1e-c38a-46e9-a7ac-650d30691d6f",
      "metadata": {
        "id": "b1654e1e-c38a-46e9-a7ac-650d30691d6f"
      },
      "outputs": [],
      "source": [
        "#fill missing values with the last valid observation forward\n",
        "newcust['job_title'] = newcust['job_title'].fillna(method='ffill')"
      ]
    },
    {
      "cell_type": "code",
      "execution_count": null,
      "id": "532e2cb1-0296-4a72-9645-6bc57bfbafd5",
      "metadata": {
        "id": "532e2cb1-0296-4a72-9645-6bc57bfbafd5",
        "outputId": "1dcf8a33-8e52-473d-91e3-139dcf85a455"
      },
      "outputs": [
        {
          "data": {
            "text/plain": [
              "Financial Services    202\n",
              "Manufacturing         199\n",
              "Health                152\n",
              "Retail                 78\n",
              "Property               64\n",
              "Entertainment          36\n",
              "IT                     36\n",
              "Argiculture            26\n",
              "Telecommunications     25\n",
              "Name: job_industry_category, dtype: int64"
            ]
          },
          "execution_count": 24,
          "metadata": {},
          "output_type": "execute_result"
        }
      ],
      "source": [
        "newcust['job_industry_category'].value_counts()"
      ]
    },
    {
      "cell_type": "code",
      "execution_count": null,
      "id": "01dc55a8-4e3c-4c76-ae5e-aea5a2ab7f08",
      "metadata": {
        "id": "01dc55a8-4e3c-4c76-ae5e-aea5a2ab7f08"
      },
      "outputs": [],
      "source": [
        "#fill missing values with the last valid observation forward\n",
        "newcust['job_industry_category'] = newcust['job_industry_category'].fillna(method='ffill')"
      ]
    },
    {
      "cell_type": "markdown",
      "id": "5cade038-3dde-4524-83e5-7c11b4bbf173",
      "metadata": {
        "id": "5cade038-3dde-4524-83e5-7c11b4bbf173"
      },
      "source": [
        "### 3. CustomerDemographic table "
      ]
    },
    {
      "cell_type": "markdown",
      "id": "80561aae-9638-4faf-9cb3-27c21f80cf8d",
      "metadata": {
        "id": "80561aae-9638-4faf-9cb3-27c21f80cf8d"
      },
      "source": [
        "#### First Look At The Data"
      ]
    },
    {
      "cell_type": "code",
      "execution_count": null,
      "id": "35876ddc-3ebf-482f-a260-069eae18a8ef",
      "metadata": {
        "id": "35876ddc-3ebf-482f-a260-069eae18a8ef",
        "outputId": "12b1d25c-5b8d-4487-c348-b5e4697230d1"
      },
      "outputs": [
        {
          "data": {
            "text/html": [
              "<div>\n",
              "<style scoped>\n",
              "    .dataframe tbody tr th:only-of-type {\n",
              "        vertical-align: middle;\n",
              "    }\n",
              "\n",
              "    .dataframe tbody tr th {\n",
              "        vertical-align: top;\n",
              "    }\n",
              "\n",
              "    .dataframe thead th {\n",
              "        text-align: right;\n",
              "    }\n",
              "</style>\n",
              "<table border=\"1\" class=\"dataframe\">\n",
              "  <thead>\n",
              "    <tr style=\"text-align: right;\">\n",
              "      <th></th>\n",
              "      <th>Note: The data and information in this document is reflective of a hypothetical situation and client. This document is to be used for KPMG Virtual Internship purposes only.</th>\n",
              "      <th>Unnamed: 1</th>\n",
              "      <th>Unnamed: 2</th>\n",
              "      <th>Unnamed: 3</th>\n",
              "      <th>Unnamed: 4</th>\n",
              "      <th>Unnamed: 5</th>\n",
              "      <th>Unnamed: 6</th>\n",
              "      <th>Unnamed: 7</th>\n",
              "      <th>Unnamed: 8</th>\n",
              "      <th>Unnamed: 9</th>\n",
              "      <th>Unnamed: 10</th>\n",
              "      <th>Unnamed: 11</th>\n",
              "      <th>Unnamed: 12</th>\n",
              "    </tr>\n",
              "  </thead>\n",
              "  <tbody>\n",
              "    <tr>\n",
              "      <th>0</th>\n",
              "      <td>customer_id</td>\n",
              "      <td>first_name</td>\n",
              "      <td>last_name</td>\n",
              "      <td>gender</td>\n",
              "      <td>past_3_years_bike_related_purchases</td>\n",
              "      <td>DOB</td>\n",
              "      <td>job_title</td>\n",
              "      <td>job_industry_category</td>\n",
              "      <td>wealth_segment</td>\n",
              "      <td>deceased_indicator</td>\n",
              "      <td>default</td>\n",
              "      <td>owns_car</td>\n",
              "      <td>tenure</td>\n",
              "    </tr>\n",
              "    <tr>\n",
              "      <th>1</th>\n",
              "      <td>1</td>\n",
              "      <td>Laraine</td>\n",
              "      <td>Medendorp</td>\n",
              "      <td>F</td>\n",
              "      <td>93</td>\n",
              "      <td>1953-10-12 00:00:00</td>\n",
              "      <td>Executive Secretary</td>\n",
              "      <td>Health</td>\n",
              "      <td>Mass Customer</td>\n",
              "      <td>N</td>\n",
              "      <td>\"'</td>\n",
              "      <td>Yes</td>\n",
              "      <td>11</td>\n",
              "    </tr>\n",
              "    <tr>\n",
              "      <th>2</th>\n",
              "      <td>2</td>\n",
              "      <td>Eli</td>\n",
              "      <td>Bockman</td>\n",
              "      <td>Male</td>\n",
              "      <td>81</td>\n",
              "      <td>1980-12-16 00:00:00</td>\n",
              "      <td>Administrative Officer</td>\n",
              "      <td>Financial Services</td>\n",
              "      <td>Mass Customer</td>\n",
              "      <td>N</td>\n",
              "      <td>&lt;script&gt;alert('hi')&lt;/script&gt;</td>\n",
              "      <td>Yes</td>\n",
              "      <td>16</td>\n",
              "    </tr>\n",
              "    <tr>\n",
              "      <th>3</th>\n",
              "      <td>3</td>\n",
              "      <td>Arlin</td>\n",
              "      <td>Dearle</td>\n",
              "      <td>Male</td>\n",
              "      <td>61</td>\n",
              "      <td>1954-01-20 00:00:00</td>\n",
              "      <td>Recruiting Manager</td>\n",
              "      <td>Property</td>\n",
              "      <td>Mass Customer</td>\n",
              "      <td>N</td>\n",
              "      <td>2018-02-01 00:00:00</td>\n",
              "      <td>Yes</td>\n",
              "      <td>15</td>\n",
              "    </tr>\n",
              "    <tr>\n",
              "      <th>4</th>\n",
              "      <td>4</td>\n",
              "      <td>Talbot</td>\n",
              "      <td>NaN</td>\n",
              "      <td>Male</td>\n",
              "      <td>33</td>\n",
              "      <td>1961-10-03 00:00:00</td>\n",
              "      <td>NaN</td>\n",
              "      <td>IT</td>\n",
              "      <td>Mass Customer</td>\n",
              "      <td>N</td>\n",
              "      <td>() { _; } &gt;_[$($())] { touch /tmp/blns.shellsh...</td>\n",
              "      <td>No</td>\n",
              "      <td>7</td>\n",
              "    </tr>\n",
              "    <tr>\n",
              "      <th>...</th>\n",
              "      <td>...</td>\n",
              "      <td>...</td>\n",
              "      <td>...</td>\n",
              "      <td>...</td>\n",
              "      <td>...</td>\n",
              "      <td>...</td>\n",
              "      <td>...</td>\n",
              "      <td>...</td>\n",
              "      <td>...</td>\n",
              "      <td>...</td>\n",
              "      <td>...</td>\n",
              "      <td>...</td>\n",
              "      <td>...</td>\n",
              "    </tr>\n",
              "    <tr>\n",
              "      <th>3996</th>\n",
              "      <td>3996</td>\n",
              "      <td>Rosalia</td>\n",
              "      <td>Halgarth</td>\n",
              "      <td>Female</td>\n",
              "      <td>8</td>\n",
              "      <td>1975-08-09 00:00:00</td>\n",
              "      <td>VP Product Management</td>\n",
              "      <td>Health</td>\n",
              "      <td>Mass Customer</td>\n",
              "      <td>N</td>\n",
              "      <td>-100</td>\n",
              "      <td>No</td>\n",
              "      <td>19</td>\n",
              "    </tr>\n",
              "    <tr>\n",
              "      <th>3997</th>\n",
              "      <td>3997</td>\n",
              "      <td>Blanch</td>\n",
              "      <td>Nisuis</td>\n",
              "      <td>Female</td>\n",
              "      <td>87</td>\n",
              "      <td>2001-07-13 00:00:00</td>\n",
              "      <td>Statistician II</td>\n",
              "      <td>Manufacturing</td>\n",
              "      <td>High Net Worth</td>\n",
              "      <td>N</td>\n",
              "      <td>â¦testâ§</td>\n",
              "      <td>Yes</td>\n",
              "      <td>1</td>\n",
              "    </tr>\n",
              "    <tr>\n",
              "      <th>3998</th>\n",
              "      <td>3998</td>\n",
              "      <td>Sarene</td>\n",
              "      <td>Woolley</td>\n",
              "      <td>U</td>\n",
              "      <td>60</td>\n",
              "      <td>NaN</td>\n",
              "      <td>Assistant Manager</td>\n",
              "      <td>IT</td>\n",
              "      <td>High Net Worth</td>\n",
              "      <td>N</td>\n",
              "      <td>NaN</td>\n",
              "      <td>No</td>\n",
              "      <td>NaN</td>\n",
              "    </tr>\n",
              "    <tr>\n",
              "      <th>3999</th>\n",
              "      <td>3999</td>\n",
              "      <td>Patrizius</td>\n",
              "      <td>NaN</td>\n",
              "      <td>Male</td>\n",
              "      <td>11</td>\n",
              "      <td>1973-10-24 00:00:00</td>\n",
              "      <td>NaN</td>\n",
              "      <td>Manufacturing</td>\n",
              "      <td>Affluent Customer</td>\n",
              "      <td>N</td>\n",
              "      <td>Â¡â¢Â£Â¢âÂ§Â¶â¢ÂªÂºââ</td>\n",
              "      <td>Yes</td>\n",
              "      <td>10</td>\n",
              "    </tr>\n",
              "    <tr>\n",
              "      <th>4000</th>\n",
              "      <td>4000</td>\n",
              "      <td>Kippy</td>\n",
              "      <td>Oldland</td>\n",
              "      <td>Male</td>\n",
              "      <td>76</td>\n",
              "      <td>1991-11-05 00:00:00</td>\n",
              "      <td>Software Engineer IV</td>\n",
              "      <td>NaN</td>\n",
              "      <td>Affluent Customer</td>\n",
              "      <td>N</td>\n",
              "      <td>0/0</td>\n",
              "      <td>No</td>\n",
              "      <td>11</td>\n",
              "    </tr>\n",
              "  </tbody>\n",
              "</table>\n",
              "<p>4001 rows × 13 columns</p>\n",
              "</div>"
            ],
            "text/plain": [
              "     Note: The data and information in this document is reflective of a hypothetical situation and client. This document is to be used for KPMG Virtual Internship purposes only.   \\\n",
              "0                                           customer_id                                                                                                                              \n",
              "1                                                     1                                                                                                                              \n",
              "2                                                     2                                                                                                                              \n",
              "3                                                     3                                                                                                                              \n",
              "4                                                     4                                                                                                                              \n",
              "...                                                 ...                                                                                                                              \n",
              "3996                                               3996                                                                                                                              \n",
              "3997                                               3997                                                                                                                              \n",
              "3998                                               3998                                                                                                                              \n",
              "3999                                               3999                                                                                                                              \n",
              "4000                                               4000                                                                                                                              \n",
              "\n",
              "      Unnamed: 1 Unnamed: 2 Unnamed: 3                           Unnamed: 4  \\\n",
              "0     first_name  last_name     gender  past_3_years_bike_related_purchases   \n",
              "1        Laraine  Medendorp          F                                   93   \n",
              "2            Eli    Bockman       Male                                   81   \n",
              "3          Arlin     Dearle       Male                                   61   \n",
              "4         Talbot        NaN       Male                                   33   \n",
              "...          ...        ...        ...                                  ...   \n",
              "3996     Rosalia   Halgarth     Female                                    8   \n",
              "3997      Blanch     Nisuis     Female                                   87   \n",
              "3998      Sarene    Woolley          U                                   60   \n",
              "3999   Patrizius        NaN       Male                                   11   \n",
              "4000       Kippy    Oldland       Male                                   76   \n",
              "\n",
              "               Unnamed: 5              Unnamed: 6             Unnamed: 7  \\\n",
              "0                     DOB               job_title  job_industry_category   \n",
              "1     1953-10-12 00:00:00     Executive Secretary                 Health   \n",
              "2     1980-12-16 00:00:00  Administrative Officer     Financial Services   \n",
              "3     1954-01-20 00:00:00      Recruiting Manager               Property   \n",
              "4     1961-10-03 00:00:00                     NaN                     IT   \n",
              "...                   ...                     ...                    ...   \n",
              "3996  1975-08-09 00:00:00   VP Product Management                 Health   \n",
              "3997  2001-07-13 00:00:00         Statistician II          Manufacturing   \n",
              "3998                  NaN       Assistant Manager                     IT   \n",
              "3999  1973-10-24 00:00:00                     NaN          Manufacturing   \n",
              "4000  1991-11-05 00:00:00    Software Engineer IV                    NaN   \n",
              "\n",
              "             Unnamed: 8          Unnamed: 9  \\\n",
              "0        wealth_segment  deceased_indicator   \n",
              "1         Mass Customer                   N   \n",
              "2         Mass Customer                   N   \n",
              "3         Mass Customer                   N   \n",
              "4         Mass Customer                   N   \n",
              "...                 ...                 ...   \n",
              "3996      Mass Customer                   N   \n",
              "3997     High Net Worth                   N   \n",
              "3998     High Net Worth                   N   \n",
              "3999  Affluent Customer                   N   \n",
              "4000  Affluent Customer                   N   \n",
              "\n",
              "                                            Unnamed: 10 Unnamed: 11  \\\n",
              "0                                               default    owns_car   \n",
              "1                                                    \"'         Yes   \n",
              "2                          <script>alert('hi')</script>         Yes   \n",
              "3                                   2018-02-01 00:00:00         Yes   \n",
              "4     () { _; } >_[$($())] { touch /tmp/blns.shellsh...          No   \n",
              "...                                                 ...         ...   \n",
              "3996                                               -100          No   \n",
              "3997                                           â¦testâ§         Yes   \n",
              "3998                                                NaN          No   \n",
              "3999                             Â¡â¢Â£Â¢âÂ§Â¶â¢ÂªÂºââ          Yes   \n",
              "4000                                                0/0          No   \n",
              "\n",
              "     Unnamed: 12  \n",
              "0         tenure  \n",
              "1             11  \n",
              "2             16  \n",
              "3             15  \n",
              "4              7  \n",
              "...          ...  \n",
              "3996          19  \n",
              "3997           1  \n",
              "3998         NaN  \n",
              "3999          10  \n",
              "4000          11  \n",
              "\n",
              "[4001 rows x 13 columns]"
            ]
          },
          "execution_count": 26,
          "metadata": {},
          "output_type": "execute_result"
        }
      ],
      "source": [
        "df[3]"
      ]
    },
    {
      "cell_type": "markdown",
      "id": "ca0dee84-b621-4ac9-8917-7e9fa560a5bc",
      "metadata": {
        "id": "ca0dee84-b621-4ac9-8917-7e9fa560a5bc"
      },
      "source": [
        "#### Change the header"
      ]
    },
    {
      "cell_type": "code",
      "execution_count": null,
      "id": "fcbab576-e0ae-4cd8-beb7-17fe43a34909",
      "metadata": {
        "id": "fcbab576-e0ae-4cd8-beb7-17fe43a34909",
        "outputId": "c7bc8c9c-e6b1-41bc-f64c-4baa47989f15"
      },
      "outputs": [
        {
          "data": {
            "text/html": [
              "<div>\n",
              "<style scoped>\n",
              "    .dataframe tbody tr th:only-of-type {\n",
              "        vertical-align: middle;\n",
              "    }\n",
              "\n",
              "    .dataframe tbody tr th {\n",
              "        vertical-align: top;\n",
              "    }\n",
              "\n",
              "    .dataframe thead th {\n",
              "        text-align: right;\n",
              "    }\n",
              "</style>\n",
              "<table border=\"1\" class=\"dataframe\">\n",
              "  <thead>\n",
              "    <tr style=\"text-align: right;\">\n",
              "      <th></th>\n",
              "      <th>customer_id</th>\n",
              "      <th>first_name</th>\n",
              "      <th>last_name</th>\n",
              "      <th>gender</th>\n",
              "      <th>past_3_years_bike_related_purchases</th>\n",
              "      <th>DOB</th>\n",
              "      <th>job_title</th>\n",
              "      <th>job_industry_category</th>\n",
              "      <th>wealth_segment</th>\n",
              "      <th>deceased_indicator</th>\n",
              "      <th>default</th>\n",
              "      <th>owns_car</th>\n",
              "      <th>tenure</th>\n",
              "    </tr>\n",
              "  </thead>\n",
              "  <tbody>\n",
              "    <tr>\n",
              "      <th>1</th>\n",
              "      <td>1</td>\n",
              "      <td>Laraine</td>\n",
              "      <td>Medendorp</td>\n",
              "      <td>F</td>\n",
              "      <td>93</td>\n",
              "      <td>1953-10-12 00:00:00</td>\n",
              "      <td>Executive Secretary</td>\n",
              "      <td>Health</td>\n",
              "      <td>Mass Customer</td>\n",
              "      <td>N</td>\n",
              "      <td>\"'</td>\n",
              "      <td>Yes</td>\n",
              "      <td>11</td>\n",
              "    </tr>\n",
              "    <tr>\n",
              "      <th>2</th>\n",
              "      <td>2</td>\n",
              "      <td>Eli</td>\n",
              "      <td>Bockman</td>\n",
              "      <td>Male</td>\n",
              "      <td>81</td>\n",
              "      <td>1980-12-16 00:00:00</td>\n",
              "      <td>Administrative Officer</td>\n",
              "      <td>Financial Services</td>\n",
              "      <td>Mass Customer</td>\n",
              "      <td>N</td>\n",
              "      <td>&lt;script&gt;alert('hi')&lt;/script&gt;</td>\n",
              "      <td>Yes</td>\n",
              "      <td>16</td>\n",
              "    </tr>\n",
              "    <tr>\n",
              "      <th>3</th>\n",
              "      <td>3</td>\n",
              "      <td>Arlin</td>\n",
              "      <td>Dearle</td>\n",
              "      <td>Male</td>\n",
              "      <td>61</td>\n",
              "      <td>1954-01-20 00:00:00</td>\n",
              "      <td>Recruiting Manager</td>\n",
              "      <td>Property</td>\n",
              "      <td>Mass Customer</td>\n",
              "      <td>N</td>\n",
              "      <td>2018-02-01 00:00:00</td>\n",
              "      <td>Yes</td>\n",
              "      <td>15</td>\n",
              "    </tr>\n",
              "    <tr>\n",
              "      <th>4</th>\n",
              "      <td>4</td>\n",
              "      <td>Talbot</td>\n",
              "      <td>NaN</td>\n",
              "      <td>Male</td>\n",
              "      <td>33</td>\n",
              "      <td>1961-10-03 00:00:00</td>\n",
              "      <td>NaN</td>\n",
              "      <td>IT</td>\n",
              "      <td>Mass Customer</td>\n",
              "      <td>N</td>\n",
              "      <td>() { _; } &gt;_[$($())] { touch /tmp/blns.shellsh...</td>\n",
              "      <td>No</td>\n",
              "      <td>7</td>\n",
              "    </tr>\n",
              "    <tr>\n",
              "      <th>5</th>\n",
              "      <td>5</td>\n",
              "      <td>Sheila-kathryn</td>\n",
              "      <td>Calton</td>\n",
              "      <td>Female</td>\n",
              "      <td>56</td>\n",
              "      <td>1977-05-13 00:00:00</td>\n",
              "      <td>Senior Editor</td>\n",
              "      <td>NaN</td>\n",
              "      <td>Affluent Customer</td>\n",
              "      <td>N</td>\n",
              "      <td>NIL</td>\n",
              "      <td>Yes</td>\n",
              "      <td>8</td>\n",
              "    </tr>\n",
              "  </tbody>\n",
              "</table>\n",
              "</div>"
            ],
            "text/plain": [
              "  customer_id      first_name  last_name  gender  \\\n",
              "1           1         Laraine  Medendorp       F   \n",
              "2           2             Eli    Bockman    Male   \n",
              "3           3           Arlin     Dearle    Male   \n",
              "4           4          Talbot        NaN    Male   \n",
              "5           5  Sheila-kathryn     Calton  Female   \n",
              "\n",
              "  past_3_years_bike_related_purchases                  DOB  \\\n",
              "1                                  93  1953-10-12 00:00:00   \n",
              "2                                  81  1980-12-16 00:00:00   \n",
              "3                                  61  1954-01-20 00:00:00   \n",
              "4                                  33  1961-10-03 00:00:00   \n",
              "5                                  56  1977-05-13 00:00:00   \n",
              "\n",
              "                job_title job_industry_category     wealth_segment  \\\n",
              "1     Executive Secretary                Health      Mass Customer   \n",
              "2  Administrative Officer    Financial Services      Mass Customer   \n",
              "3      Recruiting Manager              Property      Mass Customer   \n",
              "4                     NaN                    IT      Mass Customer   \n",
              "5           Senior Editor                   NaN  Affluent Customer   \n",
              "\n",
              "  deceased_indicator                                            default  \\\n",
              "1                  N                                                 \"'   \n",
              "2                  N                       <script>alert('hi')</script>   \n",
              "3                  N                                2018-02-01 00:00:00   \n",
              "4                  N  () { _; } >_[$($())] { touch /tmp/blns.shellsh...   \n",
              "5                  N                                                NIL   \n",
              "\n",
              "  owns_car tenure  \n",
              "1      Yes     11  \n",
              "2      Yes     16  \n",
              "3      Yes     15  \n",
              "4       No      7  \n",
              "5      Yes      8  "
            ]
          },
          "execution_count": 27,
          "metadata": {},
          "output_type": "execute_result"
        }
      ],
      "source": [
        "new_header_3 = df[3].iloc[0] \n",
        "custdemo = df[3][1:]\n",
        "custdemo.columns = new_header_3\n",
        "custdemo = custdemo.rename_axis(None, axis = 1)\n",
        "custdemo.head()"
      ]
    },
    {
      "cell_type": "markdown",
      "id": "35284e65-4ee5-4e2a-9af4-d89734b63f12",
      "metadata": {
        "id": "35284e65-4ee5-4e2a-9af4-d89734b63f12"
      },
      "source": [
        "#### Data types"
      ]
    },
    {
      "cell_type": "code",
      "execution_count": null,
      "id": "c885d7f8-8175-4ac3-a7ee-ec19721f6168",
      "metadata": {
        "id": "c885d7f8-8175-4ac3-a7ee-ec19721f6168",
        "outputId": "628f81ec-38d6-4524-f5d3-a447c8d152cf"
      },
      "outputs": [
        {
          "name": "stdout",
          "output_type": "stream",
          "text": [
            "<class 'pandas.core.frame.DataFrame'>\n",
            "RangeIndex: 4000 entries, 1 to 4000\n",
            "Data columns (total 13 columns):\n",
            " #   Column                               Non-Null Count  Dtype \n",
            "---  ------                               --------------  ----- \n",
            " 0   customer_id                          4000 non-null   object\n",
            " 1   first_name                           4000 non-null   object\n",
            " 2   last_name                            3875 non-null   object\n",
            " 3   gender                               4000 non-null   object\n",
            " 4   past_3_years_bike_related_purchases  4000 non-null   object\n",
            " 5   DOB                                  3913 non-null   object\n",
            " 6   job_title                            3494 non-null   object\n",
            " 7   job_industry_category                3344 non-null   object\n",
            " 8   wealth_segment                       4000 non-null   object\n",
            " 9   deceased_indicator                   4000 non-null   object\n",
            " 10  default                              3698 non-null   object\n",
            " 11  owns_car                             4000 non-null   object\n",
            " 12  tenure                               3913 non-null   object\n",
            "dtypes: object(13)\n",
            "memory usage: 406.4+ KB\n"
          ]
        }
      ],
      "source": [
        "custdemo.info()"
      ]
    },
    {
      "cell_type": "code",
      "execution_count": null,
      "id": "161727f1-2541-4cfa-baf2-5e9540460528",
      "metadata": {
        "id": "161727f1-2541-4cfa-baf2-5e9540460528"
      },
      "outputs": [],
      "source": [
        "#change the numerical variable to float\n",
        "custdemo['tenure'] = pd.to_numeric(custdemo['tenure'], errors='coerce')\n",
        "#change the date variable to datetime\n",
        "custdemo['DOB'] =  pd.to_datetime(custdemo['DOB'], format='%Y-%m-%d')"
      ]
    },
    {
      "cell_type": "markdown",
      "id": "c452b221-35e5-4489-88b8-dc181ae0562e",
      "metadata": {
        "id": "c452b221-35e5-4489-88b8-dc181ae0562e"
      },
      "source": [
        "#### Completeness"
      ]
    },
    {
      "cell_type": "code",
      "execution_count": null,
      "id": "6a2ff686-2a05-4718-9c37-70e6a6430fd1",
      "metadata": {
        "id": "6a2ff686-2a05-4718-9c37-70e6a6430fd1",
        "outputId": "42341f95-0569-4815-85d6-026472d53cff"
      },
      "outputs": [
        {
          "data": {
            "text/plain": [
              "customer_id                              0\n",
              "first_name                               0\n",
              "last_name                              125\n",
              "gender                                   0\n",
              "past_3_years_bike_related_purchases      0\n",
              "DOB                                     87\n",
              "job_title                              506\n",
              "job_industry_category                  656\n",
              "wealth_segment                           0\n",
              "deceased_indicator                       0\n",
              "default                                302\n",
              "owns_car                                 0\n",
              "tenure                                  87\n",
              "dtype: int64"
            ]
          },
          "execution_count": 30,
          "metadata": {},
          "output_type": "execute_result"
        }
      ],
      "source": [
        "custdemo.isna().sum()"
      ]
    },
    {
      "cell_type": "markdown",
      "id": "05269287-cfd4-49a4-8d42-5b4fd9bf3674",
      "metadata": {
        "id": "05269287-cfd4-49a4-8d42-5b4fd9bf3674"
      },
      "source": [
        "##### <u>Comment</u>:\n",
        "We found 125 missing values in “last_name” column, 87 blank values in “DOB” and “tenure”, 302 blanks in “default” column, 506 and 656 null values in “job_title” column and “job_industry_category” respectively.\n",
        "- We deal with the missing values in “last_name” column the same way as in NewCustomerList table mentioned above.\n",
        "- 87 rows that contain blanks in “DOB” also contain null values in “tenure”, so we will remove those 87 rows.\n",
        "- We handle the blanks in “job_title” and “job_industry_category” by filling them with the last valid values forward."
      ]
    },
    {
      "cell_type": "code",
      "execution_count": null,
      "id": "932aed7e-69bd-4ac6-9a74-52a77835cc5d",
      "metadata": {
        "id": "932aed7e-69bd-4ac6-9a74-52a77835cc5d"
      },
      "outputs": [],
      "source": [
        "#create a name variable that contains both first name and last name\n",
        "custdemo['name'] = custdemo['first_name'] + ' ' + custdemo['last_name'].fillna('')\n",
        "custdemo.drop(['first_name', 'last_name'], inplace = True, axis = 1)"
      ]
    },
    {
      "cell_type": "code",
      "execution_count": null,
      "id": "2c721aa6-3d36-4ef4-be43-46350b8e8d77",
      "metadata": {
        "id": "2c721aa6-3d36-4ef4-be43-46350b8e8d77"
      },
      "outputs": [],
      "source": [
        "#Remove missing values in DOB \n",
        "custdemo.dropna(subset=['DOB'], inplace=True)\n",
        "custdemo.reset_index(drop=True, inplace=True)"
      ]
    },
    {
      "cell_type": "code",
      "execution_count": null,
      "id": "f114df54-990e-4550-a309-90e6d82df45a",
      "metadata": {
        "id": "f114df54-990e-4550-a309-90e6d82df45a"
      },
      "outputs": [],
      "source": [
        "#fill missing values with the last valid observation forward\n",
        "custdemo['job_title'] = custdemo['job_title'].fillna(method='ffill')"
      ]
    },
    {
      "cell_type": "code",
      "execution_count": null,
      "id": "95037468-0f7e-4459-8820-85444c4dd002",
      "metadata": {
        "id": "95037468-0f7e-4459-8820-85444c4dd002"
      },
      "outputs": [],
      "source": [
        "#fill missing values with the last valid observation forward\n",
        "custdemo['job_industry_category'] = custdemo['job_industry_category'].fillna(method='ffill')"
      ]
    },
    {
      "cell_type": "markdown",
      "id": "d54ef71c-4be6-4f6e-927e-602600d643b1",
      "metadata": {
        "id": "d54ef71c-4be6-4f6e-927e-602600d643b1"
      },
      "source": [
        "#### Accuracy"
      ]
    },
    {
      "cell_type": "code",
      "execution_count": null,
      "id": "4706ed4f-081f-48fb-9c42-1da3ac74d02f",
      "metadata": {
        "id": "4706ed4f-081f-48fb-9c42-1da3ac74d02f",
        "outputId": "065c88f6-4cea-47b8-a680-e4cc3458eb74"
      },
      "outputs": [
        {
          "data": {
            "text/plain": [
              "33     1843-12-21\n",
              "704    1931-10-23\n",
              "1065   1935-08-22\n",
              "3334   1940-09-22\n",
              "2361   1943-08-11\n",
              "Name: DOB, dtype: datetime64[ns]"
            ]
          },
          "execution_count": 35,
          "metadata": {},
          "output_type": "execute_result"
        }
      ],
      "source": [
        "custdemo['DOB'].sort_values().head()"
      ]
    },
    {
      "cell_type": "markdown",
      "id": "179e7b08-5fa5-4e2d-9096-c274353ca32b",
      "metadata": {
        "id": "179e7b08-5fa5-4e2d-9096-c274353ca32b"
      },
      "source": [
        "##### <u>Comment</u>:\n",
        "In “DOB” column, we noticed that 1 person was born in 1843, meaning that he is 175 years old. Knowing that it is not a correct value, we will delete this row in the sheet."
      ]
    },
    {
      "cell_type": "code",
      "execution_count": null,
      "id": "ecf17c83-c2fb-44b1-b119-e88058b648c3",
      "metadata": {
        "id": "ecf17c83-c2fb-44b1-b119-e88058b648c3"
      },
      "outputs": [],
      "source": [
        "#remove outliers from DOB column\n",
        "custdemo.drop(custdemo[custdemo['DOB'] == '1843-12-21'].index, inplace = True)\n",
        "custdemo = custdemo.reset_index(drop= True)"
      ]
    },
    {
      "cell_type": "markdown",
      "id": "3e63f9f8-df5c-40ba-9c0d-59f4c86646ba",
      "metadata": {
        "id": "3e63f9f8-df5c-40ba-9c0d-59f4c86646ba"
      },
      "source": [
        "#### Consistency "
      ]
    },
    {
      "cell_type": "code",
      "execution_count": null,
      "id": "7001cd7f-6d6c-436e-a6ba-ae55f5e86401",
      "metadata": {
        "id": "7001cd7f-6d6c-436e-a6ba-ae55f5e86401",
        "outputId": "3adac1d1-a029-496c-c2e1-a415fb6749a6"
      },
      "outputs": [
        {
          "data": {
            "text/plain": [
              "Female    2037\n",
              "Male      1872\n",
              "F            1\n",
              "Femal        1\n",
              "M            1\n",
              "Name: gender, dtype: int64"
            ]
          },
          "execution_count": 37,
          "metadata": {},
          "output_type": "execute_result"
        }
      ],
      "source": [
        "custdemo['gender'].value_counts()"
      ]
    },
    {
      "cell_type": "markdown",
      "id": "14d48162-f24d-4932-9c97-5704fb6a51f9",
      "metadata": {
        "id": "14d48162-f24d-4932-9c97-5704fb6a51f9"
      },
      "source": [
        "##### <u>Comment</u>:\n",
        "We found some inconsistencies, along with misspellings in “gender” column. "
      ]
    },
    {
      "cell_type": "code",
      "execution_count": null,
      "id": "7e56525c-408e-4b56-9e68-146fcc777da0",
      "metadata": {
        "id": "7e56525c-408e-4b56-9e68-146fcc777da0"
      },
      "outputs": [],
      "source": [
        "#rename value in gender column\n",
        "custdemo['gender'].replace('F', 'Female',inplace=True)\n",
        "custdemo['gender'].replace('M', 'Male',inplace=True)\n",
        "custdemo['gender'].replace('Femal', 'Female',inplace=True)"
      ]
    },
    {
      "cell_type": "markdown",
      "id": "3e4045cc-af11-41a6-8371-5cdd442dcbc6",
      "metadata": {
        "id": "3e4045cc-af11-41a6-8371-5cdd442dcbc6"
      },
      "source": [
        "#### Validity"
      ]
    },
    {
      "cell_type": "markdown",
      "id": "9997027b-fd9f-44d0-a553-5d3d81bdd8f7",
      "metadata": {
        "id": "9997027b-fd9f-44d0-a553-5d3d81bdd8f7"
      },
      "source": [
        "##### <u>Comment</u>:\n",
        "As we only want to analyse dataset from customers that are still alive, we will remove “Y” values from “deceased_indicator”."
      ]
    },
    {
      "cell_type": "code",
      "execution_count": null,
      "id": "5036b55f-fc0a-4f89-8585-7757ee1ceabb",
      "metadata": {
        "id": "5036b55f-fc0a-4f89-8585-7757ee1ceabb"
      },
      "outputs": [],
      "source": [
        "#remove \"Y\" value from decreased_indicator column\n",
        "custdemo.drop(custdemo[custdemo['deceased_indicator'] == 'Y'].index, inplace = True)\n",
        "custdemo = custdemo.reset_index(drop= True)"
      ]
    },
    {
      "cell_type": "markdown",
      "id": "8a446610-fade-4d3b-bcb6-843a0c20a7dc",
      "metadata": {
        "id": "8a446610-fade-4d3b-bcb6-843a0c20a7dc"
      },
      "source": [
        "#### Relevancy"
      ]
    },
    {
      "cell_type": "markdown",
      "id": "2ad5f1e8-4abd-416c-a486-4e7957909c9b",
      "metadata": {
        "id": "2ad5f1e8-4abd-416c-a486-4e7957909c9b"
      },
      "source": [
        "##### <u>Comment</u>:\n",
        "As we couldn’t see any relationship between “default” column and the dataset, we will delete this column from the table."
      ]
    },
    {
      "cell_type": "code",
      "execution_count": null,
      "id": "3fdbbe76-21b7-4adc-a0b2-6fc8aed8cdec",
      "metadata": {
        "id": "3fdbbe76-21b7-4adc-a0b2-6fc8aed8cdec"
      },
      "outputs": [],
      "source": [
        "#drop default variable\n",
        "custdemo.drop(['default'], inplace = True, axis = 1)"
      ]
    },
    {
      "cell_type": "markdown",
      "id": "10b30e70-8f66-4663-bd2c-ed0b6eebd73b",
      "metadata": {
        "id": "10b30e70-8f66-4663-bd2c-ed0b6eebd73b"
      },
      "source": [
        "### 4. CustomerAddress table "
      ]
    },
    {
      "cell_type": "markdown",
      "id": "72e9f89f-1237-428d-a685-fe161bf9e3f4",
      "metadata": {
        "id": "72e9f89f-1237-428d-a685-fe161bf9e3f4"
      },
      "source": [
        "#### First Look At The Data"
      ]
    },
    {
      "cell_type": "code",
      "execution_count": null,
      "id": "f02b6e04-1c16-4575-a660-ef443ee0c376",
      "metadata": {
        "id": "f02b6e04-1c16-4575-a660-ef443ee0c376",
        "outputId": "388a5118-fb09-4824-cc79-4509d0516da1"
      },
      "outputs": [
        {
          "data": {
            "text/html": [
              "<div>\n",
              "<style scoped>\n",
              "    .dataframe tbody tr th:only-of-type {\n",
              "        vertical-align: middle;\n",
              "    }\n",
              "\n",
              "    .dataframe tbody tr th {\n",
              "        vertical-align: top;\n",
              "    }\n",
              "\n",
              "    .dataframe thead th {\n",
              "        text-align: right;\n",
              "    }\n",
              "</style>\n",
              "<table border=\"1\" class=\"dataframe\">\n",
              "  <thead>\n",
              "    <tr style=\"text-align: right;\">\n",
              "      <th></th>\n",
              "      <th>Note: The data and information in this document is reflective of a hypothetical situation and client. This document is to be used for KPMG Virtual Internship purposes only.</th>\n",
              "      <th>Unnamed: 1</th>\n",
              "      <th>Unnamed: 2</th>\n",
              "      <th>Unnamed: 3</th>\n",
              "      <th>Unnamed: 4</th>\n",
              "      <th>Unnamed: 5</th>\n",
              "    </tr>\n",
              "  </thead>\n",
              "  <tbody>\n",
              "    <tr>\n",
              "      <th>0</th>\n",
              "      <td>customer_id</td>\n",
              "      <td>address</td>\n",
              "      <td>postcode</td>\n",
              "      <td>state</td>\n",
              "      <td>country</td>\n",
              "      <td>property_valuation</td>\n",
              "    </tr>\n",
              "    <tr>\n",
              "      <th>1</th>\n",
              "      <td>1</td>\n",
              "      <td>060 Morning Avenue</td>\n",
              "      <td>2016</td>\n",
              "      <td>New South Wales</td>\n",
              "      <td>Australia</td>\n",
              "      <td>10</td>\n",
              "    </tr>\n",
              "    <tr>\n",
              "      <th>2</th>\n",
              "      <td>2</td>\n",
              "      <td>6 Meadow Vale Court</td>\n",
              "      <td>2153</td>\n",
              "      <td>New South Wales</td>\n",
              "      <td>Australia</td>\n",
              "      <td>10</td>\n",
              "    </tr>\n",
              "    <tr>\n",
              "      <th>3</th>\n",
              "      <td>4</td>\n",
              "      <td>0 Holy Cross Court</td>\n",
              "      <td>4211</td>\n",
              "      <td>QLD</td>\n",
              "      <td>Australia</td>\n",
              "      <td>9</td>\n",
              "    </tr>\n",
              "    <tr>\n",
              "      <th>4</th>\n",
              "      <td>5</td>\n",
              "      <td>17979 Del Mar Point</td>\n",
              "      <td>2448</td>\n",
              "      <td>New South Wales</td>\n",
              "      <td>Australia</td>\n",
              "      <td>4</td>\n",
              "    </tr>\n",
              "    <tr>\n",
              "      <th>...</th>\n",
              "      <td>...</td>\n",
              "      <td>...</td>\n",
              "      <td>...</td>\n",
              "      <td>...</td>\n",
              "      <td>...</td>\n",
              "      <td>...</td>\n",
              "    </tr>\n",
              "    <tr>\n",
              "      <th>3995</th>\n",
              "      <td>3999</td>\n",
              "      <td>1482 Hauk Trail</td>\n",
              "      <td>3064</td>\n",
              "      <td>VIC</td>\n",
              "      <td>Australia</td>\n",
              "      <td>3</td>\n",
              "    </tr>\n",
              "    <tr>\n",
              "      <th>3996</th>\n",
              "      <td>4000</td>\n",
              "      <td>57042 Village Green Point</td>\n",
              "      <td>4511</td>\n",
              "      <td>QLD</td>\n",
              "      <td>Australia</td>\n",
              "      <td>6</td>\n",
              "    </tr>\n",
              "    <tr>\n",
              "      <th>3997</th>\n",
              "      <td>4001</td>\n",
              "      <td>87 Crescent Oaks Alley</td>\n",
              "      <td>2756</td>\n",
              "      <td>NSW</td>\n",
              "      <td>Australia</td>\n",
              "      <td>10</td>\n",
              "    </tr>\n",
              "    <tr>\n",
              "      <th>3998</th>\n",
              "      <td>4002</td>\n",
              "      <td>8194 Lien Street</td>\n",
              "      <td>4032</td>\n",
              "      <td>QLD</td>\n",
              "      <td>Australia</td>\n",
              "      <td>7</td>\n",
              "    </tr>\n",
              "    <tr>\n",
              "      <th>3999</th>\n",
              "      <td>4003</td>\n",
              "      <td>320 Acker Drive</td>\n",
              "      <td>2251</td>\n",
              "      <td>NSW</td>\n",
              "      <td>Australia</td>\n",
              "      <td>7</td>\n",
              "    </tr>\n",
              "  </tbody>\n",
              "</table>\n",
              "<p>4000 rows × 6 columns</p>\n",
              "</div>"
            ],
            "text/plain": [
              "     Note: The data and information in this document is reflective of a hypothetical situation and client. This document is to be used for KPMG Virtual Internship purposes only.   \\\n",
              "0                                           customer_id                                                                                                                              \n",
              "1                                                     1                                                                                                                              \n",
              "2                                                     2                                                                                                                              \n",
              "3                                                     4                                                                                                                              \n",
              "4                                                     5                                                                                                                              \n",
              "...                                                 ...                                                                                                                              \n",
              "3995                                               3999                                                                                                                              \n",
              "3996                                               4000                                                                                                                              \n",
              "3997                                               4001                                                                                                                              \n",
              "3998                                               4002                                                                                                                              \n",
              "3999                                               4003                                                                                                                              \n",
              "\n",
              "                     Unnamed: 1 Unnamed: 2       Unnamed: 3 Unnamed: 4  \\\n",
              "0                       address   postcode            state    country   \n",
              "1            060 Morning Avenue       2016  New South Wales  Australia   \n",
              "2           6 Meadow Vale Court       2153  New South Wales  Australia   \n",
              "3            0 Holy Cross Court       4211              QLD  Australia   \n",
              "4           17979 Del Mar Point       2448  New South Wales  Australia   \n",
              "...                         ...        ...              ...        ...   \n",
              "3995            1482 Hauk Trail       3064              VIC  Australia   \n",
              "3996  57042 Village Green Point       4511              QLD  Australia   \n",
              "3997     87 Crescent Oaks Alley       2756              NSW  Australia   \n",
              "3998           8194 Lien Street       4032              QLD  Australia   \n",
              "3999            320 Acker Drive       2251              NSW  Australia   \n",
              "\n",
              "              Unnamed: 5  \n",
              "0     property_valuation  \n",
              "1                     10  \n",
              "2                     10  \n",
              "3                      9  \n",
              "4                      4  \n",
              "...                  ...  \n",
              "3995                   3  \n",
              "3996                   6  \n",
              "3997                  10  \n",
              "3998                   7  \n",
              "3999                   7  \n",
              "\n",
              "[4000 rows x 6 columns]"
            ]
          },
          "execution_count": 41,
          "metadata": {},
          "output_type": "execute_result"
        }
      ],
      "source": [
        "df[4]"
      ]
    },
    {
      "cell_type": "markdown",
      "id": "a3080ea0-5fdd-4db1-a8d3-812c06f7bd91",
      "metadata": {
        "id": "a3080ea0-5fdd-4db1-a8d3-812c06f7bd91"
      },
      "source": [
        "#### Change the header"
      ]
    },
    {
      "cell_type": "code",
      "execution_count": null,
      "id": "45f361aa-0671-4664-a9c7-55ca7ce15e62",
      "metadata": {
        "id": "45f361aa-0671-4664-a9c7-55ca7ce15e62",
        "outputId": "e453ab0a-117b-4e1c-c3ad-e3ef213c212a"
      },
      "outputs": [
        {
          "data": {
            "text/html": [
              "<div>\n",
              "<style scoped>\n",
              "    .dataframe tbody tr th:only-of-type {\n",
              "        vertical-align: middle;\n",
              "    }\n",
              "\n",
              "    .dataframe tbody tr th {\n",
              "        vertical-align: top;\n",
              "    }\n",
              "\n",
              "    .dataframe thead th {\n",
              "        text-align: right;\n",
              "    }\n",
              "</style>\n",
              "<table border=\"1\" class=\"dataframe\">\n",
              "  <thead>\n",
              "    <tr style=\"text-align: right;\">\n",
              "      <th></th>\n",
              "      <th>customer_id</th>\n",
              "      <th>address</th>\n",
              "      <th>postcode</th>\n",
              "      <th>state</th>\n",
              "      <th>country</th>\n",
              "      <th>property_valuation</th>\n",
              "    </tr>\n",
              "  </thead>\n",
              "  <tbody>\n",
              "    <tr>\n",
              "      <th>1</th>\n",
              "      <td>1</td>\n",
              "      <td>060 Morning Avenue</td>\n",
              "      <td>2016</td>\n",
              "      <td>New South Wales</td>\n",
              "      <td>Australia</td>\n",
              "      <td>10</td>\n",
              "    </tr>\n",
              "    <tr>\n",
              "      <th>2</th>\n",
              "      <td>2</td>\n",
              "      <td>6 Meadow Vale Court</td>\n",
              "      <td>2153</td>\n",
              "      <td>New South Wales</td>\n",
              "      <td>Australia</td>\n",
              "      <td>10</td>\n",
              "    </tr>\n",
              "    <tr>\n",
              "      <th>3</th>\n",
              "      <td>4</td>\n",
              "      <td>0 Holy Cross Court</td>\n",
              "      <td>4211</td>\n",
              "      <td>QLD</td>\n",
              "      <td>Australia</td>\n",
              "      <td>9</td>\n",
              "    </tr>\n",
              "    <tr>\n",
              "      <th>4</th>\n",
              "      <td>5</td>\n",
              "      <td>17979 Del Mar Point</td>\n",
              "      <td>2448</td>\n",
              "      <td>New South Wales</td>\n",
              "      <td>Australia</td>\n",
              "      <td>4</td>\n",
              "    </tr>\n",
              "    <tr>\n",
              "      <th>5</th>\n",
              "      <td>6</td>\n",
              "      <td>9 Oakridge Court</td>\n",
              "      <td>3216</td>\n",
              "      <td>VIC</td>\n",
              "      <td>Australia</td>\n",
              "      <td>9</td>\n",
              "    </tr>\n",
              "  </tbody>\n",
              "</table>\n",
              "</div>"
            ],
            "text/plain": [
              "  customer_id              address postcode            state    country  \\\n",
              "1           1   060 Morning Avenue     2016  New South Wales  Australia   \n",
              "2           2  6 Meadow Vale Court     2153  New South Wales  Australia   \n",
              "3           4   0 Holy Cross Court     4211              QLD  Australia   \n",
              "4           5  17979 Del Mar Point     2448  New South Wales  Australia   \n",
              "5           6     9 Oakridge Court     3216              VIC  Australia   \n",
              "\n",
              "  property_valuation  \n",
              "1                 10  \n",
              "2                 10  \n",
              "3                  9  \n",
              "4                  4  \n",
              "5                  9  "
            ]
          },
          "execution_count": 42,
          "metadata": {},
          "output_type": "execute_result"
        }
      ],
      "source": [
        "new_header_4 = df[4].iloc[0] \n",
        "address = df[4][1:]\n",
        "address.columns = new_header_4\n",
        "address = address.rename_axis(None, axis = 1)\n",
        "address.head()"
      ]
    },
    {
      "cell_type": "markdown",
      "id": "02bfce81-e263-4d42-a22c-5855db2f6819",
      "metadata": {
        "id": "02bfce81-e263-4d42-a22c-5855db2f6819"
      },
      "source": [
        "#### Data types"
      ]
    },
    {
      "cell_type": "code",
      "execution_count": null,
      "id": "a1ce2ee3-f783-472c-8ec4-86adb1b82f6b",
      "metadata": {
        "id": "a1ce2ee3-f783-472c-8ec4-86adb1b82f6b",
        "outputId": "f8236783-95a5-428e-c0a4-d0afa52687f4"
      },
      "outputs": [
        {
          "name": "stdout",
          "output_type": "stream",
          "text": [
            "<class 'pandas.core.frame.DataFrame'>\n",
            "RangeIndex: 3999 entries, 1 to 3999\n",
            "Data columns (total 6 columns):\n",
            " #   Column              Non-Null Count  Dtype \n",
            "---  ------              --------------  ----- \n",
            " 0   customer_id         3999 non-null   object\n",
            " 1   address             3999 non-null   object\n",
            " 2   postcode            3999 non-null   object\n",
            " 3   state               3999 non-null   object\n",
            " 4   country             3999 non-null   object\n",
            " 5   property_valuation  3999 non-null   object\n",
            "dtypes: object(6)\n",
            "memory usage: 187.6+ KB\n"
          ]
        }
      ],
      "source": [
        "address.info()"
      ]
    },
    {
      "cell_type": "code",
      "execution_count": null,
      "id": "f62e5f2d-6ba4-47ad-90b7-cf0374f1a51d",
      "metadata": {
        "id": "f62e5f2d-6ba4-47ad-90b7-cf0374f1a51d"
      },
      "outputs": [],
      "source": [
        "#### Completeness"
      ]
    },
    {
      "cell_type": "code",
      "execution_count": null,
      "id": "38467b8f-ba4e-4d22-8aa4-a713ded95ab1",
      "metadata": {
        "id": "38467b8f-ba4e-4d22-8aa4-a713ded95ab1",
        "outputId": "60280db0-11b1-4dca-9ef3-9ea397ce63a6"
      },
      "outputs": [
        {
          "data": {
            "text/plain": [
              "customer_id           0\n",
              "address               0\n",
              "postcode              0\n",
              "state                 0\n",
              "country               0\n",
              "property_valuation    0\n",
              "dtype: int64"
            ]
          },
          "execution_count": 45,
          "metadata": {},
          "output_type": "execute_result"
        }
      ],
      "source": [
        "address.isna().sum()"
      ]
    },
    {
      "cell_type": "markdown",
      "id": "cf50183e-0d0f-4237-8b62-0397d744d477",
      "metadata": {
        "id": "cf50183e-0d0f-4237-8b62-0397d744d477"
      },
      "source": [
        "##### <u>Comment</u>:\n",
        "There is no missing value in this dataframe."
      ]
    },
    {
      "cell_type": "markdown",
      "id": "bdc3fc79-0639-44a3-859e-e978a65bd3da",
      "metadata": {
        "id": "bdc3fc79-0639-44a3-859e-e978a65bd3da"
      },
      "source": [
        "#### Consistency"
      ]
    },
    {
      "cell_type": "code",
      "execution_count": null,
      "id": "7fea2ad5-19fb-46f0-ac18-a6fcac5ba0a0",
      "metadata": {
        "id": "7fea2ad5-19fb-46f0-ac18-a6fcac5ba0a0",
        "outputId": "ff5160cf-7c9a-47c6-8d96-731abe8742e3"
      },
      "outputs": [
        {
          "data": {
            "text/plain": [
              "NSW                2054\n",
              "VIC                 939\n",
              "QLD                 838\n",
              "New South Wales      86\n",
              "Victoria             82\n",
              "Name: state, dtype: int64"
            ]
          },
          "execution_count": 46,
          "metadata": {},
          "output_type": "execute_result"
        }
      ],
      "source": [
        "address['state'].value_counts()"
      ]
    },
    {
      "cell_type": "markdown",
      "id": "80caca8b-0d43-407d-bf36-1cb3bc6ebb0b",
      "metadata": {
        "id": "80caca8b-0d43-407d-bf36-1cb3bc6ebb0b"
      },
      "source": [
        "##### <u>Comment</u>:\n",
        "There are some inconsistencies in “state” column. Therefore, we will change “New South Wales” to “NSW” and “Victoria” to “VIC”."
      ]
    },
    {
      "cell_type": "code",
      "execution_count": null,
      "id": "8ad54098-80ab-4623-b0d8-aa4bcfe2b07d",
      "metadata": {
        "id": "8ad54098-80ab-4623-b0d8-aa4bcfe2b07d"
      },
      "outputs": [],
      "source": [
        "#rename value in state column\n",
        "address['state'].replace('New South Wales', 'NSW',inplace=True)\n",
        "address['state'].replace('Victoria', 'VIC',inplace=True)"
      ]
    },
    {
      "cell_type": "markdown",
      "id": "1060354d-3e25-4e28-ba51-c530d09dc5ee",
      "metadata": {
        "id": "1060354d-3e25-4e28-ba51-c530d09dc5ee"
      },
      "source": [
        "#### Additional values"
      ]
    },
    {
      "cell_type": "markdown",
      "id": "c59dae6a-dee7-49b7-bb94-b7b5977e5c3c",
      "metadata": {
        "id": "c59dae6a-dee7-49b7-bb94-b7b5977e5c3c"
      },
      "source": [
        "##### <u>Comment</u>:\n",
        "There are some additional customer_ids in the Transactions table and Customer Address table but not in Customer Demographic table. Therefore, we will remove all extra values in these tables."
      ]
    },
    {
      "cell_type": "code",
      "execution_count": null,
      "id": "3ca89e9e-d57f-476e-8bba-ef7427924063",
      "metadata": {
        "id": "3ca89e9e-d57f-476e-8bba-ef7427924063"
      },
      "outputs": [],
      "source": [
        "transactions.drop(transactions[transactions['customer_id'] == 5034].index, inplace = True)\n",
        "transactions = transactions.reset_index(drop= True)\n",
        "address.drop(address[(address['customer_id'] == 4001) | (address['customer_id'] == 4002) | (address['customer_id'] == 4003)].index, inplace = True)\n",
        "address = address.reset_index(drop= True)"
      ]
    },
    {
      "cell_type": "markdown",
      "id": "5e748f2e-97fc-4155-a2b8-a8fca152ab95",
      "metadata": {
        "id": "5e748f2e-97fc-4155-a2b8-a8fca152ab95"
      },
      "source": [
        "### Save file"
      ]
    },
    {
      "cell_type": "code",
      "execution_count": null,
      "id": "34d0d758-1b42-4d1b-b53e-b43ab1c7008e",
      "metadata": {
        "id": "34d0d758-1b42-4d1b-b53e-b43ab1c7008e"
      },
      "outputs": [],
      "source": [
        "writer = pd.ExcelWriter('KPMG_task1.xlsx')\n",
        "transactions.to_excel(writer, index=False, sheet_name='Transactions')\n",
        "newcust.to_excel(writer, index=False, sheet_name='NewCustomerList')\n",
        "custdemo.to_excel(writer, index=False, sheet_name='CustomerDemographic')\n",
        "address.to_excel(writer, index=False, sheet_name='CustomerAddress')\n",
        "writer.save()"
      ]
    }
  ],
  "metadata": {
    "kernelspec": {
      "display_name": "Python 3 (ipykernel)",
      "language": "python",
      "name": "python3"
    },
    "language_info": {
      "codemirror_mode": {
        "name": "ipython",
        "version": 3
      },
      "file_extension": ".py",
      "mimetype": "text/x-python",
      "name": "python",
      "nbconvert_exporter": "python",
      "pygments_lexer": "ipython3",
      "version": "3.9.12"
    },
    "colab": {
      "provenance": [],
      "include_colab_link": true
    }
  },
  "nbformat": 4,
  "nbformat_minor": 5
}